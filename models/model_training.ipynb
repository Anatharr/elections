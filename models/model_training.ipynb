{
 "cells": [
  {
   "cell_type": "markdown",
   "id": "c8eddec0",
   "metadata": {},
   "source": [
    "# Import libraries"
   ]
  },
  {
   "cell_type": "code",
   "execution_count": 2,
   "id": "cabafd21",
   "metadata": {},
   "outputs": [],
   "source": [
    "import pandas as pd\n",
    "import tensorflow as tf\n",
    "import numpy as np\n",
    "from matplotlib import pyplot\n",
    "import math"
   ]
  },
  {
   "source": [
    "# Load Data"
   ],
   "cell_type": "markdown",
   "metadata": {}
  },
  {
   "cell_type": "code",
   "execution_count": 12,
   "metadata": {},
   "outputs": [
    {
     "output_type": "execute_result",
     "data": {
      "text/plain": [
       "Index(['Libellé du Canton', 'Inscrits', 'Abstentions', 'Votants', 'Blancs',\n",
       "       'Nuls', 'Exprimés', 'Binôme_0', 'Nuance_0', 'Voix_0', '%Voix/Exp_0',\n",
       "       '%Voix/Ins_0', 'Binôme_1', 'Nuance_1', 'Voix_1', '%Voix/Exp_1',\n",
       "       '%Voix/Ins_1', 'Binôme_2', 'Nuance_2', 'Voix_2', '%Voix/Exp_2',\n",
       "       '%Voix/Ins_2', 'Binôme_3', 'Nuance_3', 'Voix_3', '%Voix/Exp_3',\n",
       "       '%Voix/Ins_3', 'Binôme_4', 'Nuance_4', 'Voix_4', '%Voix/Exp_4',\n",
       "       '%Voix/Ins_4', 'Binôme_5', 'Nuance_5', 'Voix_5', '%Voix/Exp_5',\n",
       "       '%Voix/Ins_5', 'Binôme_6', 'Nuance_6', 'Voix_6', '%Voix/Exp_6',\n",
       "       '%Voix/Ins_6', 'Binôme_7', 'Nuance_7', 'Voix_7', '%Voix/Exp_7',\n",
       "       '%Voix/Ins_7', 'Binôme_8', 'Nuance_8', 'Voix_8', '%Voix/Exp_8',\n",
       "       '%Voix/Ins_8', 'Binôme_9', 'Nuance_9', 'Voix_9', '%Voix/Exp_9',\n",
       "       '%Voix/Ins_9', 'Binôme_10', 'Nuance_10', 'Voix_10', '%Voix/Exp_10',\n",
       "       '%Voix/Ins_10', 'Binôme_11', 'Nuance_11', 'Voix_11', '%Voix/Exp_11',\n",
       "       '%Voix/Ins_11', 'Binôme_12', 'Nuance_12', 'Voix_12', '%Voix/Exp_12',\n",
       "       '%Voix/Ins_12', 'Binôme_13', 'Nuance_13', 'Voix_13', '%Voix/Exp_13',\n",
       "       '%Voix/Ins_13'],\n",
       "      dtype='object')"
      ]
     },
     "metadata": {},
     "execution_count": 12
    }
   ],
   "source": [
    "\n",
    "\n",
    "data = pd.read_csv(\"../dataset/raw/Dep_21_CanLine.csv\", sep=';', index_col=[0,1])\n",
    "\n",
    "# X = pd.read_csv('../dataset/inputs/XDataCher_Bvot.csv', sep=';', index_col=[0,1,2,3])\n",
    "# y = pd.read_csv('../dataset/labels/yDataCher_Bvot.csv', sep=';', index_col=[0,1,2,3])\n",
    "\n",
    "# yCols = ['target_'+c for c in y.columns]\n",
    "# XCols = X.columns\n",
    "# y.columns = yCols\n",
    "\n",
    "# X.sort_values(['CODCAN', 'CODSUBCOM'])\n",
    "data.columns"
   ]
  },
  {
   "cell_type": "code",
   "execution_count": 13,
   "metadata": {},
   "outputs": [],
   "source": [
    "for i in range(getNbBinomes(data)):\n",
    "    data['%Voix/Ins_'+str(i)] = (100 * data['Voix_'+str(i)] / data['Inscrits']).round(2)\n",
    "\n",
    "cols = ['Libellé du Canton', 'Inscrits', 'Abstentions', 'Votants', 'Blancs', 'Nuls', 'Exprimés'] + [h+'_'+str(i) for i in range(getNbBinomes(data)) for h in ['Binôme', 'Nuance', 'Voix', '%Voix/Exp', '%Voix/Ins']]\n",
    "data = data.reindex(cols, axis=1)\n",
    "\n",
    "data.to_csv(\"../dataset/raw/Dep_21_CanLine.csv\", sep=';')"
   ]
  },
  {
   "cell_type": "code",
   "execution_count": 6,
   "metadata": {},
   "outputs": [],
   "source": [
    "def getNbBinomes(data):\n",
    "    return len([header for header in data.columns if \"Binôme\" in header])\n",
    "\n",
    "def getAllNuances(data, colNuance='CODNUA', fmt='exploded'):\n",
    "    if fmt not in ['exploded', 'line']:\n",
    "        raise ValueError(\"format parameter must be 'exploded' or 'line'\")\n",
    "    \n",
    "    if fmt == 'exploded':\n",
    "        nuances = data[colNuance].unique()\n",
    "    \n",
    "    if fmt == 'line':\n",
    "        nuances = np.array([])\n",
    "        nuances_tmp = data[colNuance].fillna(0)\n",
    "        for c in nuances_tmp:\n",
    "            nuances = np.append(nuances, nuances_tmp[c])\n",
    "        nuances = np.unique(nuances[nuances!=0])\n",
    "    \n",
    "    return sorted(nuances)\n"
   ]
  },
  {
   "cell_type": "code",
   "execution_count": 40,
   "metadata": {},
   "outputs": [],
   "source": [
    "def explodeLines(data):\n",
    "    initdf = data[['Code du département', 'Libellé du département', 'Code du canton', \n",
    "            'Libellé du canton', 'Inscrits', 'Abstentions', '% Abs/Ins', 'Votants',\n",
    "            '% Vot/Ins', 'Blancs', '% Blancs/Ins', '% Blancs/Vot', 'Nuls', '% Nuls/Ins',\n",
    "            '% Nuls/Vot', 'Exprimés', '% Exp/Ins', '% Exp/Vot']]\n",
    "    headers = ['N°Panneau', 'Nuance', 'Binôme', 'Sièges', 'Voix', '% Voix/Ins', '% Voix/Exp']\n",
    "    \n",
    "    df = pd.DataFrame()\n",
    "    for i in range(getNbBinomes(data)):\n",
    "        partidf = data[[h+'.'+str(i) if i!=0 else h for h in headers]]\n",
    "        partidf = pd.concat([initdf, partidf], axis=1)\n",
    "        partidf.columns = pd.Index(initdf.columns.values.tolist() + headers)\n",
    "        df = pd.concat([df, partidf])\n",
    "    \n",
    "    # Remove useless rows\n",
    "    df = df.dropna(how='all', subset=headers)\n",
    "    \n",
    "    return df\n",
    "\n",
    "\n",
    "def prepareInputDataExploded(data):\n",
    "    tmp = data[['Code du département', 'Code du canton', 'Inscrits', 'Exprimés', 'Votants', '% Abs/Ins', '% Exp/Vot', *[h+'.'+str(i) if i!=0 else h for i in range(getNbBinomes(data)) for h in ['Nuance', 'Voix']] ]].copy()\n",
    "\n",
    "    # #dictionnaire des duels\n",
    "    # duels = dict()\n",
    "    # count=0\n",
    "    # for dep in dataCanton['Code du département'].unique():\n",
    "    #     duels[str(dep)], count = getDuels(dataCanton, dep, count=count)\n",
    "    #     if duels[str(dep)]==[]:\n",
    "    #         print('empty list for dep : ', dep)\n",
    "\n",
    "    # #dictionnaire optimisé\n",
    "    # optDuels = optimizeDuelDict(duels)\n",
    "    # winnersT1 = [duel.split(':') for duel in list(optDuels.keys()) if len(duel.split(':'))<2]\n",
    "\n",
    "    # correction = [str(i) for i in range(1,10)]\n",
    "    # for winner in winnersT1:\n",
    "    #      for dep, can in optDuels[winner[0]]:\n",
    "    #         if dep in correction:\n",
    "    #             tmp = tmp.loc[~((tmp['CODDPT']=='0'+dep) & (tmp['CODCAN']==int(can)))]\n",
    "    #         else:\n",
    "    #             tmp = tmp.loc[~((tmp['CODDPT']==dep) & (tmp['CODCAN']==int(can)))]\n",
    "    \n",
    "    # Compute missing data\n",
    "    tmp['NBRBLCNUL'] = tmp['Votants'] - tmp['Exprimés']\n",
    "    tmp['%BLCNUL/VOT'] = tmp['NBRBLCNUL'] / tmp['Votants']\n",
    "\n",
    "    nuances = getAllNuances(data, colNuance=['Nuance.'+str(i) if i!=0 else 'Nuance' for i in range(getNbBinomes(data))], fmt=\"line\")\n",
    "    statsFeatures = ['Inscrits', 'Exprimés', '% Abs/Ins', '%BLCNUL/VOT', '% Exp/Vot']\n",
    "    idFeatures = ['Code du département', 'Code du canton']\n",
    "\n",
    "    exprimes = tmp[idFeatures + ['Exprimés']].drop_duplicates().sort_values(idFeatures)['Exprimés']\n",
    "    stats = tmp[idFeatures + statsFeatures].drop_duplicates()[statsFeatures]\n",
    "    ids = tmp[idFeatures].drop_duplicates()\n",
    "\n",
    "    # Create [%Voix] and fill it\n",
    "    voix = pd.DataFrame(0, index=data.index, columns=nuances)\n",
    "    for parti in nuances:\n",
    "        voix.loc[data['Nuance']==parti, parti] = tmp[tmp['Nuance']==parti]['Voix']\n",
    "    voix = pd.concat([tmp[idFeatures], voix], axis=1).groupby(idFeatures).sum()[nuances]\n",
    "    voix.index = exprimes.index\n",
    "\n",
    "    # Concat with computed stats and divide almost everything by Exprimés\n",
    "    voix = voix.divide(exprimes, axis=0)\n",
    "    X = pd.concat([stats, voix], axis=1)\n",
    "    X.index = pd.MultiIndex.from_frame(ids)\n",
    "    return X.sort_values(idFeatures)\n"
   ]
  },
  {
   "cell_type": "code",
   "execution_count": 46,
   "metadata": {},
   "outputs": [
    {
     "output_type": "execute_result",
     "data": {
      "text/plain": [
       "                                    Inscrits  Exprimés  % Abs/Ins  \\\n",
       "Code du département Code du canton                                  \n",
       "1                   1                  19027      9058      50.39   \n",
       "                    2                  16739      8492      46.72   \n",
       "                    3                  12773      5520      55.04   \n",
       "                    4                  16868      9184      43.20   \n",
       "                    5                  19929      9384      51.70   \n",
       "...                                      ...       ...        ...   \n",
       "ZM                  9                   9435      5973      33.81   \n",
       "                    10                  7360      4571      34.33   \n",
       "                    11                  3793      2335      36.12   \n",
       "                    12                  9604      5920      35.81   \n",
       "                    13                  7336      4802      32.97   \n",
       "\n",
       "                                    %BLCNUL/VOT  % Exp/Vot    BC-COM  \\\n",
       "Code du département Code du canton                                     \n",
       "1                   1                  0.040364      95.96  0.075513   \n",
       "                    2                  0.047875      95.21  0.000000   \n",
       "                    3                  0.038830      96.12  0.000000   \n",
       "                    4                  0.041436      95.86  0.079813   \n",
       "                    5                  0.025039      97.50  0.049979   \n",
       "...                                         ...        ...       ...   \n",
       "ZM                  9                  0.043555      95.64  0.000000   \n",
       "                    10                 0.054211      94.58  0.000000   \n",
       "                    11                 0.036319      96.37  0.000000   \n",
       "                    12                 0.039740      96.03  0.000000   \n",
       "                    13                 0.023388      97.66  0.000000   \n",
       "\n",
       "                                      BC-DIV  BC-DLF    BC-DVD    BC-DVG  ...  \\\n",
       "Code du département Code du canton                                        ...   \n",
       "1                   1               0.000000     0.0  0.000000  0.000000  ...   \n",
       "                    2               0.000000     0.0  0.000000  0.000000  ...   \n",
       "                    3               0.000000     0.0  0.000000  0.000000  ...   \n",
       "                    4               0.000000     0.0  0.000000  0.000000  ...   \n",
       "                    5               0.000000     0.0  0.000000  0.000000  ...   \n",
       "...                                      ...     ...       ...       ...  ...   \n",
       "ZM                  9               0.000000     0.0  0.086891  0.264859  ...   \n",
       "                    10              0.251367     0.0  0.046161  0.000000  ...   \n",
       "                    11              0.000000     0.0  0.623126  0.292934  ...   \n",
       "                    12              0.000000     0.0  0.289358  0.274662  ...   \n",
       "                    13              0.043315     0.0  0.000000  0.152020  ...   \n",
       "\n",
       "                                      BC-MDM  BC-PG  BC-RDG    BC-SOC  BC-UC  \\\n",
       "Code du département Code du canton                                             \n",
       "1                   1               0.000000    0.0     0.0  0.000000    0.0   \n",
       "                    2               0.000000    0.0     0.0  0.000000    0.0   \n",
       "                    3               0.000000    0.0     0.0  0.000000    0.0   \n",
       "                    4               0.000000    0.0     0.0  0.000000    0.0   \n",
       "                    5               0.000000    0.0     0.0  0.000000    0.0   \n",
       "...                                      ...    ...     ...       ...    ...   \n",
       "ZM                  9               0.000000    0.0     0.0  0.000000    0.0   \n",
       "                    10              0.231459    0.0     0.0  0.000000    0.0   \n",
       "                    11              0.000000    0.0     0.0  0.000000    0.0   \n",
       "                    12              0.000000    0.0     0.0  0.000000    0.0   \n",
       "                    13              0.000000    0.0     0.0  0.245314    0.0   \n",
       "\n",
       "                                       BC-UD    BC-UDI     BC-UG    BC-UMP  \\\n",
       "Code du département Code du canton                                           \n",
       "1                   1               0.283948  0.000000  0.232722  0.000000   \n",
       "                    2               0.374823  0.000000  0.334903  0.000000   \n",
       "                    3               0.192935  0.000000  0.530797  0.000000   \n",
       "                    4               0.339939  0.000000  0.310867  0.000000   \n",
       "                    5               0.420823  0.000000  0.345588  0.000000   \n",
       "...                                      ...       ...       ...       ...   \n",
       "ZM                  9               0.000000  0.316089  0.000000  0.298845   \n",
       "                    10              0.000000  0.000000  0.000000  0.471013   \n",
       "                    11              0.000000  0.000000  0.000000  0.083940   \n",
       "                    12              0.000000  0.000000  0.000000  0.435980   \n",
       "                    13              0.000000  0.189296  0.000000  0.370054   \n",
       "\n",
       "                                      BC-VEC  \n",
       "Code du département Code du canton            \n",
       "1                   1               0.081144  \n",
       "                    2               0.000000  \n",
       "                    3               0.000000  \n",
       "                    4               0.000000  \n",
       "                    5               0.000000  \n",
       "...                                      ...  \n",
       "ZM                  9               0.000000  \n",
       "                    10              0.000000  \n",
       "                    11              0.000000  \n",
       "                    12              0.000000  \n",
       "                    13              0.000000  \n",
       "\n",
       "[2054 rows x 24 columns]"
      ],
      "text/html": "<div>\n<style scoped>\n    .dataframe tbody tr th:only-of-type {\n        vertical-align: middle;\n    }\n\n    .dataframe tbody tr th {\n        vertical-align: top;\n    }\n\n    .dataframe thead th {\n        text-align: right;\n    }\n</style>\n<table border=\"1\" class=\"dataframe\">\n  <thead>\n    <tr style=\"text-align: right;\">\n      <th></th>\n      <th></th>\n      <th>Inscrits</th>\n      <th>Exprimés</th>\n      <th>% Abs/Ins</th>\n      <th>%BLCNUL/VOT</th>\n      <th>% Exp/Vot</th>\n      <th>BC-COM</th>\n      <th>BC-DIV</th>\n      <th>BC-DLF</th>\n      <th>BC-DVD</th>\n      <th>BC-DVG</th>\n      <th>...</th>\n      <th>BC-MDM</th>\n      <th>BC-PG</th>\n      <th>BC-RDG</th>\n      <th>BC-SOC</th>\n      <th>BC-UC</th>\n      <th>BC-UD</th>\n      <th>BC-UDI</th>\n      <th>BC-UG</th>\n      <th>BC-UMP</th>\n      <th>BC-VEC</th>\n    </tr>\n    <tr>\n      <th>Code du département</th>\n      <th>Code du canton</th>\n      <th></th>\n      <th></th>\n      <th></th>\n      <th></th>\n      <th></th>\n      <th></th>\n      <th></th>\n      <th></th>\n      <th></th>\n      <th></th>\n      <th></th>\n      <th></th>\n      <th></th>\n      <th></th>\n      <th></th>\n      <th></th>\n      <th></th>\n      <th></th>\n      <th></th>\n      <th></th>\n      <th></th>\n    </tr>\n  </thead>\n  <tbody>\n    <tr>\n      <th rowspan=\"5\" valign=\"top\">1</th>\n      <th>1</th>\n      <td>19027</td>\n      <td>9058</td>\n      <td>50.39</td>\n      <td>0.040364</td>\n      <td>95.96</td>\n      <td>0.075513</td>\n      <td>0.000000</td>\n      <td>0.0</td>\n      <td>0.000000</td>\n      <td>0.000000</td>\n      <td>...</td>\n      <td>0.000000</td>\n      <td>0.0</td>\n      <td>0.0</td>\n      <td>0.000000</td>\n      <td>0.0</td>\n      <td>0.283948</td>\n      <td>0.000000</td>\n      <td>0.232722</td>\n      <td>0.000000</td>\n      <td>0.081144</td>\n    </tr>\n    <tr>\n      <th>2</th>\n      <td>16739</td>\n      <td>8492</td>\n      <td>46.72</td>\n      <td>0.047875</td>\n      <td>95.21</td>\n      <td>0.000000</td>\n      <td>0.000000</td>\n      <td>0.0</td>\n      <td>0.000000</td>\n      <td>0.000000</td>\n      <td>...</td>\n      <td>0.000000</td>\n      <td>0.0</td>\n      <td>0.0</td>\n      <td>0.000000</td>\n      <td>0.0</td>\n      <td>0.374823</td>\n      <td>0.000000</td>\n      <td>0.334903</td>\n      <td>0.000000</td>\n      <td>0.000000</td>\n    </tr>\n    <tr>\n      <th>3</th>\n      <td>12773</td>\n      <td>5520</td>\n      <td>55.04</td>\n      <td>0.038830</td>\n      <td>96.12</td>\n      <td>0.000000</td>\n      <td>0.000000</td>\n      <td>0.0</td>\n      <td>0.000000</td>\n      <td>0.000000</td>\n      <td>...</td>\n      <td>0.000000</td>\n      <td>0.0</td>\n      <td>0.0</td>\n      <td>0.000000</td>\n      <td>0.0</td>\n      <td>0.192935</td>\n      <td>0.000000</td>\n      <td>0.530797</td>\n      <td>0.000000</td>\n      <td>0.000000</td>\n    </tr>\n    <tr>\n      <th>4</th>\n      <td>16868</td>\n      <td>9184</td>\n      <td>43.20</td>\n      <td>0.041436</td>\n      <td>95.86</td>\n      <td>0.079813</td>\n      <td>0.000000</td>\n      <td>0.0</td>\n      <td>0.000000</td>\n      <td>0.000000</td>\n      <td>...</td>\n      <td>0.000000</td>\n      <td>0.0</td>\n      <td>0.0</td>\n      <td>0.000000</td>\n      <td>0.0</td>\n      <td>0.339939</td>\n      <td>0.000000</td>\n      <td>0.310867</td>\n      <td>0.000000</td>\n      <td>0.000000</td>\n    </tr>\n    <tr>\n      <th>5</th>\n      <td>19929</td>\n      <td>9384</td>\n      <td>51.70</td>\n      <td>0.025039</td>\n      <td>97.50</td>\n      <td>0.049979</td>\n      <td>0.000000</td>\n      <td>0.0</td>\n      <td>0.000000</td>\n      <td>0.000000</td>\n      <td>...</td>\n      <td>0.000000</td>\n      <td>0.0</td>\n      <td>0.0</td>\n      <td>0.000000</td>\n      <td>0.0</td>\n      <td>0.420823</td>\n      <td>0.000000</td>\n      <td>0.345588</td>\n      <td>0.000000</td>\n      <td>0.000000</td>\n    </tr>\n    <tr>\n      <th>...</th>\n      <th>...</th>\n      <td>...</td>\n      <td>...</td>\n      <td>...</td>\n      <td>...</td>\n      <td>...</td>\n      <td>...</td>\n      <td>...</td>\n      <td>...</td>\n      <td>...</td>\n      <td>...</td>\n      <td>...</td>\n      <td>...</td>\n      <td>...</td>\n      <td>...</td>\n      <td>...</td>\n      <td>...</td>\n      <td>...</td>\n      <td>...</td>\n      <td>...</td>\n      <td>...</td>\n      <td>...</td>\n    </tr>\n    <tr>\n      <th rowspan=\"5\" valign=\"top\">ZM</th>\n      <th>9</th>\n      <td>9435</td>\n      <td>5973</td>\n      <td>33.81</td>\n      <td>0.043555</td>\n      <td>95.64</td>\n      <td>0.000000</td>\n      <td>0.000000</td>\n      <td>0.0</td>\n      <td>0.086891</td>\n      <td>0.264859</td>\n      <td>...</td>\n      <td>0.000000</td>\n      <td>0.0</td>\n      <td>0.0</td>\n      <td>0.000000</td>\n      <td>0.0</td>\n      <td>0.000000</td>\n      <td>0.316089</td>\n      <td>0.000000</td>\n      <td>0.298845</td>\n      <td>0.000000</td>\n    </tr>\n    <tr>\n      <th>10</th>\n      <td>7360</td>\n      <td>4571</td>\n      <td>34.33</td>\n      <td>0.054211</td>\n      <td>94.58</td>\n      <td>0.000000</td>\n      <td>0.251367</td>\n      <td>0.0</td>\n      <td>0.046161</td>\n      <td>0.000000</td>\n      <td>...</td>\n      <td>0.231459</td>\n      <td>0.0</td>\n      <td>0.0</td>\n      <td>0.000000</td>\n      <td>0.0</td>\n      <td>0.000000</td>\n      <td>0.000000</td>\n      <td>0.000000</td>\n      <td>0.471013</td>\n      <td>0.000000</td>\n    </tr>\n    <tr>\n      <th>11</th>\n      <td>3793</td>\n      <td>2335</td>\n      <td>36.12</td>\n      <td>0.036319</td>\n      <td>96.37</td>\n      <td>0.000000</td>\n      <td>0.000000</td>\n      <td>0.0</td>\n      <td>0.623126</td>\n      <td>0.292934</td>\n      <td>...</td>\n      <td>0.000000</td>\n      <td>0.0</td>\n      <td>0.0</td>\n      <td>0.000000</td>\n      <td>0.0</td>\n      <td>0.000000</td>\n      <td>0.000000</td>\n      <td>0.000000</td>\n      <td>0.083940</td>\n      <td>0.000000</td>\n    </tr>\n    <tr>\n      <th>12</th>\n      <td>9604</td>\n      <td>5920</td>\n      <td>35.81</td>\n      <td>0.039740</td>\n      <td>96.03</td>\n      <td>0.000000</td>\n      <td>0.000000</td>\n      <td>0.0</td>\n      <td>0.289358</td>\n      <td>0.274662</td>\n      <td>...</td>\n      <td>0.000000</td>\n      <td>0.0</td>\n      <td>0.0</td>\n      <td>0.000000</td>\n      <td>0.0</td>\n      <td>0.000000</td>\n      <td>0.000000</td>\n      <td>0.000000</td>\n      <td>0.435980</td>\n      <td>0.000000</td>\n    </tr>\n    <tr>\n      <th>13</th>\n      <td>7336</td>\n      <td>4802</td>\n      <td>32.97</td>\n      <td>0.023388</td>\n      <td>97.66</td>\n      <td>0.000000</td>\n      <td>0.043315</td>\n      <td>0.0</td>\n      <td>0.000000</td>\n      <td>0.152020</td>\n      <td>...</td>\n      <td>0.000000</td>\n      <td>0.0</td>\n      <td>0.0</td>\n      <td>0.245314</td>\n      <td>0.0</td>\n      <td>0.000000</td>\n      <td>0.189296</td>\n      <td>0.000000</td>\n      <td>0.370054</td>\n      <td>0.000000</td>\n    </tr>\n  </tbody>\n</table>\n<p>2054 rows × 24 columns</p>\n</div>"
     },
     "metadata": {},
     "execution_count": 46
    }
   ],
   "source": [
    "\n",
    "df = prepareInputDataExploded(explodeLines(dataT1Can))\n",
    "year = '2015'\n",
    "df.to_csv('../dataset/inputs/XDataFR_'+year+'_Can.csv')\n",
    "df\n"
   ]
  },
  {
   "source": [
    "## Select data"
   ],
   "cell_type": "markdown",
   "metadata": {}
  },
  {
   "cell_type": "code",
   "execution_count": null,
   "metadata": {
    "tags": []
   },
   "outputs": [],
   "source": [
    "np.random.seed(42)\n",
    "\n",
    "trainset = pd.DataFrame()\n",
    "testset = pd.DataFrame()\n",
    "\n",
    "for canton in X.index.get_level_values('CODCAN'):\n",
    "    XFiltered = X[X.index.get_level_values('CODCAN')==canton]\n",
    "    yFiltered = y[y.index.get_level_values('CODCAN')==canton]\n",
    "    \n",
    "    XFiltered.sample(frac=1) # shuffle\n",
    "\n",
    "    nBurTrain = math.ceil(len(XFiltered) * 0.5)\n",
    "    X_train_canton = XFiltered[:nBurTrain]\n",
    "    X_test_canton = XFiltered[nBurTrain:]\n",
    "\n",
    "    colsName = [c+'.'+str(i) for i in range(len(X_train_canton)) for c in X_train_canton.columns.tolist()]\n",
    "    trainRow = X_train_canton.stack()\n",
    "    testRow = X_test_canton.stack()\n",
    "    testRow = testRow.append(pd.Series([0]*(len(trainRow)-len(testRow)), dtype='float64'))\n",
    "    trainRow.index = colsName\n",
    "    testRow.index = colsName\n",
    "    trainRow.name = canton\n",
    "    testRow.name = canton\n",
    "    trainset = trainset.append(trainRow)\n",
    "    testset = testset.append(testRow)\n",
    "\n",
    "testset = testset[colsName].drop_duplicates().sort_index().fillna(0)\n",
    "trainset = trainset[colsName].drop_duplicates().sort_index().fillna(0)"
   ]
  },
  {
   "cell_type": "code",
   "execution_count": null,
   "metadata": {},
   "outputs": [],
   "source": [
    "print(trainset.shape, y.shape)\n",
    "trainset"
   ]
  },
  {
   "source": [
    "# Build Model\n",
    "\n",
    "## Initialization"
   ],
   "cell_type": "markdown",
   "metadata": {}
  },
  {
   "cell_type": "code",
   "execution_count": 84,
   "metadata": {},
   "outputs": [],
   "source": [
    "tf.keras.backend.clear_session()\n",
    "\n",
    "model = tf.keras.Sequential()\n",
    "model.add(tf.keras.layers.InputLayer(input_shape=(160,)))\n",
    "model.add(tf.keras.layers.Dense(64, activation='relu', kernel_initializer='he_uniform'))\n",
    "model.add(tf.keras.layers.Dense(20, activation='softmax'))\n",
    "\n",
    "opt = tf.keras.optimizers.SGD(learning_rate=0.01, momentum=0.9)\n",
    "model.compile(loss='categorical_crossentropy', optimizer=opt, metrics=['accuracy'])"
   ]
  },
  {
   "source": [
    "## Training and evaluation"
   ],
   "cell_type": "markdown",
   "metadata": {}
  },
  {
   "cell_type": "code",
   "execution_count": 85,
   "metadata": {
    "tags": []
   },
   "outputs": [
    {
     "output_type": "stream",
     "name": "stdout",
     "text": [
      "Train: 1.000, Test: 0.842\n"
     ]
    },
    {
     "output_type": "display_data",
     "data": {
      "text/plain": "<Figure size 432x288 with 2 Axes>",
      "image/svg+xml": "<?xml version=\"1.0\" encoding=\"utf-8\" standalone=\"no\"?>\r\n<!DOCTYPE svg PUBLIC \"-//W3C//DTD SVG 1.1//EN\"\r\n  \"http://www.w3.org/Graphics/SVG/1.1/DTD/svg11.dtd\">\r\n<!-- Created with matplotlib (https://matplotlib.org/) -->\r\n<svg height=\"263.63625pt\" version=\"1.1\" viewBox=\"0 0 394.375 263.63625\" width=\"394.375pt\" xmlns=\"http://www.w3.org/2000/svg\" xmlns:xlink=\"http://www.w3.org/1999/xlink\">\r\n <metadata>\r\n  <rdf:RDF xmlns:cc=\"http://creativecommons.org/ns#\" xmlns:dc=\"http://purl.org/dc/elements/1.1/\" xmlns:rdf=\"http://www.w3.org/1999/02/22-rdf-syntax-ns#\">\r\n   <cc:Work>\r\n    <dc:type rdf:resource=\"http://purl.org/dc/dcmitype/StillImage\"/>\r\n    <dc:date>2021-06-23T18:45:19.972637</dc:date>\r\n    <dc:format>image/svg+xml</dc:format>\r\n    <dc:creator>\r\n     <cc:Agent>\r\n      <dc:title>Matplotlib v3.3.4, https://matplotlib.org/</dc:title>\r\n     </cc:Agent>\r\n    </dc:creator>\r\n   </cc:Work>\r\n  </rdf:RDF>\r\n </metadata>\r\n <defs>\r\n  <style type=\"text/css\">*{stroke-linecap:butt;stroke-linejoin:round;}</style>\r\n </defs>\r\n <g id=\"figure_1\">\r\n  <g id=\"patch_1\">\r\n   <path d=\"M 0 263.63625 \r\nL 394.375 263.63625 \r\nL 394.375 0 \r\nL 0 0 \r\nz\r\n\" style=\"fill:none;\"/>\r\n  </g>\r\n  <g id=\"axes_1\">\r\n   <g id=\"patch_2\">\r\n    <path d=\"M 52.375 121.154489 \r\nL 387.175 121.154489 \r\nL 387.175 22.318125 \r\nL 52.375 22.318125 \r\nz\r\n\" style=\"fill:#ffffff;\"/>\r\n   </g>\r\n   <g id=\"matplotlib.axis_1\">\r\n    <g id=\"xtick_1\">\r\n     <g id=\"line2d_1\">\r\n      <defs>\r\n       <path d=\"M 0 0 \r\nL 0 3.5 \r\n\" id=\"m20cc9bcef7\" style=\"stroke:#000000;stroke-width:0.8;\"/>\r\n      </defs>\r\n      <g>\r\n       <use style=\"stroke:#000000;stroke-width:0.8;\" x=\"67.593182\" xlink:href=\"#m20cc9bcef7\" y=\"121.154489\"/>\r\n      </g>\r\n     </g>\r\n     <g id=\"text_1\">\r\n      <!-- 0 -->\r\n      <g transform=\"translate(64.411932 135.752926)scale(0.1 -0.1)\">\r\n       <defs>\r\n        <path d=\"M 31.78125 66.40625 \r\nQ 24.171875 66.40625 20.328125 58.90625 \r\nQ 16.5 51.421875 16.5 36.375 \r\nQ 16.5 21.390625 20.328125 13.890625 \r\nQ 24.171875 6.390625 31.78125 6.390625 \r\nQ 39.453125 6.390625 43.28125 13.890625 \r\nQ 47.125 21.390625 47.125 36.375 \r\nQ 47.125 51.421875 43.28125 58.90625 \r\nQ 39.453125 66.40625 31.78125 66.40625 \r\nz\r\nM 31.78125 74.21875 \r\nQ 44.046875 74.21875 50.515625 64.515625 \r\nQ 56.984375 54.828125 56.984375 36.375 \r\nQ 56.984375 17.96875 50.515625 8.265625 \r\nQ 44.046875 -1.421875 31.78125 -1.421875 \r\nQ 19.53125 -1.421875 13.0625 8.265625 \r\nQ 6.59375 17.96875 6.59375 36.375 \r\nQ 6.59375 54.828125 13.0625 64.515625 \r\nQ 19.53125 74.21875 31.78125 74.21875 \r\nz\r\n\" id=\"DejaVuSans-48\"/>\r\n       </defs>\r\n       <use xlink:href=\"#DejaVuSans-48\"/>\r\n      </g>\r\n     </g>\r\n    </g>\r\n    <g id=\"xtick_2\">\r\n     <g id=\"line2d_2\">\r\n      <g>\r\n       <use style=\"stroke:#000000;stroke-width:0.8;\" x=\"129.080785\" xlink:href=\"#m20cc9bcef7\" y=\"121.154489\"/>\r\n      </g>\r\n     </g>\r\n     <g id=\"text_2\">\r\n      <!-- 20 -->\r\n      <g transform=\"translate(122.718285 135.752926)scale(0.1 -0.1)\">\r\n       <defs>\r\n        <path d=\"M 19.1875 8.296875 \r\nL 53.609375 8.296875 \r\nL 53.609375 0 \r\nL 7.328125 0 \r\nL 7.328125 8.296875 \r\nQ 12.9375 14.109375 22.625 23.890625 \r\nQ 32.328125 33.6875 34.8125 36.53125 \r\nQ 39.546875 41.84375 41.421875 45.53125 \r\nQ 43.3125 49.21875 43.3125 52.78125 \r\nQ 43.3125 58.59375 39.234375 62.25 \r\nQ 35.15625 65.921875 28.609375 65.921875 \r\nQ 23.96875 65.921875 18.8125 64.3125 \r\nQ 13.671875 62.703125 7.8125 59.421875 \r\nL 7.8125 69.390625 \r\nQ 13.765625 71.78125 18.9375 73 \r\nQ 24.125 74.21875 28.421875 74.21875 \r\nQ 39.75 74.21875 46.484375 68.546875 \r\nQ 53.21875 62.890625 53.21875 53.421875 \r\nQ 53.21875 48.921875 51.53125 44.890625 \r\nQ 49.859375 40.875 45.40625 35.40625 \r\nQ 44.1875 33.984375 37.640625 27.21875 \r\nQ 31.109375 20.453125 19.1875 8.296875 \r\nz\r\n\" id=\"DejaVuSans-50\"/>\r\n       </defs>\r\n       <use xlink:href=\"#DejaVuSans-50\"/>\r\n       <use x=\"63.623047\" xlink:href=\"#DejaVuSans-48\"/>\r\n      </g>\r\n     </g>\r\n    </g>\r\n    <g id=\"xtick_3\">\r\n     <g id=\"line2d_3\">\r\n      <g>\r\n       <use style=\"stroke:#000000;stroke-width:0.8;\" x=\"190.568388\" xlink:href=\"#m20cc9bcef7\" y=\"121.154489\"/>\r\n      </g>\r\n     </g>\r\n     <g id=\"text_3\">\r\n      <!-- 40 -->\r\n      <g transform=\"translate(184.205888 135.752926)scale(0.1 -0.1)\">\r\n       <defs>\r\n        <path d=\"M 37.796875 64.3125 \r\nL 12.890625 25.390625 \r\nL 37.796875 25.390625 \r\nz\r\nM 35.203125 72.90625 \r\nL 47.609375 72.90625 \r\nL 47.609375 25.390625 \r\nL 58.015625 25.390625 \r\nL 58.015625 17.1875 \r\nL 47.609375 17.1875 \r\nL 47.609375 0 \r\nL 37.796875 0 \r\nL 37.796875 17.1875 \r\nL 4.890625 17.1875 \r\nL 4.890625 26.703125 \r\nz\r\n\" id=\"DejaVuSans-52\"/>\r\n       </defs>\r\n       <use xlink:href=\"#DejaVuSans-52\"/>\r\n       <use x=\"63.623047\" xlink:href=\"#DejaVuSans-48\"/>\r\n      </g>\r\n     </g>\r\n    </g>\r\n    <g id=\"xtick_4\">\r\n     <g id=\"line2d_4\">\r\n      <g>\r\n       <use style=\"stroke:#000000;stroke-width:0.8;\" x=\"252.055992\" xlink:href=\"#m20cc9bcef7\" y=\"121.154489\"/>\r\n      </g>\r\n     </g>\r\n     <g id=\"text_4\">\r\n      <!-- 60 -->\r\n      <g transform=\"translate(245.693492 135.752926)scale(0.1 -0.1)\">\r\n       <defs>\r\n        <path d=\"M 33.015625 40.375 \r\nQ 26.375 40.375 22.484375 35.828125 \r\nQ 18.609375 31.296875 18.609375 23.390625 \r\nQ 18.609375 15.53125 22.484375 10.953125 \r\nQ 26.375 6.390625 33.015625 6.390625 \r\nQ 39.65625 6.390625 43.53125 10.953125 \r\nQ 47.40625 15.53125 47.40625 23.390625 \r\nQ 47.40625 31.296875 43.53125 35.828125 \r\nQ 39.65625 40.375 33.015625 40.375 \r\nz\r\nM 52.59375 71.296875 \r\nL 52.59375 62.3125 \r\nQ 48.875 64.0625 45.09375 64.984375 \r\nQ 41.3125 65.921875 37.59375 65.921875 \r\nQ 27.828125 65.921875 22.671875 59.328125 \r\nQ 17.53125 52.734375 16.796875 39.40625 \r\nQ 19.671875 43.65625 24.015625 45.921875 \r\nQ 28.375 48.1875 33.59375 48.1875 \r\nQ 44.578125 48.1875 50.953125 41.515625 \r\nQ 57.328125 34.859375 57.328125 23.390625 \r\nQ 57.328125 12.15625 50.6875 5.359375 \r\nQ 44.046875 -1.421875 33.015625 -1.421875 \r\nQ 20.359375 -1.421875 13.671875 8.265625 \r\nQ 6.984375 17.96875 6.984375 36.375 \r\nQ 6.984375 53.65625 15.1875 63.9375 \r\nQ 23.390625 74.21875 37.203125 74.21875 \r\nQ 40.921875 74.21875 44.703125 73.484375 \r\nQ 48.484375 72.75 52.59375 71.296875 \r\nz\r\n\" id=\"DejaVuSans-54\"/>\r\n       </defs>\r\n       <use xlink:href=\"#DejaVuSans-54\"/>\r\n       <use x=\"63.623047\" xlink:href=\"#DejaVuSans-48\"/>\r\n      </g>\r\n     </g>\r\n    </g>\r\n    <g id=\"xtick_5\">\r\n     <g id=\"line2d_5\">\r\n      <g>\r\n       <use style=\"stroke:#000000;stroke-width:0.8;\" x=\"313.543595\" xlink:href=\"#m20cc9bcef7\" y=\"121.154489\"/>\r\n      </g>\r\n     </g>\r\n     <g id=\"text_5\">\r\n      <!-- 80 -->\r\n      <g transform=\"translate(307.181095 135.752926)scale(0.1 -0.1)\">\r\n       <defs>\r\n        <path d=\"M 31.78125 34.625 \r\nQ 24.75 34.625 20.71875 30.859375 \r\nQ 16.703125 27.09375 16.703125 20.515625 \r\nQ 16.703125 13.921875 20.71875 10.15625 \r\nQ 24.75 6.390625 31.78125 6.390625 \r\nQ 38.8125 6.390625 42.859375 10.171875 \r\nQ 46.921875 13.96875 46.921875 20.515625 \r\nQ 46.921875 27.09375 42.890625 30.859375 \r\nQ 38.875 34.625 31.78125 34.625 \r\nz\r\nM 21.921875 38.8125 \r\nQ 15.578125 40.375 12.03125 44.71875 \r\nQ 8.5 49.078125 8.5 55.328125 \r\nQ 8.5 64.0625 14.71875 69.140625 \r\nQ 20.953125 74.21875 31.78125 74.21875 \r\nQ 42.671875 74.21875 48.875 69.140625 \r\nQ 55.078125 64.0625 55.078125 55.328125 \r\nQ 55.078125 49.078125 51.53125 44.71875 \r\nQ 48 40.375 41.703125 38.8125 \r\nQ 48.828125 37.15625 52.796875 32.3125 \r\nQ 56.78125 27.484375 56.78125 20.515625 \r\nQ 56.78125 9.90625 50.3125 4.234375 \r\nQ 43.84375 -1.421875 31.78125 -1.421875 \r\nQ 19.734375 -1.421875 13.25 4.234375 \r\nQ 6.78125 9.90625 6.78125 20.515625 \r\nQ 6.78125 27.484375 10.78125 32.3125 \r\nQ 14.796875 37.15625 21.921875 38.8125 \r\nz\r\nM 18.3125 54.390625 \r\nQ 18.3125 48.734375 21.84375 45.5625 \r\nQ 25.390625 42.390625 31.78125 42.390625 \r\nQ 38.140625 42.390625 41.71875 45.5625 \r\nQ 45.3125 48.734375 45.3125 54.390625 \r\nQ 45.3125 60.0625 41.71875 63.234375 \r\nQ 38.140625 66.40625 31.78125 66.40625 \r\nQ 25.390625 66.40625 21.84375 63.234375 \r\nQ 18.3125 60.0625 18.3125 54.390625 \r\nz\r\n\" id=\"DejaVuSans-56\"/>\r\n       </defs>\r\n       <use xlink:href=\"#DejaVuSans-56\"/>\r\n       <use x=\"63.623047\" xlink:href=\"#DejaVuSans-48\"/>\r\n      </g>\r\n     </g>\r\n    </g>\r\n    <g id=\"xtick_6\">\r\n     <g id=\"line2d_6\">\r\n      <g>\r\n       <use style=\"stroke:#000000;stroke-width:0.8;\" x=\"375.031198\" xlink:href=\"#m20cc9bcef7\" y=\"121.154489\"/>\r\n      </g>\r\n     </g>\r\n     <g id=\"text_6\">\r\n      <!-- 100 -->\r\n      <g transform=\"translate(365.487448 135.752926)scale(0.1 -0.1)\">\r\n       <defs>\r\n        <path d=\"M 12.40625 8.296875 \r\nL 28.515625 8.296875 \r\nL 28.515625 63.921875 \r\nL 10.984375 60.40625 \r\nL 10.984375 69.390625 \r\nL 28.421875 72.90625 \r\nL 38.28125 72.90625 \r\nL 38.28125 8.296875 \r\nL 54.390625 8.296875 \r\nL 54.390625 0 \r\nL 12.40625 0 \r\nz\r\n\" id=\"DejaVuSans-49\"/>\r\n       </defs>\r\n       <use xlink:href=\"#DejaVuSans-49\"/>\r\n       <use x=\"63.623047\" xlink:href=\"#DejaVuSans-48\"/>\r\n       <use x=\"127.246094\" xlink:href=\"#DejaVuSans-48\"/>\r\n      </g>\r\n     </g>\r\n    </g>\r\n   </g>\r\n   <g id=\"matplotlib.axis_2\">\r\n    <g id=\"ytick_1\">\r\n     <g id=\"line2d_7\">\r\n      <defs>\r\n       <path d=\"M 0 0 \r\nL -3.5 0 \r\n\" id=\"m8449e372db\" style=\"stroke:#000000;stroke-width:0.8;\"/>\r\n      </defs>\r\n      <g>\r\n       <use style=\"stroke:#000000;stroke-width:0.8;\" x=\"52.375\" xlink:href=\"#m8449e372db\" y=\"116.663109\"/>\r\n      </g>\r\n     </g>\r\n     <g id=\"text_7\">\r\n      <!-- 0 -->\r\n      <g transform=\"translate(39.0125 120.462328)scale(0.1 -0.1)\">\r\n       <use xlink:href=\"#DejaVuSans-48\"/>\r\n      </g>\r\n     </g>\r\n    </g>\r\n    <g id=\"ytick_2\">\r\n     <g id=\"line2d_8\">\r\n      <g>\r\n       <use style=\"stroke:#000000;stroke-width:0.8;\" x=\"52.375\" xlink:href=\"#m8449e372db\" y=\"85.410816\"/>\r\n      </g>\r\n     </g>\r\n     <g id=\"text_8\">\r\n      <!-- 50000 -->\r\n      <g transform=\"translate(13.5625 89.210035)scale(0.1 -0.1)\">\r\n       <defs>\r\n        <path d=\"M 10.796875 72.90625 \r\nL 49.515625 72.90625 \r\nL 49.515625 64.59375 \r\nL 19.828125 64.59375 \r\nL 19.828125 46.734375 \r\nQ 21.96875 47.46875 24.109375 47.828125 \r\nQ 26.265625 48.1875 28.421875 48.1875 \r\nQ 40.625 48.1875 47.75 41.5 \r\nQ 54.890625 34.8125 54.890625 23.390625 \r\nQ 54.890625 11.625 47.5625 5.09375 \r\nQ 40.234375 -1.421875 26.90625 -1.421875 \r\nQ 22.3125 -1.421875 17.546875 -0.640625 \r\nQ 12.796875 0.140625 7.71875 1.703125 \r\nL 7.71875 11.625 \r\nQ 12.109375 9.234375 16.796875 8.0625 \r\nQ 21.484375 6.890625 26.703125 6.890625 \r\nQ 35.15625 6.890625 40.078125 11.328125 \r\nQ 45.015625 15.765625 45.015625 23.390625 \r\nQ 45.015625 31 40.078125 35.4375 \r\nQ 35.15625 39.890625 26.703125 39.890625 \r\nQ 22.75 39.890625 18.8125 39.015625 \r\nQ 14.890625 38.140625 10.796875 36.28125 \r\nz\r\n\" id=\"DejaVuSans-53\"/>\r\n       </defs>\r\n       <use xlink:href=\"#DejaVuSans-53\"/>\r\n       <use x=\"63.623047\" xlink:href=\"#DejaVuSans-48\"/>\r\n       <use x=\"127.246094\" xlink:href=\"#DejaVuSans-48\"/>\r\n       <use x=\"190.869141\" xlink:href=\"#DejaVuSans-48\"/>\r\n       <use x=\"254.492188\" xlink:href=\"#DejaVuSans-48\"/>\r\n      </g>\r\n     </g>\r\n    </g>\r\n    <g id=\"ytick_3\">\r\n     <g id=\"line2d_9\">\r\n      <g>\r\n       <use style=\"stroke:#000000;stroke-width:0.8;\" x=\"52.375\" xlink:href=\"#m8449e372db\" y=\"54.158523\"/>\r\n      </g>\r\n     </g>\r\n     <g id=\"text_9\">\r\n      <!-- 100000 -->\r\n      <g transform=\"translate(7.2 57.957742)scale(0.1 -0.1)\">\r\n       <use xlink:href=\"#DejaVuSans-49\"/>\r\n       <use x=\"63.623047\" xlink:href=\"#DejaVuSans-48\"/>\r\n       <use x=\"127.246094\" xlink:href=\"#DejaVuSans-48\"/>\r\n       <use x=\"190.869141\" xlink:href=\"#DejaVuSans-48\"/>\r\n       <use x=\"254.492188\" xlink:href=\"#DejaVuSans-48\"/>\r\n       <use x=\"318.115234\" xlink:href=\"#DejaVuSans-48\"/>\r\n      </g>\r\n     </g>\r\n    </g>\r\n    <g id=\"ytick_4\">\r\n     <g id=\"line2d_10\">\r\n      <g>\r\n       <use style=\"stroke:#000000;stroke-width:0.8;\" x=\"52.375\" xlink:href=\"#m8449e372db\" y=\"22.906231\"/>\r\n      </g>\r\n     </g>\r\n     <g id=\"text_10\">\r\n      <!-- 150000 -->\r\n      <g transform=\"translate(7.2 26.705449)scale(0.1 -0.1)\">\r\n       <use xlink:href=\"#DejaVuSans-49\"/>\r\n       <use x=\"63.623047\" xlink:href=\"#DejaVuSans-53\"/>\r\n       <use x=\"127.246094\" xlink:href=\"#DejaVuSans-48\"/>\r\n       <use x=\"190.869141\" xlink:href=\"#DejaVuSans-48\"/>\r\n       <use x=\"254.492188\" xlink:href=\"#DejaVuSans-48\"/>\r\n       <use x=\"318.115234\" xlink:href=\"#DejaVuSans-48\"/>\r\n      </g>\r\n     </g>\r\n    </g>\r\n   </g>\r\n   <g id=\"line2d_11\">\r\n    <path clip-path=\"url(#p4dbd0a993a)\" d=\"M 67.593182 116.356931 \r\nL 70.667562 112.560995 \r\nL 73.741942 31.095454 \r\nL 76.816322 116.66124 \r\nL 79.890702 116.661242 \r\nL 82.965083 116.661246 \r\nL 86.039463 116.661251 \r\nL 89.113843 116.661257 \r\nL 92.188223 116.661264 \r\nL 95.262603 116.661272 \r\nL 98.336983 116.661281 \r\nL 101.411364 116.66129 \r\nL 104.485744 116.661299 \r\nL 107.560124 116.66131 \r\nL 110.634504 116.66132 \r\nL 113.708884 116.661331 \r\nL 116.783264 116.661343 \r\nL 119.857645 116.661354 \r\nL 122.932025 116.661366 \r\nL 126.006405 116.661378 \r\nL 129.080785 116.66139 \r\nL 132.155165 116.661402 \r\nL 135.229545 116.661415 \r\nL 138.303926 116.661427 \r\nL 141.378306 116.661439 \r\nL 144.452686 116.661452 \r\nL 147.527066 116.661464 \r\nL 150.601446 116.661476 \r\nL 153.675826 116.661488 \r\nL 156.750207 116.6615 \r\nL 159.824587 116.661512 \r\nL 162.898967 116.661524 \r\nL 165.973347 116.661536 \r\nL 169.047727 116.661548 \r\nL 172.122107 116.661559 \r\nL 175.196488 116.66157 \r\nL 178.270868 116.661582 \r\nL 181.345248 116.661593 \r\nL 184.419628 116.661603 \r\nL 187.494008 116.661614 \r\nL 190.568388 116.661624 \r\nL 193.642769 116.661634 \r\nL 196.717149 116.661644 \r\nL 199.791529 116.661654 \r\nL 202.865909 116.661664 \r\nL 205.940289 116.661673 \r\nL 209.014669 116.661682 \r\nL 212.08905 116.661691 \r\nL 215.16343 116.6617 \r\nL 218.23781 116.661708 \r\nL 221.31219 116.661717 \r\nL 224.38657 116.661725 \r\nL 227.46095 116.661733 \r\nL 230.535331 116.66174 \r\nL 233.609711 116.661748 \r\nL 236.684091 116.661755 \r\nL 239.758471 116.661762 \r\nL 242.832851 116.661769 \r\nL 245.907231 116.661775 \r\nL 248.981612 116.661782 \r\nL 252.055992 116.661788 \r\nL 255.130372 116.661794 \r\nL 258.204752 116.6618 \r\nL 261.279132 116.661805 \r\nL 264.353512 116.661811 \r\nL 267.427893 116.661816 \r\nL 270.502273 116.661821 \r\nL 273.576653 116.661826 \r\nL 276.651033 116.661831 \r\nL 279.725413 116.661836 \r\nL 282.799793 116.66184 \r\nL 285.874174 116.661845 \r\nL 288.948554 116.661849 \r\nL 292.022934 116.661853 \r\nL 295.097314 116.661857 \r\nL 298.171694 116.661861 \r\nL 301.246074 116.661865 \r\nL 304.320455 116.661868 \r\nL 307.394835 116.661872 \r\nL 310.469215 116.661875 \r\nL 313.543595 116.661878 \r\nL 316.617975 116.661882 \r\nL 319.692355 116.661885 \r\nL 322.766736 116.661888 \r\nL 325.841116 116.661891 \r\nL 328.915496 116.661894 \r\nL 331.989876 116.661896 \r\nL 335.064256 116.661899 \r\nL 338.138636 116.661902 \r\nL 341.213017 116.661904 \r\nL 344.287397 116.661907 \r\nL 347.361777 116.661909 \r\nL 350.436157 116.661912 \r\nL 353.510537 116.661914 \r\nL 356.584917 116.661916 \r\nL 359.659298 116.661918 \r\nL 362.733678 116.66192 \r\nL 365.808058 116.661923 \r\nL 368.882438 116.661925 \r\nL 371.956818 116.661927 \r\n\" style=\"fill:none;stroke:#1f77b4;stroke-linecap:square;stroke-width:1.5;\"/>\r\n   </g>\r\n   <g id=\"line2d_12\">\r\n    <path clip-path=\"url(#p4dbd0a993a)\" d=\"M 67.593182 112.339568 \r\nL 70.667562 26.810687 \r\nL 73.741942 116.659713 \r\nL 76.816322 116.659715 \r\nL 79.890702 116.659719 \r\nL 82.965083 116.659725 \r\nL 86.039463 116.659731 \r\nL 89.113843 116.659738 \r\nL 92.188223 116.659746 \r\nL 95.262603 116.659755 \r\nL 98.336983 116.659765 \r\nL 101.411364 116.659775 \r\nL 104.485744 116.659785 \r\nL 107.560124 116.659796 \r\nL 110.634504 116.659808 \r\nL 113.708884 116.659819 \r\nL 116.783264 116.659831 \r\nL 119.857645 116.659844 \r\nL 122.932025 116.659856 \r\nL 126.006405 116.659869 \r\nL 129.080785 116.659881 \r\nL 132.155165 116.659894 \r\nL 135.229545 116.659907 \r\nL 138.303926 116.65992 \r\nL 141.378306 116.659933 \r\nL 144.452686 116.659946 \r\nL 147.527066 116.659959 \r\nL 150.601446 116.659971 \r\nL 153.675826 116.659984 \r\nL 156.750207 116.659997 \r\nL 159.824587 116.660009 \r\nL 162.898967 116.660022 \r\nL 165.973347 116.660034 \r\nL 169.047727 116.660046 \r\nL 172.122107 116.660058 \r\nL 175.196488 116.66007 \r\nL 178.270868 116.660082 \r\nL 181.345248 116.660093 \r\nL 184.419628 116.660105 \r\nL 187.494008 116.660116 \r\nL 190.568388 116.660127 \r\nL 193.642769 116.660137 \r\nL 196.717149 116.660148 \r\nL 199.791529 116.660158 \r\nL 202.865909 116.660169 \r\nL 205.940289 116.660179 \r\nL 209.014669 116.660188 \r\nL 212.08905 116.660198 \r\nL 215.16343 116.660207 \r\nL 218.23781 116.660216 \r\nL 221.31219 116.660225 \r\nL 224.38657 116.660234 \r\nL 227.46095 116.660243 \r\nL 230.535331 116.660251 \r\nL 233.609711 116.660259 \r\nL 236.684091 116.660267 \r\nL 239.758471 116.660275 \r\nL 242.832851 116.660282 \r\nL 245.907231 116.660289 \r\nL 248.981612 116.660297 \r\nL 252.055992 116.660304 \r\nL 255.130372 116.66031 \r\nL 258.204752 116.660317 \r\nL 261.279132 116.660323 \r\nL 264.353512 116.660329 \r\nL 267.427893 116.660336 \r\nL 270.502273 116.660341 \r\nL 273.576653 116.660347 \r\nL 276.651033 116.660353 \r\nL 279.725413 116.660358 \r\nL 282.799793 116.660363 \r\nL 285.874174 116.660369 \r\nL 288.948554 116.660374 \r\nL 292.022934 116.660378 \r\nL 295.097314 116.660383 \r\nL 298.171694 116.660388 \r\nL 301.246074 116.660392 \r\nL 304.320455 116.660397 \r\nL 307.394835 116.660401 \r\nL 310.469215 116.660405 \r\nL 313.543595 116.660409 \r\nL 316.617975 116.660413 \r\nL 319.692355 116.660417 \r\nL 322.766736 116.66042 \r\nL 325.841116 116.660424 \r\nL 328.915496 116.660428 \r\nL 331.989876 116.660431 \r\nL 335.064256 116.660434 \r\nL 338.138636 116.660438 \r\nL 341.213017 116.660441 \r\nL 344.287397 116.660444 \r\nL 347.361777 116.660447 \r\nL 350.436157 116.66045 \r\nL 353.510537 116.660453 \r\nL 356.584917 116.660456 \r\nL 359.659298 116.660459 \r\nL 362.733678 116.660462 \r\nL 365.808058 116.660464 \r\nL 368.882438 116.660467 \r\nL 371.956818 116.66047 \r\n\" style=\"fill:none;stroke:#ff7f0e;stroke-linecap:square;stroke-width:1.5;\"/>\r\n   </g>\r\n   <g id=\"patch_3\">\r\n    <path d=\"M 52.375 121.154489 \r\nL 52.375 22.318125 \r\n\" style=\"fill:none;stroke:#000000;stroke-linecap:square;stroke-linejoin:miter;stroke-width:0.8;\"/>\r\n   </g>\r\n   <g id=\"patch_4\">\r\n    <path d=\"M 387.175 121.154489 \r\nL 387.175 22.318125 \r\n\" style=\"fill:none;stroke:#000000;stroke-linecap:square;stroke-linejoin:miter;stroke-width:0.8;\"/>\r\n   </g>\r\n   <g id=\"patch_5\">\r\n    <path d=\"M 52.375 121.154489 \r\nL 387.175 121.154489 \r\n\" style=\"fill:none;stroke:#000000;stroke-linecap:square;stroke-linejoin:miter;stroke-width:0.8;\"/>\r\n   </g>\r\n   <g id=\"patch_6\">\r\n    <path d=\"M 52.375 22.318125 \r\nL 387.175 22.318125 \r\n\" style=\"fill:none;stroke:#000000;stroke-linecap:square;stroke-linejoin:miter;stroke-width:0.8;\"/>\r\n   </g>\r\n   <g id=\"text_11\">\r\n    <!-- Loss -->\r\n    <g transform=\"translate(206.614375 16.318125)scale(0.12 -0.12)\">\r\n     <defs>\r\n      <path d=\"M 9.8125 72.90625 \r\nL 19.671875 72.90625 \r\nL 19.671875 8.296875 \r\nL 55.171875 8.296875 \r\nL 55.171875 0 \r\nL 9.8125 0 \r\nz\r\n\" id=\"DejaVuSans-76\"/>\r\n      <path d=\"M 30.609375 48.390625 \r\nQ 23.390625 48.390625 19.1875 42.75 \r\nQ 14.984375 37.109375 14.984375 27.296875 \r\nQ 14.984375 17.484375 19.15625 11.84375 \r\nQ 23.34375 6.203125 30.609375 6.203125 \r\nQ 37.796875 6.203125 41.984375 11.859375 \r\nQ 46.1875 17.53125 46.1875 27.296875 \r\nQ 46.1875 37.015625 41.984375 42.703125 \r\nQ 37.796875 48.390625 30.609375 48.390625 \r\nz\r\nM 30.609375 56 \r\nQ 42.328125 56 49.015625 48.375 \r\nQ 55.71875 40.765625 55.71875 27.296875 \r\nQ 55.71875 13.875 49.015625 6.21875 \r\nQ 42.328125 -1.421875 30.609375 -1.421875 \r\nQ 18.84375 -1.421875 12.171875 6.21875 \r\nQ 5.515625 13.875 5.515625 27.296875 \r\nQ 5.515625 40.765625 12.171875 48.375 \r\nQ 18.84375 56 30.609375 56 \r\nz\r\n\" id=\"DejaVuSans-111\"/>\r\n      <path d=\"M 44.28125 53.078125 \r\nL 44.28125 44.578125 \r\nQ 40.484375 46.53125 36.375 47.5 \r\nQ 32.28125 48.484375 27.875 48.484375 \r\nQ 21.1875 48.484375 17.84375 46.4375 \r\nQ 14.5 44.390625 14.5 40.28125 \r\nQ 14.5 37.15625 16.890625 35.375 \r\nQ 19.28125 33.59375 26.515625 31.984375 \r\nL 29.59375 31.296875 \r\nQ 39.15625 29.25 43.1875 25.515625 \r\nQ 47.21875 21.78125 47.21875 15.09375 \r\nQ 47.21875 7.46875 41.1875 3.015625 \r\nQ 35.15625 -1.421875 24.609375 -1.421875 \r\nQ 20.21875 -1.421875 15.453125 -0.5625 \r\nQ 10.6875 0.296875 5.421875 2 \r\nL 5.421875 11.28125 \r\nQ 10.40625 8.6875 15.234375 7.390625 \r\nQ 20.0625 6.109375 24.8125 6.109375 \r\nQ 31.15625 6.109375 34.5625 8.28125 \r\nQ 37.984375 10.453125 37.984375 14.40625 \r\nQ 37.984375 18.0625 35.515625 20.015625 \r\nQ 33.0625 21.96875 24.703125 23.78125 \r\nL 21.578125 24.515625 \r\nQ 13.234375 26.265625 9.515625 29.90625 \r\nQ 5.8125 33.546875 5.8125 39.890625 \r\nQ 5.8125 47.609375 11.28125 51.796875 \r\nQ 16.75 56 26.8125 56 \r\nQ 31.78125 56 36.171875 55.265625 \r\nQ 40.578125 54.546875 44.28125 53.078125 \r\nz\r\n\" id=\"DejaVuSans-115\"/>\r\n     </defs>\r\n     <use xlink:href=\"#DejaVuSans-76\"/>\r\n     <use x=\"53.962891\" xlink:href=\"#DejaVuSans-111\"/>\r\n     <use x=\"115.144531\" xlink:href=\"#DejaVuSans-115\"/>\r\n     <use x=\"167.244141\" xlink:href=\"#DejaVuSans-115\"/>\r\n    </g>\r\n   </g>\r\n   <g id=\"legend_1\">\r\n    <g id=\"patch_7\">\r\n     <path d=\"M 324.9 59.674375 \r\nL 380.175 59.674375 \r\nQ 382.175 59.674375 382.175 57.674375 \r\nL 382.175 29.318125 \r\nQ 382.175 27.318125 380.175 27.318125 \r\nL 324.9 27.318125 \r\nQ 322.9 27.318125 322.9 29.318125 \r\nL 322.9 57.674375 \r\nQ 322.9 59.674375 324.9 59.674375 \r\nz\r\n\" style=\"fill:#ffffff;opacity:0.8;stroke:#cccccc;stroke-linejoin:miter;\"/>\r\n    </g>\r\n    <g id=\"line2d_13\">\r\n     <path d=\"M 326.9 35.416562 \r\nL 346.9 35.416562 \r\n\" style=\"fill:none;stroke:#1f77b4;stroke-linecap:square;stroke-width:1.5;\"/>\r\n    </g>\r\n    <g id=\"line2d_14\"/>\r\n    <g id=\"text_12\">\r\n     <!-- train -->\r\n     <g transform=\"translate(354.9 38.916562)scale(0.1 -0.1)\">\r\n      <defs>\r\n       <path d=\"M 18.3125 70.21875 \r\nL 18.3125 54.6875 \r\nL 36.8125 54.6875 \r\nL 36.8125 47.703125 \r\nL 18.3125 47.703125 \r\nL 18.3125 18.015625 \r\nQ 18.3125 11.328125 20.140625 9.421875 \r\nQ 21.96875 7.515625 27.59375 7.515625 \r\nL 36.8125 7.515625 \r\nL 36.8125 0 \r\nL 27.59375 0 \r\nQ 17.1875 0 13.234375 3.875 \r\nQ 9.28125 7.765625 9.28125 18.015625 \r\nL 9.28125 47.703125 \r\nL 2.6875 47.703125 \r\nL 2.6875 54.6875 \r\nL 9.28125 54.6875 \r\nL 9.28125 70.21875 \r\nz\r\n\" id=\"DejaVuSans-116\"/>\r\n       <path d=\"M 41.109375 46.296875 \r\nQ 39.59375 47.171875 37.8125 47.578125 \r\nQ 36.03125 48 33.890625 48 \r\nQ 26.265625 48 22.1875 43.046875 \r\nQ 18.109375 38.09375 18.109375 28.8125 \r\nL 18.109375 0 \r\nL 9.078125 0 \r\nL 9.078125 54.6875 \r\nL 18.109375 54.6875 \r\nL 18.109375 46.1875 \r\nQ 20.953125 51.171875 25.484375 53.578125 \r\nQ 30.03125 56 36.53125 56 \r\nQ 37.453125 56 38.578125 55.875 \r\nQ 39.703125 55.765625 41.0625 55.515625 \r\nz\r\n\" id=\"DejaVuSans-114\"/>\r\n       <path d=\"M 34.28125 27.484375 \r\nQ 23.390625 27.484375 19.1875 25 \r\nQ 14.984375 22.515625 14.984375 16.5 \r\nQ 14.984375 11.71875 18.140625 8.90625 \r\nQ 21.296875 6.109375 26.703125 6.109375 \r\nQ 34.1875 6.109375 38.703125 11.40625 \r\nQ 43.21875 16.703125 43.21875 25.484375 \r\nL 43.21875 27.484375 \r\nz\r\nM 52.203125 31.203125 \r\nL 52.203125 0 \r\nL 43.21875 0 \r\nL 43.21875 8.296875 \r\nQ 40.140625 3.328125 35.546875 0.953125 \r\nQ 30.953125 -1.421875 24.3125 -1.421875 \r\nQ 15.921875 -1.421875 10.953125 3.296875 \r\nQ 6 8.015625 6 15.921875 \r\nQ 6 25.140625 12.171875 29.828125 \r\nQ 18.359375 34.515625 30.609375 34.515625 \r\nL 43.21875 34.515625 \r\nL 43.21875 35.40625 \r\nQ 43.21875 41.609375 39.140625 45 \r\nQ 35.0625 48.390625 27.6875 48.390625 \r\nQ 23 48.390625 18.546875 47.265625 \r\nQ 14.109375 46.140625 10.015625 43.890625 \r\nL 10.015625 52.203125 \r\nQ 14.9375 54.109375 19.578125 55.046875 \r\nQ 24.21875 56 28.609375 56 \r\nQ 40.484375 56 46.34375 49.84375 \r\nQ 52.203125 43.703125 52.203125 31.203125 \r\nz\r\n\" id=\"DejaVuSans-97\"/>\r\n       <path d=\"M 9.421875 54.6875 \r\nL 18.40625 54.6875 \r\nL 18.40625 0 \r\nL 9.421875 0 \r\nz\r\nM 9.421875 75.984375 \r\nL 18.40625 75.984375 \r\nL 18.40625 64.59375 \r\nL 9.421875 64.59375 \r\nz\r\n\" id=\"DejaVuSans-105\"/>\r\n       <path d=\"M 54.890625 33.015625 \r\nL 54.890625 0 \r\nL 45.90625 0 \r\nL 45.90625 32.71875 \r\nQ 45.90625 40.484375 42.875 44.328125 \r\nQ 39.84375 48.1875 33.796875 48.1875 \r\nQ 26.515625 48.1875 22.3125 43.546875 \r\nQ 18.109375 38.921875 18.109375 30.90625 \r\nL 18.109375 0 \r\nL 9.078125 0 \r\nL 9.078125 54.6875 \r\nL 18.109375 54.6875 \r\nL 18.109375 46.1875 \r\nQ 21.34375 51.125 25.703125 53.5625 \r\nQ 30.078125 56 35.796875 56 \r\nQ 45.21875 56 50.046875 50.171875 \r\nQ 54.890625 44.34375 54.890625 33.015625 \r\nz\r\n\" id=\"DejaVuSans-110\"/>\r\n      </defs>\r\n      <use xlink:href=\"#DejaVuSans-116\"/>\r\n      <use x=\"39.208984\" xlink:href=\"#DejaVuSans-114\"/>\r\n      <use x=\"80.322266\" xlink:href=\"#DejaVuSans-97\"/>\r\n      <use x=\"141.601562\" xlink:href=\"#DejaVuSans-105\"/>\r\n      <use x=\"169.384766\" xlink:href=\"#DejaVuSans-110\"/>\r\n     </g>\r\n    </g>\r\n    <g id=\"line2d_15\">\r\n     <path d=\"M 326.9 50.094687 \r\nL 346.9 50.094687 \r\n\" style=\"fill:none;stroke:#ff7f0e;stroke-linecap:square;stroke-width:1.5;\"/>\r\n    </g>\r\n    <g id=\"line2d_16\"/>\r\n    <g id=\"text_13\">\r\n     <!-- test -->\r\n     <g transform=\"translate(354.9 53.594687)scale(0.1 -0.1)\">\r\n      <defs>\r\n       <path d=\"M 56.203125 29.59375 \r\nL 56.203125 25.203125 \r\nL 14.890625 25.203125 \r\nQ 15.484375 15.921875 20.484375 11.0625 \r\nQ 25.484375 6.203125 34.421875 6.203125 \r\nQ 39.59375 6.203125 44.453125 7.46875 \r\nQ 49.3125 8.734375 54.109375 11.28125 \r\nL 54.109375 2.78125 \r\nQ 49.265625 0.734375 44.1875 -0.34375 \r\nQ 39.109375 -1.421875 33.890625 -1.421875 \r\nQ 20.796875 -1.421875 13.15625 6.1875 \r\nQ 5.515625 13.8125 5.515625 26.8125 \r\nQ 5.515625 40.234375 12.765625 48.109375 \r\nQ 20.015625 56 32.328125 56 \r\nQ 43.359375 56 49.78125 48.890625 \r\nQ 56.203125 41.796875 56.203125 29.59375 \r\nz\r\nM 47.21875 32.234375 \r\nQ 47.125 39.59375 43.09375 43.984375 \r\nQ 39.0625 48.390625 32.421875 48.390625 \r\nQ 24.90625 48.390625 20.390625 44.140625 \r\nQ 15.875 39.890625 15.1875 32.171875 \r\nz\r\n\" id=\"DejaVuSans-101\"/>\r\n      </defs>\r\n      <use xlink:href=\"#DejaVuSans-116\"/>\r\n      <use x=\"39.208984\" xlink:href=\"#DejaVuSans-101\"/>\r\n      <use x=\"100.732422\" xlink:href=\"#DejaVuSans-115\"/>\r\n      <use x=\"152.832031\" xlink:href=\"#DejaVuSans-116\"/>\r\n     </g>\r\n    </g>\r\n   </g>\r\n  </g>\r\n  <g id=\"axes_2\">\r\n   <g id=\"patch_8\">\r\n    <path d=\"M 52.375 239.758125 \r\nL 387.175 239.758125 \r\nL 387.175 140.921761 \r\nL 52.375 140.921761 \r\nz\r\n\" style=\"fill:#ffffff;\"/>\r\n   </g>\r\n   <g id=\"matplotlib.axis_3\">\r\n    <g id=\"xtick_7\">\r\n     <g id=\"line2d_17\">\r\n      <g>\r\n       <use style=\"stroke:#000000;stroke-width:0.8;\" x=\"67.593182\" xlink:href=\"#m20cc9bcef7\" y=\"239.758125\"/>\r\n      </g>\r\n     </g>\r\n     <g id=\"text_14\">\r\n      <!-- 0 -->\r\n      <g transform=\"translate(64.411932 254.356562)scale(0.1 -0.1)\">\r\n       <use xlink:href=\"#DejaVuSans-48\"/>\r\n      </g>\r\n     </g>\r\n    </g>\r\n    <g id=\"xtick_8\">\r\n     <g id=\"line2d_18\">\r\n      <g>\r\n       <use style=\"stroke:#000000;stroke-width:0.8;\" x=\"129.080785\" xlink:href=\"#m20cc9bcef7\" y=\"239.758125\"/>\r\n      </g>\r\n     </g>\r\n     <g id=\"text_15\">\r\n      <!-- 20 -->\r\n      <g transform=\"translate(122.718285 254.356562)scale(0.1 -0.1)\">\r\n       <use xlink:href=\"#DejaVuSans-50\"/>\r\n       <use x=\"63.623047\" xlink:href=\"#DejaVuSans-48\"/>\r\n      </g>\r\n     </g>\r\n    </g>\r\n    <g id=\"xtick_9\">\r\n     <g id=\"line2d_19\">\r\n      <g>\r\n       <use style=\"stroke:#000000;stroke-width:0.8;\" x=\"190.568388\" xlink:href=\"#m20cc9bcef7\" y=\"239.758125\"/>\r\n      </g>\r\n     </g>\r\n     <g id=\"text_16\">\r\n      <!-- 40 -->\r\n      <g transform=\"translate(184.205888 254.356562)scale(0.1 -0.1)\">\r\n       <use xlink:href=\"#DejaVuSans-52\"/>\r\n       <use x=\"63.623047\" xlink:href=\"#DejaVuSans-48\"/>\r\n      </g>\r\n     </g>\r\n    </g>\r\n    <g id=\"xtick_10\">\r\n     <g id=\"line2d_20\">\r\n      <g>\r\n       <use style=\"stroke:#000000;stroke-width:0.8;\" x=\"252.055992\" xlink:href=\"#m20cc9bcef7\" y=\"239.758125\"/>\r\n      </g>\r\n     </g>\r\n     <g id=\"text_17\">\r\n      <!-- 60 -->\r\n      <g transform=\"translate(245.693492 254.356562)scale(0.1 -0.1)\">\r\n       <use xlink:href=\"#DejaVuSans-54\"/>\r\n       <use x=\"63.623047\" xlink:href=\"#DejaVuSans-48\"/>\r\n      </g>\r\n     </g>\r\n    </g>\r\n    <g id=\"xtick_11\">\r\n     <g id=\"line2d_21\">\r\n      <g>\r\n       <use style=\"stroke:#000000;stroke-width:0.8;\" x=\"313.543595\" xlink:href=\"#m20cc9bcef7\" y=\"239.758125\"/>\r\n      </g>\r\n     </g>\r\n     <g id=\"text_18\">\r\n      <!-- 80 -->\r\n      <g transform=\"translate(307.181095 254.356562)scale(0.1 -0.1)\">\r\n       <use xlink:href=\"#DejaVuSans-56\"/>\r\n       <use x=\"63.623047\" xlink:href=\"#DejaVuSans-48\"/>\r\n      </g>\r\n     </g>\r\n    </g>\r\n    <g id=\"xtick_12\">\r\n     <g id=\"line2d_22\">\r\n      <g>\r\n       <use style=\"stroke:#000000;stroke-width:0.8;\" x=\"375.031198\" xlink:href=\"#m20cc9bcef7\" y=\"239.758125\"/>\r\n      </g>\r\n     </g>\r\n     <g id=\"text_19\">\r\n      <!-- 100 -->\r\n      <g transform=\"translate(365.487448 254.356562)scale(0.1 -0.1)\">\r\n       <use xlink:href=\"#DejaVuSans-49\"/>\r\n       <use x=\"63.623047\" xlink:href=\"#DejaVuSans-48\"/>\r\n       <use x=\"127.246094\" xlink:href=\"#DejaVuSans-48\"/>\r\n      </g>\r\n     </g>\r\n    </g>\r\n   </g>\r\n   <g id=\"matplotlib.axis_4\">\r\n    <g id=\"ytick_5\">\r\n     <g id=\"line2d_23\">\r\n      <g>\r\n       <use style=\"stroke:#000000;stroke-width:0.8;\" x=\"52.375\" xlink:href=\"#m8449e372db\" y=\"235.265563\"/>\r\n      </g>\r\n     </g>\r\n     <g id=\"text_20\">\r\n      <!-- 0.0 -->\r\n      <g transform=\"translate(29.471875 239.064782)scale(0.1 -0.1)\">\r\n       <defs>\r\n        <path d=\"M 10.6875 12.40625 \r\nL 21 12.40625 \r\nL 21 0 \r\nL 10.6875 0 \r\nz\r\n\" id=\"DejaVuSans-46\"/>\r\n       </defs>\r\n       <use xlink:href=\"#DejaVuSans-48\"/>\r\n       <use x=\"63.623047\" xlink:href=\"#DejaVuSans-46\"/>\r\n       <use x=\"95.410156\" xlink:href=\"#DejaVuSans-48\"/>\r\n      </g>\r\n     </g>\r\n    </g>\r\n    <g id=\"ytick_6\">\r\n     <g id=\"line2d_24\">\r\n      <g>\r\n       <use style=\"stroke:#000000;stroke-width:0.8;\" x=\"52.375\" xlink:href=\"#m8449e372db\" y=\"190.339943\"/>\r\n      </g>\r\n     </g>\r\n     <g id=\"text_21\">\r\n      <!-- 0.5 -->\r\n      <g transform=\"translate(29.471875 194.139162)scale(0.1 -0.1)\">\r\n       <use xlink:href=\"#DejaVuSans-48\"/>\r\n       <use x=\"63.623047\" xlink:href=\"#DejaVuSans-46\"/>\r\n       <use x=\"95.410156\" xlink:href=\"#DejaVuSans-53\"/>\r\n      </g>\r\n     </g>\r\n    </g>\r\n    <g id=\"ytick_7\">\r\n     <g id=\"line2d_25\">\r\n      <g>\r\n       <use style=\"stroke:#000000;stroke-width:0.8;\" x=\"52.375\" xlink:href=\"#m8449e372db\" y=\"145.414323\"/>\r\n      </g>\r\n     </g>\r\n     <g id=\"text_22\">\r\n      <!-- 1.0 -->\r\n      <g transform=\"translate(29.471875 149.213542)scale(0.1 -0.1)\">\r\n       <use xlink:href=\"#DejaVuSans-49\"/>\r\n       <use x=\"63.623047\" xlink:href=\"#DejaVuSans-46\"/>\r\n       <use x=\"95.410156\" xlink:href=\"#DejaVuSans-48\"/>\r\n      </g>\r\n     </g>\r\n    </g>\r\n   </g>\r\n   <g id=\"line2d_26\">\r\n    <path clip-path=\"url(#pe732690c75)\" d=\"M 67.593182 235.265563 \r\nL 70.667562 145.414323 \r\nL 73.741942 235.265563 \r\nL 76.816322 145.414323 \r\nL 79.890702 145.414323 \r\nL 82.965083 145.414323 \r\nL 86.039463 145.414323 \r\nL 89.113843 145.414323 \r\nL 92.188223 145.414323 \r\nL 95.262603 145.414323 \r\nL 98.336983 145.414323 \r\nL 101.411364 145.414323 \r\nL 104.485744 145.414323 \r\nL 107.560124 145.414323 \r\nL 110.634504 145.414323 \r\nL 113.708884 145.414323 \r\nL 116.783264 145.414323 \r\nL 119.857645 145.414323 \r\nL 122.932025 145.414323 \r\nL 126.006405 145.414323 \r\nL 129.080785 145.414323 \r\nL 132.155165 145.414323 \r\nL 135.229545 145.414323 \r\nL 138.303926 145.414323 \r\nL 141.378306 145.414323 \r\nL 144.452686 145.414323 \r\nL 147.527066 145.414323 \r\nL 150.601446 145.414323 \r\nL 153.675826 145.414323 \r\nL 156.750207 145.414323 \r\nL 159.824587 145.414323 \r\nL 162.898967 145.414323 \r\nL 165.973347 145.414323 \r\nL 169.047727 145.414323 \r\nL 172.122107 145.414323 \r\nL 175.196488 145.414323 \r\nL 178.270868 145.414323 \r\nL 181.345248 145.414323 \r\nL 184.419628 145.414323 \r\nL 187.494008 145.414323 \r\nL 190.568388 145.414323 \r\nL 193.642769 145.414323 \r\nL 196.717149 145.414323 \r\nL 199.791529 145.414323 \r\nL 202.865909 145.414323 \r\nL 205.940289 145.414323 \r\nL 209.014669 145.414323 \r\nL 212.08905 145.414323 \r\nL 215.16343 145.414323 \r\nL 218.23781 145.414323 \r\nL 221.31219 145.414323 \r\nL 224.38657 145.414323 \r\nL 227.46095 145.414323 \r\nL 230.535331 145.414323 \r\nL 233.609711 145.414323 \r\nL 236.684091 145.414323 \r\nL 239.758471 145.414323 \r\nL 242.832851 145.414323 \r\nL 245.907231 145.414323 \r\nL 248.981612 145.414323 \r\nL 252.055992 145.414323 \r\nL 255.130372 145.414323 \r\nL 258.204752 145.414323 \r\nL 261.279132 145.414323 \r\nL 264.353512 145.414323 \r\nL 267.427893 145.414323 \r\nL 270.502273 145.414323 \r\nL 273.576653 145.414323 \r\nL 276.651033 145.414323 \r\nL 279.725413 145.414323 \r\nL 282.799793 145.414323 \r\nL 285.874174 145.414323 \r\nL 288.948554 145.414323 \r\nL 292.022934 145.414323 \r\nL 295.097314 145.414323 \r\nL 298.171694 145.414323 \r\nL 301.246074 145.414323 \r\nL 304.320455 145.414323 \r\nL 307.394835 145.414323 \r\nL 310.469215 145.414323 \r\nL 313.543595 145.414323 \r\nL 316.617975 145.414323 \r\nL 319.692355 145.414323 \r\nL 322.766736 145.414323 \r\nL 325.841116 145.414323 \r\nL 328.915496 145.414323 \r\nL 331.989876 145.414323 \r\nL 335.064256 145.414323 \r\nL 338.138636 145.414323 \r\nL 341.213017 145.414323 \r\nL 344.287397 145.414323 \r\nL 347.361777 145.414323 \r\nL 350.436157 145.414323 \r\nL 353.510537 145.414323 \r\nL 356.584917 145.414323 \r\nL 359.659298 145.414323 \r\nL 362.733678 145.414323 \r\nL 365.808058 145.414323 \r\nL 368.882438 145.414323 \r\nL 371.956818 145.414323 \r\n\" style=\"fill:none;stroke:#1f77b4;stroke-linecap:square;stroke-width:1.5;\"/>\r\n   </g>\r\n   <g id=\"line2d_27\">\r\n    <path clip-path=\"url(#pe732690c75)\" d=\"M 67.593182 145.414323 \r\nL 70.667562 235.265563 \r\nL 73.741942 159.601361 \r\nL 76.816322 159.601361 \r\nL 79.890702 159.601361 \r\nL 82.965083 159.601361 \r\nL 86.039463 159.601361 \r\nL 89.113843 159.601361 \r\nL 92.188223 159.601361 \r\nL 95.262603 159.601361 \r\nL 98.336983 159.601361 \r\nL 101.411364 159.601361 \r\nL 104.485744 159.601361 \r\nL 107.560124 159.601361 \r\nL 110.634504 159.601361 \r\nL 113.708884 159.601361 \r\nL 116.783264 159.601361 \r\nL 119.857645 159.601361 \r\nL 122.932025 159.601361 \r\nL 126.006405 159.601361 \r\nL 129.080785 159.601361 \r\nL 132.155165 159.601361 \r\nL 135.229545 159.601361 \r\nL 138.303926 159.601361 \r\nL 141.378306 159.601361 \r\nL 144.452686 159.601361 \r\nL 147.527066 159.601361 \r\nL 150.601446 159.601361 \r\nL 153.675826 159.601361 \r\nL 156.750207 159.601361 \r\nL 159.824587 159.601361 \r\nL 162.898967 159.601361 \r\nL 165.973347 159.601361 \r\nL 169.047727 159.601361 \r\nL 172.122107 159.601361 \r\nL 175.196488 159.601361 \r\nL 178.270868 159.601361 \r\nL 181.345248 159.601361 \r\nL 184.419628 159.601361 \r\nL 187.494008 159.601361 \r\nL 190.568388 159.601361 \r\nL 193.642769 159.601361 \r\nL 196.717149 159.601361 \r\nL 199.791529 159.601361 \r\nL 202.865909 159.601361 \r\nL 205.940289 159.601361 \r\nL 209.014669 159.601361 \r\nL 212.08905 159.601361 \r\nL 215.16343 159.601361 \r\nL 218.23781 159.601361 \r\nL 221.31219 159.601361 \r\nL 224.38657 159.601361 \r\nL 227.46095 159.601361 \r\nL 230.535331 159.601361 \r\nL 233.609711 159.601361 \r\nL 236.684091 159.601361 \r\nL 239.758471 159.601361 \r\nL 242.832851 159.601361 \r\nL 245.907231 159.601361 \r\nL 248.981612 159.601361 \r\nL 252.055992 159.601361 \r\nL 255.130372 159.601361 \r\nL 258.204752 159.601361 \r\nL 261.279132 159.601361 \r\nL 264.353512 159.601361 \r\nL 267.427893 159.601361 \r\nL 270.502273 159.601361 \r\nL 273.576653 159.601361 \r\nL 276.651033 159.601361 \r\nL 279.725413 159.601361 \r\nL 282.799793 159.601361 \r\nL 285.874174 159.601361 \r\nL 288.948554 159.601361 \r\nL 292.022934 159.601361 \r\nL 295.097314 159.601361 \r\nL 298.171694 159.601361 \r\nL 301.246074 159.601361 \r\nL 304.320455 159.601361 \r\nL 307.394835 159.601361 \r\nL 310.469215 159.601361 \r\nL 313.543595 159.601361 \r\nL 316.617975 159.601361 \r\nL 319.692355 159.601361 \r\nL 322.766736 159.601361 \r\nL 325.841116 159.601361 \r\nL 328.915496 159.601361 \r\nL 331.989876 159.601361 \r\nL 335.064256 159.601361 \r\nL 338.138636 159.601361 \r\nL 341.213017 159.601361 \r\nL 344.287397 159.601361 \r\nL 347.361777 159.601361 \r\nL 350.436157 159.601361 \r\nL 353.510537 159.601361 \r\nL 356.584917 159.601361 \r\nL 359.659298 159.601361 \r\nL 362.733678 159.601361 \r\nL 365.808058 159.601361 \r\nL 368.882438 159.601361 \r\nL 371.956818 159.601361 \r\n\" style=\"fill:none;stroke:#ff7f0e;stroke-linecap:square;stroke-width:1.5;\"/>\r\n   </g>\r\n   <g id=\"patch_9\">\r\n    <path d=\"M 52.375 239.758125 \r\nL 52.375 140.921761 \r\n\" style=\"fill:none;stroke:#000000;stroke-linecap:square;stroke-linejoin:miter;stroke-width:0.8;\"/>\r\n   </g>\r\n   <g id=\"patch_10\">\r\n    <path d=\"M 387.175 239.758125 \r\nL 387.175 140.921761 \r\n\" style=\"fill:none;stroke:#000000;stroke-linecap:square;stroke-linejoin:miter;stroke-width:0.8;\"/>\r\n   </g>\r\n   <g id=\"patch_11\">\r\n    <path d=\"M 52.375 239.758125 \r\nL 387.175 239.758125 \r\n\" style=\"fill:none;stroke:#000000;stroke-linecap:square;stroke-linejoin:miter;stroke-width:0.8;\"/>\r\n   </g>\r\n   <g id=\"patch_12\">\r\n    <path d=\"M 52.375 140.921761 \r\nL 387.175 140.921761 \r\n\" style=\"fill:none;stroke:#000000;stroke-linecap:square;stroke-linejoin:miter;stroke-width:0.8;\"/>\r\n   </g>\r\n   <g id=\"text_23\">\r\n    <!-- Accuracy -->\r\n    <g transform=\"translate(192.38125 134.921761)scale(0.12 -0.12)\">\r\n     <defs>\r\n      <path d=\"M 34.1875 63.1875 \r\nL 20.796875 26.90625 \r\nL 47.609375 26.90625 \r\nz\r\nM 28.609375 72.90625 \r\nL 39.796875 72.90625 \r\nL 67.578125 0 \r\nL 57.328125 0 \r\nL 50.6875 18.703125 \r\nL 17.828125 18.703125 \r\nL 11.1875 0 \r\nL 0.78125 0 \r\nz\r\n\" id=\"DejaVuSans-65\"/>\r\n      <path d=\"M 48.78125 52.59375 \r\nL 48.78125 44.1875 \r\nQ 44.96875 46.296875 41.140625 47.34375 \r\nQ 37.3125 48.390625 33.40625 48.390625 \r\nQ 24.65625 48.390625 19.8125 42.84375 \r\nQ 14.984375 37.3125 14.984375 27.296875 \r\nQ 14.984375 17.28125 19.8125 11.734375 \r\nQ 24.65625 6.203125 33.40625 6.203125 \r\nQ 37.3125 6.203125 41.140625 7.25 \r\nQ 44.96875 8.296875 48.78125 10.40625 \r\nL 48.78125 2.09375 \r\nQ 45.015625 0.34375 40.984375 -0.53125 \r\nQ 36.96875 -1.421875 32.421875 -1.421875 \r\nQ 20.0625 -1.421875 12.78125 6.34375 \r\nQ 5.515625 14.109375 5.515625 27.296875 \r\nQ 5.515625 40.671875 12.859375 48.328125 \r\nQ 20.21875 56 33.015625 56 \r\nQ 37.15625 56 41.109375 55.140625 \r\nQ 45.0625 54.296875 48.78125 52.59375 \r\nz\r\n\" id=\"DejaVuSans-99\"/>\r\n      <path d=\"M 8.5 21.578125 \r\nL 8.5 54.6875 \r\nL 17.484375 54.6875 \r\nL 17.484375 21.921875 \r\nQ 17.484375 14.15625 20.5 10.265625 \r\nQ 23.53125 6.390625 29.59375 6.390625 \r\nQ 36.859375 6.390625 41.078125 11.03125 \r\nQ 45.3125 15.671875 45.3125 23.6875 \r\nL 45.3125 54.6875 \r\nL 54.296875 54.6875 \r\nL 54.296875 0 \r\nL 45.3125 0 \r\nL 45.3125 8.40625 \r\nQ 42.046875 3.421875 37.71875 1 \r\nQ 33.40625 -1.421875 27.6875 -1.421875 \r\nQ 18.265625 -1.421875 13.375 4.4375 \r\nQ 8.5 10.296875 8.5 21.578125 \r\nz\r\nM 31.109375 56 \r\nz\r\n\" id=\"DejaVuSans-117\"/>\r\n      <path d=\"M 32.171875 -5.078125 \r\nQ 28.375 -14.84375 24.75 -17.8125 \r\nQ 21.140625 -20.796875 15.09375 -20.796875 \r\nL 7.90625 -20.796875 \r\nL 7.90625 -13.28125 \r\nL 13.1875 -13.28125 \r\nQ 16.890625 -13.28125 18.9375 -11.515625 \r\nQ 21 -9.765625 23.484375 -3.21875 \r\nL 25.09375 0.875 \r\nL 2.984375 54.6875 \r\nL 12.5 54.6875 \r\nL 29.59375 11.921875 \r\nL 46.6875 54.6875 \r\nL 56.203125 54.6875 \r\nz\r\n\" id=\"DejaVuSans-121\"/>\r\n     </defs>\r\n     <use xlink:href=\"#DejaVuSans-65\"/>\r\n     <use x=\"66.658203\" xlink:href=\"#DejaVuSans-99\"/>\r\n     <use x=\"121.638672\" xlink:href=\"#DejaVuSans-99\"/>\r\n     <use x=\"176.619141\" xlink:href=\"#DejaVuSans-117\"/>\r\n     <use x=\"239.998047\" xlink:href=\"#DejaVuSans-114\"/>\r\n     <use x=\"281.111328\" xlink:href=\"#DejaVuSans-97\"/>\r\n     <use x=\"342.390625\" xlink:href=\"#DejaVuSans-99\"/>\r\n     <use x=\"397.371094\" xlink:href=\"#DejaVuSans-121\"/>\r\n    </g>\r\n   </g>\r\n   <g id=\"legend_2\">\r\n    <g id=\"patch_13\">\r\n     <path d=\"M 324.9 234.758125 \r\nL 380.175 234.758125 \r\nQ 382.175 234.758125 382.175 232.758125 \r\nL 382.175 204.401875 \r\nQ 382.175 202.401875 380.175 202.401875 \r\nL 324.9 202.401875 \r\nQ 322.9 202.401875 322.9 204.401875 \r\nL 322.9 232.758125 \r\nQ 322.9 234.758125 324.9 234.758125 \r\nz\r\n\" style=\"fill:#ffffff;opacity:0.8;stroke:#cccccc;stroke-linejoin:miter;\"/>\r\n    </g>\r\n    <g id=\"line2d_28\">\r\n     <path d=\"M 326.9 210.500312 \r\nL 346.9 210.500312 \r\n\" style=\"fill:none;stroke:#1f77b4;stroke-linecap:square;stroke-width:1.5;\"/>\r\n    </g>\r\n    <g id=\"line2d_29\"/>\r\n    <g id=\"text_24\">\r\n     <!-- train -->\r\n     <g transform=\"translate(354.9 214.000312)scale(0.1 -0.1)\">\r\n      <use xlink:href=\"#DejaVuSans-116\"/>\r\n      <use x=\"39.208984\" xlink:href=\"#DejaVuSans-114\"/>\r\n      <use x=\"80.322266\" xlink:href=\"#DejaVuSans-97\"/>\r\n      <use x=\"141.601562\" xlink:href=\"#DejaVuSans-105\"/>\r\n      <use x=\"169.384766\" xlink:href=\"#DejaVuSans-110\"/>\r\n     </g>\r\n    </g>\r\n    <g id=\"line2d_30\">\r\n     <path d=\"M 326.9 225.178437 \r\nL 346.9 225.178437 \r\n\" style=\"fill:none;stroke:#ff7f0e;stroke-linecap:square;stroke-width:1.5;\"/>\r\n    </g>\r\n    <g id=\"line2d_31\"/>\r\n    <g id=\"text_25\">\r\n     <!-- test -->\r\n     <g transform=\"translate(354.9 228.678437)scale(0.1 -0.1)\">\r\n      <use xlink:href=\"#DejaVuSans-116\"/>\r\n      <use x=\"39.208984\" xlink:href=\"#DejaVuSans-101\"/>\r\n      <use x=\"100.732422\" xlink:href=\"#DejaVuSans-115\"/>\r\n      <use x=\"152.832031\" xlink:href=\"#DejaVuSans-116\"/>\r\n     </g>\r\n    </g>\r\n   </g>\r\n  </g>\r\n </g>\r\n <defs>\r\n  <clipPath id=\"p4dbd0a993a\">\r\n   <rect height=\"98.836364\" width=\"334.8\" x=\"52.375\" y=\"22.318125\"/>\r\n  </clipPath>\r\n  <clipPath id=\"pe732690c75\">\r\n   <rect height=\"98.836364\" width=\"334.8\" x=\"52.375\" y=\"140.921761\"/>\r\n  </clipPath>\r\n </defs>\r\n</svg>\r\n",
      "image/png": "[encoded data removed]"
     },
     "metadata": {
      "needs_background": "light"
     }
    }
   ],
   "source": [
    "history = model.fit(trainset, y, batch_size=32, validation_data=(testset, y), epochs=100, verbose=0)\n",
    "\n",
    "# evaluate the model\n",
    "_, train_acc = model.evaluate(trainset, y, verbose=0)\n",
    "_, test_acc = model.evaluate(testset, y, verbose=0)\n",
    "print('Train: %.3f, Test: %.3f' % (train_acc, test_acc))\n",
    "# plot loss during training\n",
    "pyplot.subplot(211)\n",
    "pyplot.title('Loss')\n",
    "pyplot.plot(history.history['loss'], label='train')\n",
    "pyplot.plot(history.history['val_loss'], label='test')\n",
    "pyplot.legend()\n",
    "# plot accuracy during training\n",
    "pyplot.subplot(212)\n",
    "pyplot.title('Accuracy')\n",
    "pyplot.plot(history.history['accuracy'], label='train')\n",
    "pyplot.plot(history.history['val_accuracy'], label='test')\n",
    "pyplot.legend()\n",
    "pyplot.show()"
   ]
  },
  {
   "source": [
    "## Save Model"
   ],
   "cell_type": "markdown",
   "metadata": {}
  },
  {
   "cell_type": "code",
   "execution_count": null,
   "metadata": {},
   "outputs": [],
   "source": [
    "model.save('models/Bvot-Canton_Cher')"
   ]
  }
 ],
 "metadata": {
  "interpreter": {
   "hash": "f0fa724eec0ec444dea2e62336f807faf0d4abce81a73d41f2e810ca2583b8da"
  },
  "kernelspec": {
   "name": "python3",
   "display_name": "Python 3.9.0 64-bit"
  },
  "language_info": {
   "codemirror_mode": {
    "name": "ipython",
    "version": 3
   },
   "file_extension": ".py",
   "mimetype": "text/x-python",
   "name": "python",
   "nbconvert_exporter": "python",
   "pygments_lexer": "ipython3",
   "version": "3.9.0"
  }
 },
 "nbformat": 4,
 "nbformat_minor": 5
}