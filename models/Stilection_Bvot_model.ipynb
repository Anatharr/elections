{
 "metadata": {
  "language_info": {
   "codemirror_mode": {
    "name": "ipython",
    "version": 3
   },
   "file_extension": ".py",
   "mimetype": "text/x-python",
   "name": "python",
   "nbconvert_exporter": "python",
   "pygments_lexer": "ipython3",
   "version": "3.8.5"
  },
  "orig_nbformat": 4,
  "kernelspec": {
   "name": "python3",
   "display_name": "Python 3.8.5 64-bit"
  },
  "interpreter": {
   "hash": "767d51c1340bd893661ea55ea3124f6de3c7a262a8b4abca0554b478b1e2ff90"
  }
 },
 "nbformat": 4,
 "nbformat_minor": 2,
 "cells": [
  {
   "cell_type": "code",
   "execution_count": 15,
   "metadata": {},
   "outputs": [
    {
     "output_type": "stream",
     "name": "stderr",
     "text": [
      "/home/jaman/.local/lib/python3.8/site-packages/IPython/core/interactiveshell.py:3165: DtypeWarning: Columns (1,4) have mixed types. Specify dtype option on import or set low_memory=False.\n  has_raised = await self.run_ast_nodes(code_ast.body, cell_name,\n"
     ]
    }
   ],
   "source": [
    "#load data\n",
    "import pandas as pd\n",
    "\n",
    "data = pd.read_csv('../dataset/raw/DP15_Bvot_T1T2.csv', sep=';')\n",
    "\n",
    "df = data.copy()\n",
    "original_data_canton_FR = pd.read_excel(r'../dataset/raw/Dep_15_Resultats_T1_complet.xlsx', sheet_name='Cantons', header=2)\n",
    "# original_data_Bvot_FR        = pd.read_csv('../dataset/inputs/XDataFR_Bvot.csv', sep=';')\n",
    "# original_data_Bvot_targets_FR = pd.read_csv('../dataset/labels/yDataFR_Bvot.csv', sep=';')\n",
    "\n",
    "data_canton_FR = original_data_canton_FR.copy()\n",
    "# data_Bvot_FR   = original_data_Bvot_FR.copy()\n",
    "# data_Bvot_targets_FR = original_data_Bvot_targets_FR.copy()"
   ]
  },
  {
   "cell_type": "code",
   "execution_count": 8,
   "metadata": {},
   "outputs": [],
   "source": [
    "def saveData(data, loc):\n",
    "    # save cher_data as excel\n",
    "    writer = pd.ExcelWriter(loc)\n",
    "    \n",
    "    # write dataframe to excel\n",
    "    data.to_excel(writer)\n",
    "\n",
    "    # save the excel\n",
    "    writer.save()"
   ]
  },
  {
   "cell_type": "code",
   "execution_count": 4,
   "metadata": {},
   "outputs": [
    {
     "output_type": "execute_result",
     "data": {
      "text/plain": [
       "Index(['NUMTOUR', 'CODDPT', 'CODSUBCOM', 'LIBSUBCOM', 'CODBURVOT', 'CODCAN',\n",
       "       'LIBCAN', 'NBRINS', 'NBRVOT', 'NBREXP', 'NUMDEPCAND', 'LIBLISEXT',\n",
       "       'CODNUA', 'NBRVOIX'],\n",
       "      dtype='object')"
      ]
     },
     "metadata": {},
     "execution_count": 4
    }
   ],
   "source": [
    "df.columns"
   ]
  },
  {
   "cell_type": "code",
   "execution_count": 5,
   "metadata": {},
   "outputs": [],
   "source": [
    "df_t1 = df[df.NUMTOUR == 1]\n",
    "df_t2 = df[df.NUMTOUR == 2]"
   ]
  },
  {
   "cell_type": "code",
   "execution_count": 6,
   "metadata": {},
   "outputs": [
    {
     "output_type": "stream",
     "name": "stdout",
     "text": [
      "<class 'pandas.core.frame.DataFrame'>\nInt64Index: 289173 entries, 0 to 289172\nData columns (total 14 columns):\nNUMTOUR       289173 non-null int64\nCODDPT        289173 non-null object\nCODSUBCOM     289173 non-null int64\nLIBSUBCOM     289173 non-null object\nCODBURVOT     289173 non-null object\nCODCAN        289173 non-null int64\nLIBCAN        289173 non-null object\nNBRINS        289173 non-null int64\nNBRVOT        289173 non-null int64\nNBREXP        289173 non-null int64\nNUMDEPCAND    289173 non-null int64\nLIBLISEXT     289173 non-null object\nCODNUA        289173 non-null object\nNBRVOIX       289173 non-null int64\ndtypes: int64(8), object(6)\nmemory usage: 43.1+ MB\n"
     ]
    }
   ],
   "source": [
    "df_t1.info()"
   ]
  },
  {
   "cell_type": "code",
   "execution_count": 7,
   "metadata": {
    "tags": []
   },
   "outputs": [
    {
     "output_type": "stream",
     "name": "stdout",
     "text": [
      "<class 'pandas.core.frame.DataFrame'>\nInt64Index: 131891 entries, 289173 to 421063\nData columns (total 14 columns):\nNUMTOUR       131891 non-null int64\nCODDPT        131891 non-null object\nCODSUBCOM     131891 non-null int64\nLIBSUBCOM     131891 non-null object\nCODBURVOT     131891 non-null object\nCODCAN        131891 non-null int64\nLIBCAN        131891 non-null object\nNBRINS        131891 non-null int64\nNBRVOT        131891 non-null int64\nNBREXP        131891 non-null int64\nNUMDEPCAND    131891 non-null int64\nLIBLISEXT     131891 non-null object\nCODNUA        131891 non-null object\nNBRVOIX       131891 non-null int64\ndtypes: int64(8), object(6)\nmemory usage: 20.1+ MB\n"
     ]
    }
   ],
   "source": [
    "df_t2.info()"
   ]
  },
  {
   "cell_type": "code",
   "execution_count": 12,
   "metadata": {},
   "outputs": [],
   "source": [
    "saveData(df_t1[df_t1.CODDPT == str(2)], '../dataset/temp/dep2_t1.xlsx')\n",
    "saveData(df_t2[df_t2.CODDPT == str(2)], '../dataset/temp/dep2_t2.xlsx')"
   ]
  },
  {
   "cell_type": "code",
   "execution_count": 124,
   "metadata": {},
   "outputs": [
    {
     "output_type": "stream",
     "name": "stdout",
     "text": [
      "<class 'pandas.core.frame.DataFrame'>\nRangeIndex: 60975 entries, 0 to 60974\nData columns (total 22 columns):\nCODDPT       60975 non-null object\nCODCAN       60975 non-null int64\nCODSUBCOM    60975 non-null int64\nCODBURVOT    60975 non-null object\nBC-COM       60974 non-null float64\nBC-DIV       60974 non-null float64\nBC-DLF       60974 non-null float64\nBC-DVD       60974 non-null float64\nBC-DVG       60974 non-null float64\nBC-EXD       60974 non-null float64\nBC-FG        60974 non-null float64\nBC-FN        60974 non-null float64\nBC-MDM       60974 non-null float64\nBC-PG        60974 non-null float64\nBC-RDG       60974 non-null float64\nBC-SOC       60974 non-null float64\nBC-UC        60974 non-null float64\nBC-UD        60974 non-null float64\nBC-UDI       60974 non-null float64\nBC-UG        60974 non-null float64\nBC-UMP       60974 non-null float64\nBC-VEC       60974 non-null float64\ndtypes: float64(18), int64(2), object(2)\nmemory usage: 10.2+ MB\n"
     ]
    }
   ],
   "source": [
    "data_Bvot_targets_FR.info()"
   ]
  },
  {
   "cell_type": "code",
   "execution_count": 37,
   "metadata": {},
   "outputs": [],
   "source": [
    "def getNbBinomes(data):\n",
    "    return len([header for header in data.columns if \"Binôme\" in header])\n",
    "\n",
    "def explodeLines(data):\n",
    "    initdf = data[['Code du département', 'Libellé du département', 'Code du canton', \n",
    "            'Libellé du canton', 'Inscrits', 'Abstentions', '% Abs/Ins', 'Votants',\n",
    "            '% Vot/Ins', 'Blancs', '% Blancs/Ins', '% Blancs/Vot', 'Nuls', '% Nuls/Ins',\n",
    "            '% Nuls/Vot', 'Exprimés', '% Exp/Ins', '% Exp/Vot']]\n",
    "\n",
    "    headers = ['N°Panneau', 'Nuance', 'Binôme', 'Sièges', 'Voix', '% Voix/Ins', '% Voix/Exp']\n",
    "    \n",
    "    df = pd.DataFrame()\n",
    "    for i in range(getNbBinomes(data)):\n",
    "        partidf = data[[h+'.'+str(i) if i!=0 else h for h in headers]]\n",
    "        partidf = pd.concat([initdf, partidf], axis=1)\n",
    "        partidf.columns = pd.Index(initdf.columns.values.tolist() + headers)\n",
    "        df = pd.concat([df, partidf])\n",
    "    \n",
    "    # Remove useless rows   \n",
    "    df = df.dropna(how='all', subset=headers)\n",
    "    \n",
    "    return df"
   ]
  },
  {
   "cell_type": "code",
   "execution_count": 38,
   "metadata": {},
   "outputs": [
    {
     "output_type": "execute_result",
     "data": {
      "text/plain": [
       "  Code du département Libellé du département  ...  % Voix/Ins % Voix/Exp\n",
       "0                   1                    AIN  ...        3.59       7.55\n",
       "0                   1                    AIN  ...       11.08      23.27\n",
       "0                   1                    AIN  ...        3.86       8.11\n",
       "0                   1                    AIN  ...       13.52      28.39\n",
       "0                   1                    AIN  ...       15.55      32.67\n",
       "\n",
       "[5 rows x 25 columns]"
      ],
      "text/html": "<div>\n<style scoped>\n    .dataframe tbody tr th:only-of-type {\n        vertical-align: middle;\n    }\n\n    .dataframe tbody tr th {\n        vertical-align: top;\n    }\n\n    .dataframe thead th {\n        text-align: right;\n    }\n</style>\n<table border=\"1\" class=\"dataframe\">\n  <thead>\n    <tr style=\"text-align: right;\">\n      <th></th>\n      <th>Code du département</th>\n      <th>Libellé du département</th>\n      <th>Code du canton</th>\n      <th>Libellé du canton</th>\n      <th>Inscrits</th>\n      <th>Abstentions</th>\n      <th>% Abs/Ins</th>\n      <th>Votants</th>\n      <th>% Vot/Ins</th>\n      <th>Blancs</th>\n      <th>% Blancs/Ins</th>\n      <th>% Blancs/Vot</th>\n      <th>Nuls</th>\n      <th>% Nuls/Ins</th>\n      <th>% Nuls/Vot</th>\n      <th>Exprimés</th>\n      <th>% Exp/Ins</th>\n      <th>% Exp/Vot</th>\n      <th>N°Panneau</th>\n      <th>Nuance</th>\n      <th>Binôme</th>\n      <th>Sièges</th>\n      <th>Voix</th>\n      <th>% Voix/Ins</th>\n      <th>% Voix/Exp</th>\n    </tr>\n  </thead>\n  <tbody>\n    <tr>\n      <th>0</th>\n      <td>1</td>\n      <td>AIN</td>\n      <td>1</td>\n      <td>Ambérieu-en-Bugey</td>\n      <td>19027</td>\n      <td>9588</td>\n      <td>50.39</td>\n      <td>9439</td>\n      <td>49.61</td>\n      <td>281</td>\n      <td>1.48</td>\n      <td>2.98</td>\n      <td>100</td>\n      <td>0.53</td>\n      <td>1.06</td>\n      <td>9058</td>\n      <td>47.61</td>\n      <td>95.96</td>\n      <td>2.0</td>\n      <td>BC-COM</td>\n      <td>Mme BRESSON Christine et M. ROBERT Patrice</td>\n      <td></td>\n      <td>684.0</td>\n      <td>3.59</td>\n      <td>7.55</td>\n    </tr>\n    <tr>\n      <th>0</th>\n      <td>1</td>\n      <td>AIN</td>\n      <td>1</td>\n      <td>Ambérieu-en-Bugey</td>\n      <td>19027</td>\n      <td>9588</td>\n      <td>50.39</td>\n      <td>9439</td>\n      <td>49.61</td>\n      <td>281</td>\n      <td>1.48</td>\n      <td>2.98</td>\n      <td>100</td>\n      <td>0.53</td>\n      <td>1.06</td>\n      <td>9058</td>\n      <td>47.61</td>\n      <td>95.96</td>\n      <td>5.0</td>\n      <td>BC-UG</td>\n      <td>M. BOUCHON Gilbert et Mme PIDOUX Catherine</td>\n      <td></td>\n      <td>2108.0</td>\n      <td>11.08</td>\n      <td>23.27</td>\n    </tr>\n    <tr>\n      <th>0</th>\n      <td>1</td>\n      <td>AIN</td>\n      <td>1</td>\n      <td>Ambérieu-en-Bugey</td>\n      <td>19027</td>\n      <td>9588</td>\n      <td>50.39</td>\n      <td>9439</td>\n      <td>49.61</td>\n      <td>281</td>\n      <td>1.48</td>\n      <td>2.98</td>\n      <td>100</td>\n      <td>0.53</td>\n      <td>1.06</td>\n      <td>9058</td>\n      <td>47.61</td>\n      <td>95.96</td>\n      <td>3.0</td>\n      <td>BC-VEC</td>\n      <td>Mme BOUDIB Emmanuelle et M. NAVARRO Jean</td>\n      <td></td>\n      <td>735.0</td>\n      <td>3.86</td>\n      <td>8.11</td>\n    </tr>\n    <tr>\n      <th>0</th>\n      <td>1</td>\n      <td>AIN</td>\n      <td>1</td>\n      <td>Ambérieu-en-Bugey</td>\n      <td>19027</td>\n      <td>9588</td>\n      <td>50.39</td>\n      <td>9439</td>\n      <td>49.61</td>\n      <td>281</td>\n      <td>1.48</td>\n      <td>2.98</td>\n      <td>100</td>\n      <td>0.53</td>\n      <td>1.06</td>\n      <td>9058</td>\n      <td>47.61</td>\n      <td>95.96</td>\n      <td>1.0</td>\n      <td>BC-UD</td>\n      <td>Mme CASTELLANO Sandrine et M. FORTIN Christophe</td>\n      <td></td>\n      <td>2572.0</td>\n      <td>13.52</td>\n      <td>28.39</td>\n    </tr>\n    <tr>\n      <th>0</th>\n      <td>1</td>\n      <td>AIN</td>\n      <td>1</td>\n      <td>Ambérieu-en-Bugey</td>\n      <td>19027</td>\n      <td>9588</td>\n      <td>50.39</td>\n      <td>9439</td>\n      <td>49.61</td>\n      <td>281</td>\n      <td>1.48</td>\n      <td>2.98</td>\n      <td>100</td>\n      <td>0.53</td>\n      <td>1.06</td>\n      <td>9058</td>\n      <td>47.61</td>\n      <td>95.96</td>\n      <td>4.0</td>\n      <td>BC-FN</td>\n      <td>Mme PAGNEUX Nadège et M. VERGNAULT Jean-Pierre</td>\n      <td></td>\n      <td>2959.0</td>\n      <td>15.55</td>\n      <td>32.67</td>\n    </tr>\n  </tbody>\n</table>\n</div>"
     },
     "metadata": {},
     "execution_count": 38
    }
   ],
   "source": [
    "data_canton_FR = explodeLines(data_canton_FR)\n",
    "# tmp = fr_data[fr_data['Code du département']==63]\n",
    "# tmp = tmp[tmp['Code du canton']==4]\n",
    "# tmp\n",
    "\n",
    "tmp = fr_data.loc[(data_canton_FR['Code du département']==1 ) & (data_canton_FR['Code du canton']==1) ]\n",
    "tmp"
   ]
  },
  {
   "cell_type": "code",
   "execution_count": 36,
   "metadata": {},
   "outputs": [],
   "source": [
    "def getNuanceOfElected(data, col_siege='Sièges', col_nuance='Nuance'):\n",
    "    elected = data[data[col_siege]=='Elus']\n",
    "    return list(elected[col_nuance].unique()) if len(elected)!=0 else None\n",
    "\n",
    "def filterBestNuances(data, col_nuance='Nuance', criteria=12.50):\n",
    "    bestCandidat = data[data['% Voix/Ins']>= criteria]\n",
    "    if bestCandidat.empty or len(bestCandidat)==1:\n",
    "        bestCandidat = data.sort_values(by='Voix', ascending=False).iloc[0:2,:]\n",
    "\n",
    "    return list(bestCandidat[col_nuance].unique())\n",
    "\n",
    "def getDuels(data, dep, col_dep='Code du département', col_canton='Code du canton', col_siege='Sièges', col_nuance='Nuance'):\n",
    "    data = data[data[col_dep]==dep]\n",
    "    duels = dict()\n",
    "    for canton in data[col_canton].unique():\n",
    "        data_canton = data[data[col_canton]==canton]\n",
    "        # allow to know if there is a majority in the canton\n",
    "        elected = getNuanceOfElected(data_canton, col_siege=col_siege, col_nuance=col_nuance) \n",
    "        if elected is not None:\n",
    "            duels[str(canton)]= elected\n",
    "        else:\n",
    "            duels[str(canton)] = filterBestNuances(data_canton)\n",
    "    return duels\n",
    "\n"
   ]
  },
  {
   "cell_type": "code",
   "execution_count": 39,
   "metadata": {
    "tags": []
   },
   "outputs": [],
   "source": [
    "duels = dict()\n",
    "for dep in data_canton_FR['Code du département'].unique():\n",
    "    duels[str(dep)]= getDuels(data_canton_FR, dep)\n",
    "    if duels[str(dep)]==[]:\n",
    "        print('empty list for dep : ', dep)"
   ]
  },
  {
   "cell_type": "code",
   "execution_count": 41,
   "metadata": {},
   "outputs": [
    {
     "output_type": "execute_result",
     "data": {
      "text/plain": [
       "{'1': ['BC-UG', 'BC-FN'],\n",
       " '2': ['BC-UG', 'BC-FN'],\n",
       " '3': ['BC-UG', 'BC-FN'],\n",
       " '4': ['BC-UG', 'BC-UD', 'BC-FN'],\n",
       " '5': ['BC-UMP', 'BC-FN'],\n",
       " '6': ['BC-UG', 'BC-UD', 'BC-FN'],\n",
       " '7': ['BC-SOC', 'BC-UD', 'BC-FN'],\n",
       " '8': ['BC-UG', 'BC-FN'],\n",
       " '9': ['BC-UG', 'BC-FN'],\n",
       " '10': ['BC-UG', 'BC-FN'],\n",
       " '11': ['BC-UG', 'BC-UD', 'BC-FN'],\n",
       " '12': ['BC-UG', 'BC-UD', 'BC-FN'],\n",
       " '13': ['BC-UD', 'BC-FN'],\n",
       " '14': ['BC-UD', 'BC-FN'],\n",
       " '15': ['BC-UD', 'BC-FN'],\n",
       " '16': ['BC-UG', 'BC-UD', 'BC-FN'],\n",
       " '17': ['BC-UG', 'BC-UD', 'BC-FN'],\n",
       " '18': ['BC-UG', 'BC-FN'],\n",
       " '19': ['BC-UDI', 'BC-UMP', 'BC-FN'],\n",
       " '20': ['BC-FN'],\n",
       " '21': ['BC-FN', 'BC-UMP']}"
      ]
     },
     "metadata": {},
     "execution_count": 41
    }
   ],
   "source": [
    "duels['2']"
   ]
  },
  {
   "cell_type": "code",
   "execution_count": 119,
   "metadata": {},
   "outputs": [],
   "source": [
    "\n",
    "# retourne un dataset \n",
    "def getTrainSets(X, y, duel, col_canton='CODCAN', col_dep='Code du département'):\n",
    "    mask_dep    = pd.Series([False]*len(X))\n",
    "    mask_canton = pd.Series([False]*len(X))\n",
    "    for dep in X[col_dep].unique():\n",
    "        for canton in X[X[col_dep]==dep][col_canton].unique(): #pour chaque canton du departement\n",
    "            #on considere que les cantons qui ont comme partis les partis du duel\n",
    "            if all(nuance in X.loc[(X[col_dep]==dep) & (X[col_canton]==canton)] for nuance in duel):\n",
    "                mask_dep    |= X[col_dep]==dep\n",
    "                mask_canton |= X[col_canton]==canton\n",
    "\n",
    "    # filtre les departement dont aucun canton contient notre duel\n",
    "    X= X[mask_dep]\n",
    "    y = y[mask_dep]\n",
    "    return (X[mask_canton], y[mask_canton])\n",
    "                        \n"
   ]
  },
  {
   "cell_type": "code",
   "execution_count": null,
   "metadata": {},
   "outputs": [],
   "source": [
    "#"
   ]
  }
 ]
}