{
 "metadata": {
  "language_info": {
   "codemirror_mode": {
    "name": "ipython",
    "version": 3
   },
   "file_extension": ".py",
   "mimetype": "text/x-python",
   "name": "python",
   "nbconvert_exporter": "python",
   "pygments_lexer": "ipython3",
   "version": "3.8.5"
  },
  "orig_nbformat": 4,
  "kernelspec": {
   "name": "python3",
   "display_name": "Python 3.8.5 64-bit"
  },
  "interpreter": {
   "hash": "767d51c1340bd893661ea55ea3124f6de3c7a262a8b4abca0554b478b1e2ff90"
  }
 },
 "nbformat": 4,
 "nbformat_minor": 2,
 "cells": [
  {
   "cell_type": "code",
   "execution_count": 2,
   "metadata": {},
   "outputs": [],
   "source": [
    "#load data\n",
    "import pandas as pd\n",
    "\n",
    "original_data_canton_FR = pd.read_excel(r'../dataset/raw/Dep_15_Resultats_T1_complet.xlsx', sheet_name='Cantons', header=2)\n",
    "original_data_Bvot_FR        = pd.read_csv('../dataset/inputs/XDataFR_Bvot.csv', sep=';')\n",
    "original_data_Bvot_targets_FR = pd.read_csv('../dataset/labels/yDataFR_Bvot.csv', sep=';')\n",
    "\n",
    "data_canton_FR = original_data_canton_FR.copy()\n",
    "data_Bvot_FR   = original_data_Bvot_FR.copy()\n",
    "data_Bvot_targets_FR = original_data_Bvot_targets_FR.copy()"
   ]
  },
  {
   "cell_type": "code",
   "execution_count": 3,
   "metadata": {},
   "outputs": [],
   "source": [
    "def saveData(data, loc):\n",
    "    # save cher_data as excel\n",
    "    writer = pd.ExcelWriter(loc)\n",
    "    \n",
    "    # write dataframe to excel\n",
    "    data.to_excel(writer)\n",
    "\n",
    "    # save the excel\n",
    "    writer.save()"
   ]
  },
  {
   "cell_type": "code",
   "execution_count": 4,
   "metadata": {},
   "outputs": [],
   "source": [
    "def getNbBinomes(data):\n",
    "    return len([header for header in data.columns if \"Binôme\" in header])\n",
    "\n",
    "def explodeLines(data):\n",
    "    initdf = data[['Code du département', 'Libellé du département', 'Code du canton', \n",
    "            'Libellé du canton', 'Inscrits', 'Abstentions', '% Abs/Ins', 'Votants',\n",
    "            '% Vot/Ins', 'Blancs', '% Blancs/Ins', '% Blancs/Vot', 'Nuls', '% Nuls/Ins',\n",
    "            '% Nuls/Vot', 'Exprimés', '% Exp/Ins', '% Exp/Vot']]\n",
    "\n",
    "    headers = ['N°Panneau', 'Nuance', 'Binôme', 'Sièges', 'Voix', '% Voix/Ins', '% Voix/Exp']\n",
    "    \n",
    "    df = pd.DataFrame()\n",
    "    for i in range(getNbBinomes(data)):\n",
    "        partidf = data[[h+'.'+str(i) if i!=0 else h for h in headers]]\n",
    "        partidf = pd.concat([initdf, partidf], axis=1)\n",
    "        partidf.columns = pd.Index(initdf.columns.values.tolist() + headers)\n",
    "        df = pd.concat([df, partidf])\n",
    "    \n",
    "    # Remove useless rows   \n",
    "    df = df.dropna(how='all', subset=headers)\n",
    "    \n",
    "    return df"
   ]
  },
  {
   "cell_type": "code",
   "execution_count": 5,
   "metadata": {},
   "outputs": [],
   "source": [
    "#explode line \n",
    "data_canton_FR = explodeLines(data_canton_FR)"
   ]
  },
  {
   "cell_type": "code",
   "execution_count": 33,
   "metadata": {},
   "outputs": [],
   "source": [
    "def getNuanceOfElected(data, col_siege='Sièges', col_nuance='Nuance'):\n",
    "    elected = data[data[col_siege]=='Elus']\n",
    "    return list(elected[col_nuance]) if len(elected)!=0 else None\n",
    "\n",
    "def filterBestNuances(data, col_nuance='Nuance', criteria=12.50):\n",
    "    bestCandidat = data[data['% Voix/Ins']>= criteria]\n",
    "    if bestCandidat.empty or len(bestCandidat)==1:\n",
    "        bestCandidat = data.sort_values(by='Voix', ascending=False).iloc[0:2,:]\n",
    "    if all(data['Code du département']==str(14)) and all(data[col_nuance]==15):\n",
    "        print(data[col_nuance])\n",
    "\n",
    "    return list(bestCandidat[col_nuance])\n",
    "\n",
    "def getDuels(data, dep, col_dep='Code du département', col_canton='Code du canton', col_siege='Sièges', col_nuance='Nuance',count=0):\n",
    "    '''\n",
    "        ATTENTION : data doit etre EXPLODE !\n",
    "    '''\n",
    "    data = data[data[col_dep]==dep]\n",
    "    duels = dict()\n",
    "    for canton in data[col_canton].unique():\n",
    "        data_canton = data[data[col_canton]==canton]\n",
    "        # allow to know if there is a majority in the canton\n",
    "        elected = getNuanceOfElected(data_canton, col_siege=col_siege, col_nuance=col_nuance) \n",
    "        \n",
    "        if elected is not None:\n",
    "            count+=1\n",
    "            duels[str(canton)]= elected\n",
    "        else:\n",
    "            duels[str(canton)] = filterBestNuances(data_canton)\n",
    "            if len(duels[str(canton)])<2:\n",
    "                print(f'dep/canton {(dep,canton)} duel {duels[str(canton)]}')\n",
    "    return duels, count\n",
    "\n",
    "def optimizeDuelDict(duels):\n",
    "    optdic = dict()\n",
    "    for dep, duelDepDict in duels.items():\n",
    "        for canton, duelList in duelDepDict.items():\n",
    "            key = ':'.join(duelList)\n",
    "            if key in optdic.keys():\n",
    "                optdic[key].append((dep, canton))\n",
    "            else:\n",
    "                optdic[key]= [(dep, canton)]\n",
    "    return optdic"
   ]
  },
  {
   "cell_type": "code",
   "execution_count": 34,
   "metadata": {
    "tags": []
   },
   "outputs": [
    {
     "output_type": "execute_result",
     "data": {
      "text/plain": [
       "149"
      ]
     },
     "metadata": {},
     "execution_count": 34
    }
   ],
   "source": [
    "duels = dict()\n",
    "count=0\n",
    "for dep in data_canton_FR['Code du département'].unique():\n",
    "    duels[str(dep)], count= getDuels(data_canton_FR, dep, count=count)\n",
    "    if duels[str(dep)]==[]:\n",
    "        print('empty list for dep : ', dep)\n",
    "\n",
    "count\n"
   ]
  },
  {
   "cell_type": "code",
   "execution_count": 38,
   "metadata": {
    "tags": []
   },
   "outputs": [
    {
     "output_type": "stream",
     "name": "stdout",
     "text": [
      "170\n"
     ]
    }
   ],
   "source": [
    "optDuels = optimizeDuelDict(duels)\n",
    "win = [duel.split(':') for duel in list(optDuels.keys()) if len(duel.split(':'))<2]\n",
    "\n",
    "l = []\n",
    "for winner in win :\n",
    "    l += optDuels[':'.join(winner)]\n",
    "\n",
    "print(len(optDuels))"
   ]
  },
  {
   "cell_type": "code",
   "execution_count": 36,
   "metadata": {},
   "outputs": [
    {
     "output_type": "execute_result",
     "data": {
      "text/plain": [
       "{'1': ['BC-FN', 'BC-DVD'],\n",
       " '2': ['BC-UD', 'BC-FN'],\n",
       " '3': ['BC-DVD', 'BC-FN'],\n",
       " '4': ['BC-UD', 'BC-FN'],\n",
       " '5': ['BC-SOC', 'BC-UD'],\n",
       " '6': ['BC-SOC', 'BC-UD'],\n",
       " '7': ['BC-UG', 'BC-UD'],\n",
       " '8': ['BC-SOC', 'BC-UD'],\n",
       " '9': ['BC-UG', 'BC-UD'],\n",
       " '10': ['BC-DVG', 'BC-DVD', 'BC-FN'],\n",
       " '11': ['BC-DVD', 'BC-SOC'],\n",
       " '12': ['BC-DVG', 'BC-UD'],\n",
       " '13': ['BC-SOC', 'BC-UDI', 'BC-FN'],\n",
       " '14': ['BC-SOC', 'BC-MDM'],\n",
       " '15': ['BC-DVD', 'BC-DVD'],\n",
       " '16': ['BC-SOC', 'BC-UD'],\n",
       " '17': ['BC-DVD', 'BC-FN'],\n",
       " '18': ['BC-UD', 'BC-FN'],\n",
       " '19': ['BC-DVD', 'BC-FN'],\n",
       " '20': ['BC-SOC', 'BC-UMP'],\n",
       " '21': ['BC-DVD'],\n",
       " '22': ['BC-SOC', 'BC-DVD', 'BC-FN'],\n",
       " '23': ['BC-UD', 'BC-FN'],\n",
       " '24': ['BC-UG', 'BC-UD', 'BC-FN'],\n",
       " '25': ['BC-DVG', 'BC-UMP']}"
      ]
     },
     "metadata": {},
     "execution_count": 36
    }
   ],
   "source": [
    "optDuels[':'.join(['BC-FN'])]\n",
    "duels['14']\n"
   ]
  },
  {
   "cell_type": "code",
   "execution_count": null,
   "metadata": {},
   "outputs": [],
   "source": [
    "\n",
    "# retourne un dataset \n",
    "def getTrainSets(X, y, duel, col_canton='CODCAN', col_dep='Code du département'):\n",
    "    mask_dep    = pd.Series([False]*len(X))\n",
    "    mask_canton = pd.Series([False]*len(X))\n",
    "    for dep in X[col_dep].unique():\n",
    "        for canton in X[X[col_dep]==dep][col_canton].unique(): #pour chaque canton du departement\n",
    "            #on considere que les cantons qui ont comme partis les partis du duel\n",
    "            if all(nuance in X.loc[(X[col_dep]==dep) & (X[col_canton]==canton)] for nuance in duel):\n",
    "                mask_dep    |= X[col_dep]==dep\n",
    "                mask_canton |= X[col_canton]==canton\n",
    "\n",
    "    # filtre les departement dont aucun canton contient notre duel\n",
    "    X= X[mask_dep]\n",
    "    y = y[mask_dep]\n",
    "    return (X[mask_canton], y[mask_canton])\n",
    "                        \n"
   ]
  },
  {
   "cell_type": "code",
   "execution_count": null,
   "metadata": {},
   "outputs": [],
   "source": [
    "#"
   ]
  }
 ]
}