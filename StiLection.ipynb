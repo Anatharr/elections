{
 "cells": [
  {
   "cell_type": "markdown",
   "id": "c8eddec0",
   "metadata": {},
   "source": [
    "## Load data"
   ]
  },
  {
   "cell_type": "code",
   "execution_count": 1,
   "id": "cabafd21",
   "metadata": {},
   "outputs": [],
   "source": [
    "import pandas as pd\n",
    "\n",
    "original_data = pd.read_excel('dataset/Dep_15_Resultats_com_T1_c.xlsx', header=2)\n",
    "original_data_canton = pd.read_excel('dataset/Dep_15_Resultats_T1_c.xlsx', header=2, sheet_name=\"Cantons\")\n",
    "original_data_canton_t2 = pd.read_excel('dataset/Dep_15_Resultats_T2_c.xlsx', sheet_name=\"Cantons\")\n",
    "\n",
    "df = original_data.copy()\n",
    "df_canton = original_data_canton.copy()\n",
    "df_canton_t2 = original_data_canton_t2.copy()\n"
   ]
  },
  {
   "cell_type": "code",
   "execution_count": 2,
   "id": "d94138de",
   "metadata": {},
   "outputs": [],
   "source": [
    "def explodeLines(data, n):\n",
    "\tinitdf = data[['Code du département', 'Code du canton', \n",
    "\t\t\t'Code de la commune', 'Inscrits', 'Abstentions', '% Abs/Ins', 'Votants',\n",
    "\t\t\t'% Vot/Ins', 'Blancs', '% Blancs/Ins', '% Blancs/Vot', 'Nuls', '% Nuls/Ins',\n",
    "\t\t\t'% Nuls/Vot', 'Exprimés', '% Exp/Ins', '% Exp/Vot']]\n",
    "\n",
    "\theaders = ['N°Panneau', 'Nuance', 'Binôme', 'Voix', '% Voix/Ins', '% Voix/Exp']\n",
    "\n",
    "\tdf = pd.DataFrame()\n",
    "\tfor i in range(n):\n",
    "\t\tpartidf = data[[h+'.'+str(i) if i!=0 else h for h in headers]]\n",
    "\t\tpartidf = pd.concat([initdf, partidf], axis=1)\n",
    "\t\tpartidf.columns = pd.Index(initdf.columns.values.tolist() + headers)\n",
    "\t\tdf = pd.concat([df, partidf])\n",
    "\n",
    "\t# Remove useless rows\n",
    "    \n",
    "\tuseless_rows = pd.isnull(df[headers]).all(axis=1)\n",
    "\tdf = df[~useless_rows]\n",
    "    \n",
    "\treturn df\n",
    "\n",
    "\n",
    "def getDataFromDepExplode(data, dep):\n",
    "    dep_raw = data['Code du département'] == dep\n",
    "\n",
    "    df = data[dep_raw]\n",
    "    \n",
    "    # explode line \n",
    "    nb_partie = len([header for header in data.columns if \"Binôme\" in header])\n",
    "    df = explodeLines(df, nb_partie)\n",
    "    \n",
    "    return df\n",
    "\n",
    "def getDataFromDep(data, dep):\n",
    "     return data[data['Code du département'] == dep]\n",
    "    \n",
    "    \n",
    "\n",
    "def saveData(data, loc):\n",
    "    # save cher_data as excel\n",
    "    writer = pd.ExcelWriter(loc)\n",
    "    \n",
    "    # write dataframe to excel\n",
    "    data.to_excel(writer)\n",
    "\n",
    "    # save the excel\n",
    "    writer.save()"
   ]
  },
  {
   "cell_type": "code",
   "execution_count": 3,
   "id": "5429efb0",
   "metadata": {
    "scrolled": false
   },
   "outputs": [],
   "source": [
    "#make filter to get data from the cher department\n",
    "cher_data           = getDataFromDepExplode(df, 18)\n",
    "cher_data_canton    = getDataFromDep(df_canton, 18)\n",
    "cher_data_canton_t2 = getDataFromDep(df_canton_t2, 18)\n",
    "\n",
    "\n",
    "\n"
   ]
  },
  {
   "cell_type": "code",
   "execution_count": 4,
   "id": "376074c9",
   "metadata": {},
   "outputs": [],
   "source": [
    "#save data\n",
    "saveData(cher_data, 'dataset/Dep_2015_cher_com_explode.xlsx')\n",
    "\n"
   ]
  },
  {
   "cell_type": "markdown",
   "id": "3aca8dd1",
   "metadata": {},
   "source": [
    "## data information"
   ]
  },
  {
   "cell_type": "code",
   "execution_count": 5,
   "id": "be1366bf",
   "metadata": {},
   "outputs": [
    {
     "name": "stdout",
     "output_type": "stream",
     "text": [
      "<class 'pandas.core.frame.DataFrame'>\n",
      "Int64Index: 1209 entries, 6435 to 6621\n",
      "Data columns (total 23 columns):\n",
      "Code du département    1209 non-null object\n",
      "Code du canton         1209 non-null int64\n",
      "Code de la commune     1209 non-null int64\n",
      "Inscrits               1209 non-null int64\n",
      "Abstentions            1209 non-null int64\n",
      "% Abs/Ins              1209 non-null float64\n",
      "Votants                1209 non-null int64\n",
      "% Vot/Ins              1209 non-null float64\n",
      "Blancs                 1209 non-null int64\n",
      "% Blancs/Ins           1209 non-null float64\n",
      "% Blancs/Vot           1209 non-null float64\n",
      "Nuls                   1209 non-null int64\n",
      "% Nuls/Ins             1209 non-null float64\n",
      "% Nuls/Vot             1209 non-null float64\n",
      "Exprimés               1209 non-null int64\n",
      "% Exp/Ins              1209 non-null float64\n",
      "% Exp/Vot              1209 non-null float64\n",
      "N°Panneau              1209 non-null float64\n",
      "Nuance                 1209 non-null object\n",
      "Binôme                 1209 non-null object\n",
      "Voix                   1209 non-null float64\n",
      "% Voix/Ins             1209 non-null float64\n",
      "% Voix/Exp             1209 non-null float64\n",
      "dtypes: float64(12), int64(8), object(3)\n",
      "memory usage: 226.7+ KB\n"
     ]
    }
   ],
   "source": [
    "cher_data.info()"
   ]
  },
  {
   "cell_type": "code",
   "execution_count": 6,
   "id": "ef57b093",
   "metadata": {},
   "outputs": [
    {
     "data": {
      "text/html": [
       "<div>\n",
       "<style scoped>\n",
       "    .dataframe tbody tr th:only-of-type {\n",
       "        vertical-align: middle;\n",
       "    }\n",
       "\n",
       "    .dataframe tbody tr th {\n",
       "        vertical-align: top;\n",
       "    }\n",
       "\n",
       "    .dataframe thead th {\n",
       "        text-align: right;\n",
       "    }\n",
       "</style>\n",
       "<table border=\"1\" class=\"dataframe\">\n",
       "  <thead>\n",
       "    <tr style=\"text-align: right;\">\n",
       "      <th></th>\n",
       "      <th>Code du département</th>\n",
       "      <th>Code du canton</th>\n",
       "      <th>Code de la commune</th>\n",
       "      <th>Inscrits</th>\n",
       "      <th>Abstentions</th>\n",
       "      <th>% Abs/Ins</th>\n",
       "      <th>Votants</th>\n",
       "      <th>% Vot/Ins</th>\n",
       "      <th>Blancs</th>\n",
       "      <th>% Blancs/Ins</th>\n",
       "      <th>...</th>\n",
       "      <th>% Nuls/Vot</th>\n",
       "      <th>Exprimés</th>\n",
       "      <th>% Exp/Ins</th>\n",
       "      <th>% Exp/Vot</th>\n",
       "      <th>N°Panneau</th>\n",
       "      <th>Nuance</th>\n",
       "      <th>Binôme</th>\n",
       "      <th>Voix</th>\n",
       "      <th>% Voix/Ins</th>\n",
       "      <th>% Voix/Exp</th>\n",
       "    </tr>\n",
       "  </thead>\n",
       "  <tbody>\n",
       "    <tr>\n",
       "      <th>6435</th>\n",
       "      <td>18</td>\n",
       "      <td>1</td>\n",
       "      <td>11</td>\n",
       "      <td>1774</td>\n",
       "      <td>828</td>\n",
       "      <td>46.67</td>\n",
       "      <td>946</td>\n",
       "      <td>53.33</td>\n",
       "      <td>15</td>\n",
       "      <td>0.85</td>\n",
       "      <td>...</td>\n",
       "      <td>0.95</td>\n",
       "      <td>922</td>\n",
       "      <td>51.97</td>\n",
       "      <td>97.46</td>\n",
       "      <td>3.0</td>\n",
       "      <td>BC-FG</td>\n",
       "      <td>M. MELLOT Dorian et Mme MILLERIOUX Claire</td>\n",
       "      <td>64.0</td>\n",
       "      <td>3.61</td>\n",
       "      <td>6.94</td>\n",
       "    </tr>\n",
       "    <tr>\n",
       "      <th>6436</th>\n",
       "      <td>18</td>\n",
       "      <td>1</td>\n",
       "      <td>15</td>\n",
       "      <td>4226</td>\n",
       "      <td>1912</td>\n",
       "      <td>45.24</td>\n",
       "      <td>2314</td>\n",
       "      <td>54.76</td>\n",
       "      <td>64</td>\n",
       "      <td>1.51</td>\n",
       "      <td>...</td>\n",
       "      <td>2.03</td>\n",
       "      <td>2203</td>\n",
       "      <td>52.13</td>\n",
       "      <td>95.20</td>\n",
       "      <td>3.0</td>\n",
       "      <td>BC-FG</td>\n",
       "      <td>M. MELLOT Dorian et Mme MILLERIOUX Claire</td>\n",
       "      <td>277.0</td>\n",
       "      <td>6.55</td>\n",
       "      <td>12.57</td>\n",
       "    </tr>\n",
       "    <tr>\n",
       "      <th>6437</th>\n",
       "      <td>18</td>\n",
       "      <td>1</td>\n",
       "      <td>30</td>\n",
       "      <td>944</td>\n",
       "      <td>449</td>\n",
       "      <td>47.56</td>\n",
       "      <td>495</td>\n",
       "      <td>52.44</td>\n",
       "      <td>27</td>\n",
       "      <td>2.86</td>\n",
       "      <td>...</td>\n",
       "      <td>1.01</td>\n",
       "      <td>463</td>\n",
       "      <td>49.05</td>\n",
       "      <td>93.54</td>\n",
       "      <td>3.0</td>\n",
       "      <td>BC-FG</td>\n",
       "      <td>M. MELLOT Dorian et Mme MILLERIOUX Claire</td>\n",
       "      <td>40.0</td>\n",
       "      <td>4.24</td>\n",
       "      <td>8.64</td>\n",
       "    </tr>\n",
       "    <tr>\n",
       "      <th>6438</th>\n",
       "      <td>18</td>\n",
       "      <td>1</td>\n",
       "      <td>37</td>\n",
       "      <td>896</td>\n",
       "      <td>429</td>\n",
       "      <td>47.88</td>\n",
       "      <td>467</td>\n",
       "      <td>52.12</td>\n",
       "      <td>20</td>\n",
       "      <td>2.23</td>\n",
       "      <td>...</td>\n",
       "      <td>1.28</td>\n",
       "      <td>441</td>\n",
       "      <td>49.22</td>\n",
       "      <td>94.43</td>\n",
       "      <td>3.0</td>\n",
       "      <td>BC-FG</td>\n",
       "      <td>M. MELLOT Dorian et Mme MILLERIOUX Claire</td>\n",
       "      <td>26.0</td>\n",
       "      <td>2.90</td>\n",
       "      <td>5.90</td>\n",
       "    </tr>\n",
       "    <tr>\n",
       "      <th>6439</th>\n",
       "      <td>18</td>\n",
       "      <td>1</td>\n",
       "      <td>47</td>\n",
       "      <td>500</td>\n",
       "      <td>206</td>\n",
       "      <td>41.20</td>\n",
       "      <td>294</td>\n",
       "      <td>58.80</td>\n",
       "      <td>17</td>\n",
       "      <td>3.40</td>\n",
       "      <td>...</td>\n",
       "      <td>2.04</td>\n",
       "      <td>271</td>\n",
       "      <td>54.20</td>\n",
       "      <td>92.18</td>\n",
       "      <td>3.0</td>\n",
       "      <td>BC-FG</td>\n",
       "      <td>M. MELLOT Dorian et Mme MILLERIOUX Claire</td>\n",
       "      <td>33.0</td>\n",
       "      <td>6.60</td>\n",
       "      <td>12.18</td>\n",
       "    </tr>\n",
       "  </tbody>\n",
       "</table>\n",
       "<p>5 rows × 23 columns</p>\n",
       "</div>"
      ],
      "text/plain": [
       "     Code du département  Code du canton  Code de la commune  Inscrits  \\\n",
       "6435                  18               1                  11      1774   \n",
       "6436                  18               1                  15      4226   \n",
       "6437                  18               1                  30       944   \n",
       "6438                  18               1                  37       896   \n",
       "6439                  18               1                  47       500   \n",
       "\n",
       "      Abstentions  % Abs/Ins  Votants  % Vot/Ins  Blancs  % Blancs/Ins  ...  \\\n",
       "6435          828      46.67      946      53.33      15          0.85  ...   \n",
       "6436         1912      45.24     2314      54.76      64          1.51  ...   \n",
       "6437          449      47.56      495      52.44      27          2.86  ...   \n",
       "6438          429      47.88      467      52.12      20          2.23  ...   \n",
       "6439          206      41.20      294      58.80      17          3.40  ...   \n",
       "\n",
       "      % Nuls/Vot  Exprimés  % Exp/Ins  % Exp/Vot  N°Panneau  Nuance  \\\n",
       "6435        0.95       922      51.97      97.46        3.0   BC-FG   \n",
       "6436        2.03      2203      52.13      95.20        3.0   BC-FG   \n",
       "6437        1.01       463      49.05      93.54        3.0   BC-FG   \n",
       "6438        1.28       441      49.22      94.43        3.0   BC-FG   \n",
       "6439        2.04       271      54.20      92.18        3.0   BC-FG   \n",
       "\n",
       "                                         Binôme   Voix % Voix/Ins % Voix/Exp  \n",
       "6435  M. MELLOT Dorian et Mme MILLERIOUX Claire   64.0       3.61       6.94  \n",
       "6436  M. MELLOT Dorian et Mme MILLERIOUX Claire  277.0       6.55      12.57  \n",
       "6437  M. MELLOT Dorian et Mme MILLERIOUX Claire   40.0       4.24       8.64  \n",
       "6438  M. MELLOT Dorian et Mme MILLERIOUX Claire   26.0       2.90       5.90  \n",
       "6439  M. MELLOT Dorian et Mme MILLERIOUX Claire   33.0       6.60      12.18  \n",
       "\n",
       "[5 rows x 23 columns]"
      ]
     },
     "execution_count": 6,
     "metadata": {},
     "output_type": "execute_result"
    }
   ],
   "source": [
    "cher_data.head()"
   ]
  },
  {
   "cell_type": "code",
   "execution_count": 7,
   "id": "1fda26e6",
   "metadata": {},
   "outputs": [
    {
     "data": {
      "text/plain": [
       "BC-SOC    291\n",
       "BC-FN     289\n",
       "BC-UD     270\n",
       "BC-FG     152\n",
       "BC-DVG    139\n",
       "BC-DVD     25\n",
       "BC-UDI     13\n",
       "BC-UMP     13\n",
       "BC-UC      11\n",
       "BC-DLF      3\n",
       "BC-UG       3\n",
       "Name: Nuance, dtype: int64"
      ]
     },
     "execution_count": 7,
     "metadata": {},
     "output_type": "execute_result"
    }
   ],
   "source": [
    "# affiche les differents parties\n",
    "cher_data['Nuance'].value_counts(dropna=False)"
   ]
  },
  {
   "cell_type": "code",
   "execution_count": 8,
   "id": "2d701978",
   "metadata": {},
   "outputs": [
    {
     "data": {
      "text/plain": [
       "8     152\n",
       "16    144\n",
       "2     140\n",
       "9     128\n",
       "17     96\n",
       "10     88\n",
       "12     78\n",
       "14     72\n",
       "1      60\n",
       "11     60\n",
       "15     60\n",
       "7      52\n",
       "19     50\n",
       "13      9\n",
       "18      5\n",
       "5       4\n",
       "4       4\n",
       "3       4\n",
       "6       3\n",
       "Name: Code du canton, dtype: int64"
      ]
     },
     "execution_count": 8,
     "metadata": {},
     "output_type": "execute_result"
    }
   ],
   "source": [
    "cher_data['Code du canton'].value_counts()"
   ]
  },
  {
   "cell_type": "code",
   "execution_count": 10,
   "id": "b95e1605",
   "metadata": {},
   "outputs": [
    {
     "data": {
      "text/plain": [
       "Index(['Code du département', 'Code du canton', 'Code de la commune',\n",
       "       'Inscrits', 'Abstentions', '% Abs/Ins', 'Votants', '% Vot/Ins',\n",
       "       'Blancs', '% Blancs/Ins', '% Blancs/Vot', 'Nuls', '% Nuls/Ins',\n",
       "       '% Nuls/Vot', 'Exprimés', '% Exp/Ins', '% Exp/Vot', 'N°Panneau',\n",
       "       'Nuance', 'Binôme', 'Voix', '% Voix/Ins', '% Voix/Exp'],\n",
       "      dtype='object')"
      ]
     },
     "execution_count": 10,
     "metadata": {},
     "output_type": "execute_result"
    }
   ],
   "source": [
    "cher_data.columns"
   ]
  },
  {
   "cell_type": "markdown",
   "id": "d950c954",
   "metadata": {},
   "source": [
    "## data visualisation"
   ]
  },
  {
   "cell_type": "code",
   "execution_count": null,
   "id": "0367a64d",
   "metadata": {
    "scrolled": false
   },
   "outputs": [],
   "source": [
    "'''\n",
    "# dataframe qui represente le nb de voix par cantons par parties\n",
    "\n",
    "#df_nbVoix = cher_data.groupby(['Code du canton', 'Nuance']).agg({'Voix':['sum']})\n",
    "#df_nbVoix.unstack()\n",
    "\n",
    "\n",
    "df_plot = cher_data.groupby(['Code du canton', 'Nuance'])['Voix'].sum().unstack().reset_index(drop=True).fillna(0)\n",
    "\n",
    "# ajoute le nombre d'abstentioniste par canton dans le dataframe a plotter\n",
    "df_nbAbs  = cher_data_canton['Abstentions'].reset_index(drop=True)\n",
    "#df_plot = pd.concat([df_nbAbs,df_plot ], axis=1)\n",
    "\n",
    "# ajoute le nombre de vote blanc par canton dans le dataframe a plotter\n",
    "df_nbBlc  = cher_data_canton['Blancs'].reset_index(drop=True)\n",
    "#df_plot = pd.concat([df_nbBlc,df_plot ], axis=1)\n",
    "\n",
    "\n",
    "\n",
    "# on normalise les lignes\n",
    "df_plot = df_plot.div(df_plot.sum(axis=1), axis=0)\n",
    "\n",
    "\n",
    "\n",
    "df_plot\n",
    "'''\n"
   ]
  },
  {
   "cell_type": "code",
   "execution_count": null,
   "id": "3e174a54",
   "metadata": {},
   "outputs": [],
   "source": [
    "#df_plot.plot(kind='bar',stacked=True, figsize=(15,10))"
   ]
  },
  {
   "cell_type": "code",
   "execution_count": null,
   "id": "9fd4da55",
   "metadata": {},
   "outputs": [],
   "source": [
    "import matplotlib.pyplot as plt\n",
    "import seaborn as sns\n",
    "from math import ceil, sqrt\n",
    "\n",
    "df_plot = cher_data.groupby(['Code du canton', 'Nuance'])['Voix'].sum().unstack().fillna(0)\n",
    "\n",
    "\n",
    "print(df_plot)\n",
    "\n",
    "nb_canton = df_plot.shape[0]\n",
    "x=ceil(sqrt(nb_canton)) \n",
    "\n",
    "# figure size for plot\n",
    "a = x  # number of rows\n",
    "b = x  # number of columns\n",
    "c = 1  # initialize plot counter\n",
    "\n",
    "fig = plt.figure(figsize=(14,12))\n",
    "\n",
    "def autopct(pct): # only show the label when it's > 10%\n",
    "    return ('%.2f' % pct) if pct > 0 else ''\n",
    "\n",
    "for i in range(nb_canton):\n",
    "    plt.subplot(a, b, c)\n",
    "    plt.title('canton '+str(i+1))\n",
    "    df_plot.iloc[i].plot.pie(subplots=True,autopct=autopct)\n",
    "    \n",
    "    c+=1\n",
    "    plt.axis('off')\n",
    "\n",
    "plt.show()\n"
   ]
  },
  {
   "cell_type": "code",
   "execution_count": null,
   "id": "f3290ef1",
   "metadata": {},
   "outputs": [],
   "source": [
    "#different candidats \n",
    "print(cher_data.groupby(['Nuance','Binôme','Code du canton'])['Binôme'].count().to_string())"
   ]
  },
  {
   "cell_type": "markdown",
   "id": "910be07e",
   "metadata": {},
   "source": [
    "## Preparation des données"
   ]
  },
  {
   "cell_type": "code",
   "execution_count": null,
   "id": "849eb11c",
   "metadata": {},
   "outputs": [],
   "source": [
    "import numpy as np\n",
    "\n",
    "# creation des valeurs cible\n",
    "etiquette = cher_data_canton_t2[['Binôme', 'Sièges']]\n",
    "\n",
    "etiquette = etiquette[etiquette.Sièges != \" \"]\n",
    "\n",
    "member_elected   = list(etiquette.Binôme)\n",
    "\n",
    "\n",
    "\n",
    "nb_cher_data_raw = cher_data.shape[0]\n",
    "\n",
    "y_train = pd.DataFrame(0, index=np.arange(nb_cher_data_raw), columns=['targets'])\n",
    "\n",
    "for i in range(nb_cher_data_raw):\n",
    "    if  cher_data.iloc[i]['Binôme'] in member_elected:\n",
    "        y_train.iloc[i]['targets']=1   \n",
    "        \n",
    "from sklearn.preprocessing import LabelEncoder\n",
    "\n",
    "lblEncoder_nuance = LabelEncoder()\n",
    "lblEncoder_nuance.fit(cher_data['Nuance'])\n",
    "cher_data['Nuance'] = lblEncoder_nuance.transform(cher_data['Nuance'])\n",
    "\n",
    "\n",
    "lblEncoder_binome = LabelEncoder()\n",
    "lblEncoder_binome.fit(cher_data['Binôme'])\n",
    "cher_data['Binôme'] = lblEncoder_binome.transform(cher_data['Binôme'])\n",
    "\n",
    "\n",
    "selected_features = ['Code du département', 'Code du canton', 'Code de la commune',\n",
    "       'Inscrits', 'Abstentions', '% Abs/Ins', 'Votants', '% Vot/Ins',\n",
    "       'Blancs', '% Blancs/Ins', '% Blancs/Vot', 'Nuls', '% Nuls/Ins',\n",
    "       '% Nuls/Vot', 'Exprimés', '% Exp/Ins', '% Exp/Vot', \n",
    "       'Nuance', 'Binôme', 'Voix', '% Voix/Ins', '% Voix/Exp']\n",
    "\n",
    "X_train = cher_data[selected_features]\n",
    "    \n",
    "\n",
    "\n",
    "y_train.targets.value_counts()\n"
   ]
  },
  {
   "cell_type": "markdown",
   "id": "7277afa9",
   "metadata": {},
   "source": [
    "## build model"
   ]
  },
  {
   "cell_type": "code",
   "execution_count": null,
   "id": "4a722eda",
   "metadata": {},
   "outputs": [],
   "source": [
    "from sklearn.neighbors import KNeighborsClassifier\n",
    "from sklearn.feature_selection import SelectKBest, chi2\n",
    "\n",
    "knn = KNeighborsClassifier()\n",
    "knn.fit(X_train, np.ravel(y_train))\n",
    "\n"
   ]
  }
 ],
 "metadata": {
  "interpreter": {
   "hash": "767d51c1340bd893661ea55ea3124f6de3c7a262a8b4abca0554b478b1e2ff90"
  },
  "kernelspec": {
   "display_name": "Python 3",
   "language": "python",
   "name": "python3"
  },
  "language_info": {
   "codemirror_mode": {
    "name": "ipython",
    "version": 3
   },
   "file_extension": ".py",
   "mimetype": "text/x-python",
   "name": "python",
   "nbconvert_exporter": "python",
   "pygments_lexer": "ipython3",
   "version": "3.8.5"
  }
 },
 "nbformat": 4,
 "nbformat_minor": 5
}
