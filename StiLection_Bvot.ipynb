{
 "cells": [
  {
   "cell_type": "code",
   "execution_count": 3,
   "id": "8e9f8d98",
   "metadata": {},
   "outputs": [
    {
     "output_type": "error",
     "ename": "FileNotFoundError",
     "evalue": "[Errno 2] No such file or directory: 'dataset/DP15_Bvot_T1T2.csv'",
     "traceback": [
      "\u001b[1;31m---------------------------------------------------------------------------\u001b[0m",
      "\u001b[1;31mFileNotFoundError\u001b[0m                         Traceback (most recent call last)",
      "\u001b[1;32m<ipython-input-3-4597ecdb5349>\u001b[0m in \u001b[0;36m<module>\u001b[1;34m\u001b[0m\n\u001b[0;32m      1\u001b[0m \u001b[1;32mimport\u001b[0m \u001b[0mpandas\u001b[0m \u001b[1;32mas\u001b[0m \u001b[0mpd\u001b[0m\u001b[1;33m\u001b[0m\u001b[1;33m\u001b[0m\u001b[0m\n\u001b[0;32m      2\u001b[0m \u001b[1;33m\u001b[0m\u001b[0m\n\u001b[1;32m----> 3\u001b[1;33m \u001b[0moriginal_data\u001b[0m \u001b[1;33m=\u001b[0m \u001b[0mpd\u001b[0m\u001b[1;33m.\u001b[0m\u001b[0mread_csv\u001b[0m \u001b[1;33m(\u001b[0m\u001b[1;34mr'dataset/DP15_Bvot_T1T2.csv'\u001b[0m\u001b[1;33m,\u001b[0m \u001b[0mheader\u001b[0m\u001b[1;33m=\u001b[0m\u001b[1;36m0\u001b[0m\u001b[1;33m,\u001b[0m \u001b[0msep\u001b[0m\u001b[1;33m=\u001b[0m\u001b[1;34m';'\u001b[0m\u001b[1;33m)\u001b[0m\u001b[1;33m\u001b[0m\u001b[1;33m\u001b[0m\u001b[0m\n\u001b[0m\u001b[0;32m      4\u001b[0m \u001b[0moriginal_data_canton\u001b[0m \u001b[1;33m=\u001b[0m \u001b[0mpd\u001b[0m\u001b[1;33m.\u001b[0m\u001b[0mread_excel\u001b[0m\u001b[1;33m(\u001b[0m\u001b[1;34mr'dataset/Dep_15_Resultats_T1_complet.xlsx'\u001b[0m\u001b[1;33m,\u001b[0m \u001b[0msheet_name\u001b[0m\u001b[1;33m=\u001b[0m\u001b[1;34m'Cantons'\u001b[0m\u001b[1;33m,\u001b[0m \u001b[0mheader\u001b[0m\u001b[1;33m=\u001b[0m\u001b[1;36m2\u001b[0m\u001b[1;33m)\u001b[0m\u001b[1;33m\u001b[0m\u001b[1;33m\u001b[0m\u001b[0m\n\u001b[0;32m      5\u001b[0m \u001b[1;33m\u001b[0m\u001b[0m\n",
      "\u001b[1;32m~\\AppData\\Local\\Programs\\Python\\Python39\\lib\\site-packages\\pandas\\io\\parsers.py\u001b[0m in \u001b[0;36mread_csv\u001b[1;34m(filepath_or_buffer, sep, delimiter, header, names, index_col, usecols, squeeze, prefix, mangle_dupe_cols, dtype, engine, converters, true_values, false_values, skipinitialspace, skiprows, skipfooter, nrows, na_values, keep_default_na, na_filter, verbose, skip_blank_lines, parse_dates, infer_datetime_format, keep_date_col, date_parser, dayfirst, cache_dates, iterator, chunksize, compression, thousands, decimal, lineterminator, quotechar, quoting, doublequote, escapechar, comment, encoding, dialect, error_bad_lines, warn_bad_lines, delim_whitespace, low_memory, memory_map, float_precision, storage_options)\u001b[0m\n\u001b[0;32m    608\u001b[0m     \u001b[0mkwds\u001b[0m\u001b[1;33m.\u001b[0m\u001b[0mupdate\u001b[0m\u001b[1;33m(\u001b[0m\u001b[0mkwds_defaults\u001b[0m\u001b[1;33m)\u001b[0m\u001b[1;33m\u001b[0m\u001b[1;33m\u001b[0m\u001b[0m\n\u001b[0;32m    609\u001b[0m \u001b[1;33m\u001b[0m\u001b[0m\n\u001b[1;32m--> 610\u001b[1;33m     \u001b[1;32mreturn\u001b[0m \u001b[0m_read\u001b[0m\u001b[1;33m(\u001b[0m\u001b[0mfilepath_or_buffer\u001b[0m\u001b[1;33m,\u001b[0m \u001b[0mkwds\u001b[0m\u001b[1;33m)\u001b[0m\u001b[1;33m\u001b[0m\u001b[1;33m\u001b[0m\u001b[0m\n\u001b[0m\u001b[0;32m    611\u001b[0m \u001b[1;33m\u001b[0m\u001b[0m\n\u001b[0;32m    612\u001b[0m \u001b[1;33m\u001b[0m\u001b[0m\n",
      "\u001b[1;32m~\\AppData\\Local\\Programs\\Python\\Python39\\lib\\site-packages\\pandas\\io\\parsers.py\u001b[0m in \u001b[0;36m_read\u001b[1;34m(filepath_or_buffer, kwds)\u001b[0m\n\u001b[0;32m    460\u001b[0m \u001b[1;33m\u001b[0m\u001b[0m\n\u001b[0;32m    461\u001b[0m     \u001b[1;31m# Create the parser.\u001b[0m\u001b[1;33m\u001b[0m\u001b[1;33m\u001b[0m\u001b[1;33m\u001b[0m\u001b[0m\n\u001b[1;32m--> 462\u001b[1;33m     \u001b[0mparser\u001b[0m \u001b[1;33m=\u001b[0m \u001b[0mTextFileReader\u001b[0m\u001b[1;33m(\u001b[0m\u001b[0mfilepath_or_buffer\u001b[0m\u001b[1;33m,\u001b[0m \u001b[1;33m**\u001b[0m\u001b[0mkwds\u001b[0m\u001b[1;33m)\u001b[0m\u001b[1;33m\u001b[0m\u001b[1;33m\u001b[0m\u001b[0m\n\u001b[0m\u001b[0;32m    463\u001b[0m \u001b[1;33m\u001b[0m\u001b[0m\n\u001b[0;32m    464\u001b[0m     \u001b[1;32mif\u001b[0m \u001b[0mchunksize\u001b[0m \u001b[1;32mor\u001b[0m \u001b[0miterator\u001b[0m\u001b[1;33m:\u001b[0m\u001b[1;33m\u001b[0m\u001b[1;33m\u001b[0m\u001b[0m\n",
      "\u001b[1;32m~\\AppData\\Local\\Programs\\Python\\Python39\\lib\\site-packages\\pandas\\io\\parsers.py\u001b[0m in \u001b[0;36m__init__\u001b[1;34m(self, f, engine, **kwds)\u001b[0m\n\u001b[0;32m    817\u001b[0m             \u001b[0mself\u001b[0m\u001b[1;33m.\u001b[0m\u001b[0moptions\u001b[0m\u001b[1;33m[\u001b[0m\u001b[1;34m\"has_index_names\"\u001b[0m\u001b[1;33m]\u001b[0m \u001b[1;33m=\u001b[0m \u001b[0mkwds\u001b[0m\u001b[1;33m[\u001b[0m\u001b[1;34m\"has_index_names\"\u001b[0m\u001b[1;33m]\u001b[0m\u001b[1;33m\u001b[0m\u001b[1;33m\u001b[0m\u001b[0m\n\u001b[0;32m    818\u001b[0m \u001b[1;33m\u001b[0m\u001b[0m\n\u001b[1;32m--> 819\u001b[1;33m         \u001b[0mself\u001b[0m\u001b[1;33m.\u001b[0m\u001b[0m_engine\u001b[0m \u001b[1;33m=\u001b[0m \u001b[0mself\u001b[0m\u001b[1;33m.\u001b[0m\u001b[0m_make_engine\u001b[0m\u001b[1;33m(\u001b[0m\u001b[0mself\u001b[0m\u001b[1;33m.\u001b[0m\u001b[0mengine\u001b[0m\u001b[1;33m)\u001b[0m\u001b[1;33m\u001b[0m\u001b[1;33m\u001b[0m\u001b[0m\n\u001b[0m\u001b[0;32m    820\u001b[0m \u001b[1;33m\u001b[0m\u001b[0m\n\u001b[0;32m    821\u001b[0m     \u001b[1;32mdef\u001b[0m \u001b[0mclose\u001b[0m\u001b[1;33m(\u001b[0m\u001b[0mself\u001b[0m\u001b[1;33m)\u001b[0m\u001b[1;33m:\u001b[0m\u001b[1;33m\u001b[0m\u001b[1;33m\u001b[0m\u001b[0m\n",
      "\u001b[1;32m~\\AppData\\Local\\Programs\\Python\\Python39\\lib\\site-packages\\pandas\\io\\parsers.py\u001b[0m in \u001b[0;36m_make_engine\u001b[1;34m(self, engine)\u001b[0m\n\u001b[0;32m   1048\u001b[0m             )\n\u001b[0;32m   1049\u001b[0m         \u001b[1;31m# error: Too many arguments for \"ParserBase\"\u001b[0m\u001b[1;33m\u001b[0m\u001b[1;33m\u001b[0m\u001b[1;33m\u001b[0m\u001b[0m\n\u001b[1;32m-> 1050\u001b[1;33m         \u001b[1;32mreturn\u001b[0m \u001b[0mmapping\u001b[0m\u001b[1;33m[\u001b[0m\u001b[0mengine\u001b[0m\u001b[1;33m]\u001b[0m\u001b[1;33m(\u001b[0m\u001b[0mself\u001b[0m\u001b[1;33m.\u001b[0m\u001b[0mf\u001b[0m\u001b[1;33m,\u001b[0m \u001b[1;33m**\u001b[0m\u001b[0mself\u001b[0m\u001b[1;33m.\u001b[0m\u001b[0moptions\u001b[0m\u001b[1;33m)\u001b[0m  \u001b[1;31m# type: ignore[call-arg]\u001b[0m\u001b[1;33m\u001b[0m\u001b[1;33m\u001b[0m\u001b[0m\n\u001b[0m\u001b[0;32m   1051\u001b[0m \u001b[1;33m\u001b[0m\u001b[0m\n\u001b[0;32m   1052\u001b[0m     \u001b[1;32mdef\u001b[0m \u001b[0m_failover_to_python\u001b[0m\u001b[1;33m(\u001b[0m\u001b[0mself\u001b[0m\u001b[1;33m)\u001b[0m\u001b[1;33m:\u001b[0m\u001b[1;33m\u001b[0m\u001b[1;33m\u001b[0m\u001b[0m\n",
      "\u001b[1;32m~\\AppData\\Local\\Programs\\Python\\Python39\\lib\\site-packages\\pandas\\io\\parsers.py\u001b[0m in \u001b[0;36m__init__\u001b[1;34m(self, src, **kwds)\u001b[0m\n\u001b[0;32m   1865\u001b[0m \u001b[1;33m\u001b[0m\u001b[0m\n\u001b[0;32m   1866\u001b[0m         \u001b[1;31m# open handles\u001b[0m\u001b[1;33m\u001b[0m\u001b[1;33m\u001b[0m\u001b[1;33m\u001b[0m\u001b[0m\n\u001b[1;32m-> 1867\u001b[1;33m         \u001b[0mself\u001b[0m\u001b[1;33m.\u001b[0m\u001b[0m_open_handles\u001b[0m\u001b[1;33m(\u001b[0m\u001b[0msrc\u001b[0m\u001b[1;33m,\u001b[0m \u001b[0mkwds\u001b[0m\u001b[1;33m)\u001b[0m\u001b[1;33m\u001b[0m\u001b[1;33m\u001b[0m\u001b[0m\n\u001b[0m\u001b[0;32m   1868\u001b[0m         \u001b[1;32massert\u001b[0m \u001b[0mself\u001b[0m\u001b[1;33m.\u001b[0m\u001b[0mhandles\u001b[0m \u001b[1;32mis\u001b[0m \u001b[1;32mnot\u001b[0m \u001b[1;32mNone\u001b[0m\u001b[1;33m\u001b[0m\u001b[1;33m\u001b[0m\u001b[0m\n\u001b[0;32m   1869\u001b[0m         \u001b[1;32mfor\u001b[0m \u001b[0mkey\u001b[0m \u001b[1;32min\u001b[0m \u001b[1;33m(\u001b[0m\u001b[1;34m\"storage_options\"\u001b[0m\u001b[1;33m,\u001b[0m \u001b[1;34m\"encoding\"\u001b[0m\u001b[1;33m,\u001b[0m \u001b[1;34m\"memory_map\"\u001b[0m\u001b[1;33m,\u001b[0m \u001b[1;34m\"compression\"\u001b[0m\u001b[1;33m)\u001b[0m\u001b[1;33m:\u001b[0m\u001b[1;33m\u001b[0m\u001b[1;33m\u001b[0m\u001b[0m\n",
      "\u001b[1;32m~\\AppData\\Local\\Programs\\Python\\Python39\\lib\\site-packages\\pandas\\io\\parsers.py\u001b[0m in \u001b[0;36m_open_handles\u001b[1;34m(self, src, kwds)\u001b[0m\n\u001b[0;32m   1360\u001b[0m         \u001b[0mLet\u001b[0m \u001b[0mthe\u001b[0m \u001b[0mreaders\u001b[0m \u001b[0mopen\u001b[0m \u001b[0mIOHanldes\u001b[0m \u001b[0mafter\u001b[0m \u001b[0mthey\u001b[0m \u001b[0mare\u001b[0m \u001b[0mdone\u001b[0m \u001b[1;32mwith\u001b[0m \u001b[0mtheir\u001b[0m \u001b[0mpotential\u001b[0m \u001b[0mraises\u001b[0m\u001b[1;33m.\u001b[0m\u001b[1;33m\u001b[0m\u001b[1;33m\u001b[0m\u001b[0m\n\u001b[0;32m   1361\u001b[0m         \"\"\"\n\u001b[1;32m-> 1362\u001b[1;33m         self.handles = get_handle(\n\u001b[0m\u001b[0;32m   1363\u001b[0m             \u001b[0msrc\u001b[0m\u001b[1;33m,\u001b[0m\u001b[1;33m\u001b[0m\u001b[1;33m\u001b[0m\u001b[0m\n\u001b[0;32m   1364\u001b[0m             \u001b[1;34m\"r\"\u001b[0m\u001b[1;33m,\u001b[0m\u001b[1;33m\u001b[0m\u001b[1;33m\u001b[0m\u001b[0m\n",
      "\u001b[1;32m~\\AppData\\Local\\Programs\\Python\\Python39\\lib\\site-packages\\pandas\\io\\common.py\u001b[0m in \u001b[0;36mget_handle\u001b[1;34m(path_or_buf, mode, encoding, compression, memory_map, is_text, errors, storage_options)\u001b[0m\n\u001b[0;32m    640\u001b[0m                 \u001b[0merrors\u001b[0m \u001b[1;33m=\u001b[0m \u001b[1;34m\"replace\"\u001b[0m\u001b[1;33m\u001b[0m\u001b[1;33m\u001b[0m\u001b[0m\n\u001b[0;32m    641\u001b[0m             \u001b[1;31m# Encoding\u001b[0m\u001b[1;33m\u001b[0m\u001b[1;33m\u001b[0m\u001b[1;33m\u001b[0m\u001b[0m\n\u001b[1;32m--> 642\u001b[1;33m             handle = open(\n\u001b[0m\u001b[0;32m    643\u001b[0m                 \u001b[0mhandle\u001b[0m\u001b[1;33m,\u001b[0m\u001b[1;33m\u001b[0m\u001b[1;33m\u001b[0m\u001b[0m\n\u001b[0;32m    644\u001b[0m                 \u001b[0mioargs\u001b[0m\u001b[1;33m.\u001b[0m\u001b[0mmode\u001b[0m\u001b[1;33m,\u001b[0m\u001b[1;33m\u001b[0m\u001b[1;33m\u001b[0m\u001b[0m\n",
      "\u001b[1;31mFileNotFoundError\u001b[0m: [Errno 2] No such file or directory: 'dataset/DP15_Bvot_T1T2.csv'"
     ]
    }
   ],
   "source": [
    "import pandas as pd\n",
    "\n",
    "original_data = pd.read_csv (r'dataset/DP15_Bvot_T1T2.csv', header=0, sep=';')\n",
    "original_data_canton = pd.read_excel(r'dataset/Dep_15_Resultats_T1_complet.xlsx', sheet_name='Cantons', header=2)\n",
    "\n",
    " \n",
    "df = original_data.copy()\n",
    "df_canton = original_data_canton.copy()"
   ]
  },
  {
   "cell_type": "code",
   "execution_count": 19,
   "metadata": {},
   "outputs": [
    {
     "output_type": "stream",
     "name": "stdout",
     "text": [
      "<class 'pandas.core.frame.DataFrame'>\nRangeIndex: 421064 entries, 0 to 421063\nData columns (total 14 columns):\nNUMTOUR       421064 non-null int64\nCODDPT        421064 non-null object\nCODSUBCOM     421064 non-null int64\nLIBSUBCOM     421064 non-null object\nCODBURVOT     421064 non-null object\nCODCAN        421064 non-null int64\nLIBCAN        421064 non-null object\nNBRINS        421064 non-null int64\nNBRVOT        421064 non-null int64\nNBREXP        421064 non-null int64\nNUMDEPCAND    421064 non-null int64\nLIBLISEXT     421064 non-null object\nCODNUA        421064 non-null object\nNBRVOIX       421064 non-null int64\ndtypes: int64(8), object(6)\nmemory usage: 45.0+ MB\n"
     ]
    }
   ],
   "source": [
    "df.info()"
   ]
  },
  {
   "cell_type": "code",
   "execution_count": 3,
   "id": "5e6fe167",
   "metadata": {},
   "outputs": [],
   "source": [
    "def getDataFromDep(data, dep,col_dep_name, tour=None):\n",
    "    if tour is not None:\n",
    "        data = data[data.NUMTOUR == tour]\n",
    "    return data[data[col_dep_name] == dep]\n",
    "    \n",
    "\n",
    "\n",
    "def saveData(data, loc):\n",
    "    # save cher_data as excel\n",
    "    writer = pd.ExcelWriter(loc)\n",
    "    \n",
    "    # write dataframe to excel\n",
    "    data.to_excel(writer)\n",
    "\n",
    "    # save the excel\n",
    "    writer.save()\n",
    "\n",
    "def prepareInputDataBvot(data):\n",
    "    tmp = data[['NUMTOUR', 'CODDPT', 'CODSUBCOM', 'LIBSUBCOM', 'CODBURVOT', 'CODCAN',\n",
    "           'LIBCAN', 'NBRINS', 'NBRVOT', 'NBREXP']].copy()\n",
    "\n",
    "    # Compute missing data\n",
    "    tmp['NBRABS'] = tmp['NBRINS'] - tmp['NBRVOT']\n",
    "    tmp['NBRNULBLANC'] = tmp['NBRVOT'] - tmp['NBREXP']\n",
    "\n",
    "    nuances = getAllNuances(data)\n",
    "    statsFeatures = ['NBRVOT', 'NBREXP', 'NBRNULBLANC', 'NBRABS']\n",
    "    idFeatures = ['CODDPT', 'CODCAN', 'CODSUBCOM', 'CODBURVOT']\n",
    "\n",
    "    inscrits = tmp[idFeatures + ['NBRINS']].drop_duplicates()['NBRINS']\n",
    "    stats = tmp[idFeatures + statsFeatures].drop_duplicates()[statsFeatures]\n",
    "    ids = tmp[idFeatures].drop_duplicates()\n",
    "\n",
    "    # Create [%Voix] and fill it\n",
    "    voix = pd.DataFrame(0, index=data.index, columns=nuances)\n",
    "    for parti in nuances:\n",
    "        voix[parti][data['CODNUA']==parti] = data[data['CODNUA']==parti]['NBRVOIX']\n",
    "    voix = pd.concat([tmp[idFeatures], voix], axis=1).groupby(idFeatures).sum()[nuances]\n",
    "    voix.index = stats.index\n",
    "\n",
    "    # Concat with computed stats and divide almost everything by Inscrits\n",
    "    tmp = pd.concat([stats, voix], axis=1).divide(inscrits, axis=0)\n",
    "    X = pd.concat([inscrits, tmp], axis=1)\n",
    "    X.index = pd.MultiIndex.from_frame(ids)\n",
    "    return X\n",
    "\n",
    "def getAllNuances(data, colNuance='CODNUA', fmt='exploded'):\n",
    "    if fmt not in ['exploded', 'line']:\n",
    "        raise ValueError(\"format parameter must be 'exploded' or 'line'\")\n",
    "    \n",
    "    if fmt == 'exploded':\n",
    "        nuances = data[colNuance].unique()\n",
    "    \n",
    "    if fmt == 'line':\n",
    "        nuances = np.array([])\n",
    "        nuances_tmp = data[colNuance].fillna(0)\n",
    "        for c in nuances_tmp:\n",
    "            nuances = np.append(nuances, nuances_tmp[c])\n",
    "        nuances = np.unique(nuances[nuances!=0])\n",
    "    \n",
    "    return sorted(nuances)\n",
    "\n"
   ]
  },
  {
   "cell_type": "code",
   "execution_count": 20,
   "id": "5a58c4d3",
   "metadata": {
    "collapsed": true
   },
   "outputs": [
    {
     "output_type": "stream",
     "name": "stdout",
     "text": [
      "<class 'pandas.core.frame.DataFrame'>\nInt64Index: 1820 entries, 42581 to 44400\nData columns (total 14 columns):\nNUMTOUR       1820 non-null int64\nCODDPT        1820 non-null object\nCODSUBCOM     1820 non-null int64\nLIBSUBCOM     1820 non-null object\nCODBURVOT     1820 non-null object\nCODCAN        1820 non-null int64\nLIBCAN        1820 non-null object\nNBRINS        1820 non-null int64\nNBRVOT        1820 non-null int64\nNBREXP        1820 non-null int64\nNUMDEPCAND    1820 non-null int64\nLIBLISEXT     1820 non-null object\nCODNUA        1820 non-null object\nNBRVOIX       1820 non-null int64\ndtypes: int64(8), object(6)\nmemory usage: 213.3+ KB\n"
     ]
    },
    {
     "output_type": "execute_result",
     "data": {
      "text/plain": [
       "(19, 103)"
      ]
     },
     "metadata": {},
     "execution_count": 20
    }
   ],
   "source": [
    "cher_data = getDataFromDep(df, str(18), 'CODDPT', tour=1)\n",
    "cher_data_canton = getDataFromDep(df_canton, 18,'Code du département')\n",
    "\n",
    "saveData(cher_data, 'dataset/dep_15_Bvote.xlsx')\n",
    "cher_data.info()\n",
    "cher_data_canton.shape"
   ]
  },
  {
   "cell_type": "code",
   "execution_count": 4,
   "id": "72446cba",
   "metadata": {
    "collapsed": true
   },
   "outputs": [
    {
     "data": {
      "text/html": [
       "<div>\n",
       "<style scoped>\n",
       "    .dataframe tbody tr th:only-of-type {\n",
       "        vertical-align: middle;\n",
       "    }\n",
       "\n",
       "    .dataframe tbody tr th {\n",
       "        vertical-align: top;\n",
       "    }\n",
       "\n",
       "    .dataframe thead th {\n",
       "        text-align: right;\n",
       "    }\n",
       "</style>\n",
       "<table border=\"1\" class=\"dataframe\">\n",
       "  <thead>\n",
       "    <tr style=\"text-align: right;\">\n",
       "      <th></th>\n",
       "      <th>NUMTOUR</th>\n",
       "      <th>CODDPT</th>\n",
       "      <th>CODSUBCOM</th>\n",
       "      <th>LIBSUBCOM</th>\n",
       "      <th>CODBURVOT</th>\n",
       "      <th>CODCAN</th>\n",
       "      <th>LIBCAN</th>\n",
       "      <th>NBRINS</th>\n",
       "      <th>NBRVOT</th>\n",
       "      <th>NBREXP</th>\n",
       "      <th>NUMDEPCAND</th>\n",
       "      <th>LIBLISEXT</th>\n",
       "      <th>CODNUA</th>\n",
       "      <th>NBRVOIX</th>\n",
       "    </tr>\n",
       "  </thead>\n",
       "  <tbody>\n",
       "    <tr>\n",
       "      <th>42581</th>\n",
       "      <td>1</td>\n",
       "      <td>18</td>\n",
       "      <td>1</td>\n",
       "      <td>Achères</td>\n",
       "      <td>0001</td>\n",
       "      <td>15</td>\n",
       "      <td>Saint-Martin-d'Auxigny</td>\n",
       "      <td>300</td>\n",
       "      <td>148</td>\n",
       "      <td>145</td>\n",
       "      <td>27</td>\n",
       "      <td>M. LE NÉNAN François et Mme RICOU Gaelle</td>\n",
       "      <td>BC-FN</td>\n",
       "      <td>43</td>\n",
       "    </tr>\n",
       "    <tr>\n",
       "      <th>42582</th>\n",
       "      <td>1</td>\n",
       "      <td>18</td>\n",
       "      <td>1</td>\n",
       "      <td>Achères</td>\n",
       "      <td>0001</td>\n",
       "      <td>15</td>\n",
       "      <td>Saint-Martin-d'Auxigny</td>\n",
       "      <td>300</td>\n",
       "      <td>148</td>\n",
       "      <td>145</td>\n",
       "      <td>28</td>\n",
       "      <td>M. CHOLLET Fabrice et Mme DAMADE Beatrice</td>\n",
       "      <td>BC-UD</td>\n",
       "      <td>36</td>\n",
       "    </tr>\n",
       "    <tr>\n",
       "      <th>42583</th>\n",
       "      <td>1</td>\n",
       "      <td>18</td>\n",
       "      <td>1</td>\n",
       "      <td>Achères</td>\n",
       "      <td>0001</td>\n",
       "      <td>15</td>\n",
       "      <td>Saint-Martin-d'Auxigny</td>\n",
       "      <td>300</td>\n",
       "      <td>148</td>\n",
       "      <td>145</td>\n",
       "      <td>29</td>\n",
       "      <td>Mme BLANC Ariane et M. ROUSSEAU Bernard</td>\n",
       "      <td>BC-SOC</td>\n",
       "      <td>51</td>\n",
       "    </tr>\n",
       "    <tr>\n",
       "      <th>42584</th>\n",
       "      <td>1</td>\n",
       "      <td>18</td>\n",
       "      <td>1</td>\n",
       "      <td>Achères</td>\n",
       "      <td>0001</td>\n",
       "      <td>15</td>\n",
       "      <td>Saint-Martin-d'Auxigny</td>\n",
       "      <td>300</td>\n",
       "      <td>148</td>\n",
       "      <td>145</td>\n",
       "      <td>37</td>\n",
       "      <td>M. GODARD Denys et Mme VIGNOL Marie-Bernadette</td>\n",
       "      <td>BC-FG</td>\n",
       "      <td>15</td>\n",
       "    </tr>\n",
       "    <tr>\n",
       "      <th>42585</th>\n",
       "      <td>1</td>\n",
       "      <td>18</td>\n",
       "      <td>2</td>\n",
       "      <td>Ainay-le-Vieil</td>\n",
       "      <td>0001</td>\n",
       "      <td>8</td>\n",
       "      <td>Châteaumeillant</td>\n",
       "      <td>155</td>\n",
       "      <td>85</td>\n",
       "      <td>79</td>\n",
       "      <td>12</td>\n",
       "      <td>M. LE MINTIER Erwan et Mme ROBIN Elodie</td>\n",
       "      <td>BC-FN</td>\n",
       "      <td>24</td>\n",
       "    </tr>\n",
       "  </tbody>\n",
       "</table>\n",
       "</div>"
      ],
      "text/plain": [
       "       NUMTOUR CODDPT  CODSUBCOM       LIBSUBCOM CODBURVOT  CODCAN  \\\n",
       "42581        1     18          1         Achères      0001      15   \n",
       "42582        1     18          1         Achères      0001      15   \n",
       "42583        1     18          1         Achères      0001      15   \n",
       "42584        1     18          1         Achères      0001      15   \n",
       "42585        1     18          2  Ainay-le-Vieil      0001       8   \n",
       "\n",
       "                       LIBCAN  NBRINS  NBRVOT  NBREXP  NUMDEPCAND  \\\n",
       "42581  Saint-Martin-d'Auxigny     300     148     145          27   \n",
       "42582  Saint-Martin-d'Auxigny     300     148     145          28   \n",
       "42583  Saint-Martin-d'Auxigny     300     148     145          29   \n",
       "42584  Saint-Martin-d'Auxigny     300     148     145          37   \n",
       "42585         Châteaumeillant     155      85      79          12   \n",
       "\n",
       "                                            LIBLISEXT  CODNUA  NBRVOIX  \n",
       "42581        M. LE NÉNAN François et Mme RICOU Gaelle   BC-FN       43  \n",
       "42582       M. CHOLLET Fabrice et Mme DAMADE Beatrice   BC-UD       36  \n",
       "42583         Mme BLANC Ariane et M. ROUSSEAU Bernard  BC-SOC       51  \n",
       "42584  M. GODARD Denys et Mme VIGNOL Marie-Bernadette   BC-FG       15  \n",
       "42585         M. LE MINTIER Erwan et Mme ROBIN Elodie   BC-FN       24  "
      ]
     },
     "execution_count": 4,
     "metadata": {},
     "output_type": "execute_result"
    }
   ],
   "source": [
    "cher_data.head()"
   ]
  },
  {
   "cell_type": "code",
   "execution_count": 5,
   "id": "570c8462",
   "metadata": {},
   "outputs": [
    {
     "data": {
      "text/plain": [
       "Index(['NUMTOUR', 'CODDPT', 'CODSUBCOM', 'LIBSUBCOM', 'CODBURVOT', 'CODCAN',\n",
       "       'LIBCAN', 'NBRINS', 'NBRVOT', 'NBREXP', 'NUMDEPCAND', 'LIBLISEXT',\n",
       "       'CODNUA', 'NBRVOIX'],\n",
       "      dtype='object')"
      ]
     },
     "execution_count": 5,
     "metadata": {},
     "output_type": "execute_result"
    }
   ],
   "source": [
    " cher_data.columns"
   ]
  },
  {
   "cell_type": "markdown",
   "id": "69bc3d46",
   "metadata": {},
   "source": [
    "# Data visualisation "
   ]
  },
  {
   "cell_type": "code",
   "execution_count": 6,
   "id": "e22e3b60",
   "metadata": {},
   "outputs": [],
   "source": [
    "import seaborn as sns\n",
    "import numpy as np\n",
    "\n",
    "#sns.scatterplot(data=cher_data,x='' y='NBRVOIX')"
   ]
  },
  {
   "cell_type": "markdown",
   "id": "af7903a9",
   "metadata": {},
   "source": [
    "# preparation des données d'entrées"
   ]
  },
  {
   "cell_type": "code",
   "execution_count": 8,
   "metadata": {},
   "outputs": [
    {
     "output_type": "stream",
     "name": "stdout",
     "text": [
      "<class 'pandas.core.frame.DataFrame'>\nInt64Index: 19 entries, 343 to 361\nData columns (total 103 columns):\nDate de l'export          datetime64[ns]\nCode du département       object\nLibellé du département    object\nCode du canton            int64\nLibellé du canton         object\nInscrits                  int64\nAbstentions               int64\n% Abs/Ins                 float64\nVotants                   int64\n% Vot/Ins                 float64\nBlancs                    int64\n% Blancs/Ins              float64\n% Blancs/Vot              float64\nNuls                      int64\n% Nuls/Ins                float64\n% Nuls/Vot                float64\nExprimés                  int64\n% Exp/Ins                 float64\n% Exp/Vot                 float64\nN°Panneau                 int64\nNuance                    object\nBinôme                    object\nSièges                    object\nVoix                      int64\n% Voix/Ins                float64\n% Voix/Exp                float64\nN°Panneau.1               float64\nNuance.1                  object\nBinôme.1                  object\nSièges.1                  object\nVoix.1                    float64\n% Voix/Ins.1              float64\n% Voix/Exp.1              float64\nN°Panneau.2               float64\nNuance.2                  object\nBinôme.2                  object\nSièges.2                  object\nVoix.2                    float64\n% Voix/Ins.2              float64\n% Voix/Exp.2              float64\nN°Panneau.3               float64\nNuance.3                  object\nBinôme.3                  object\nSièges.3                  object\nVoix.3                    float64\n% Voix/Ins.3              float64\n% Voix/Exp.3              float64\nN°Panneau.4               float64\nNuance.4                  object\nBinôme.4                  object\nSièges.4                  object\nVoix.4                    float64\n% Voix/Ins.4              float64\n% Voix/Exp.4              float64\nN°Panneau.5               float64\nNuance.5                  object\nBinôme.5                  object\nSièges.5                  object\nVoix.5                    float64\n% Voix/Ins.5              float64\n% Voix/Exp.5              float64\nN°Panneau.6               float64\nNuance.6                  object\nBinôme.6                  object\nSièges.6                  object\nVoix.6                    float64\n% Voix/Ins.6              float64\n% Voix/Exp.6              float64\nN°Panneau.7               float64\nNuance.7                  object\nBinôme.7                  object\nSièges.7                  object\nVoix.7                    float64\n% Voix/Ins.7              float64\n% Voix/Exp.7              float64\nN°Panneau.8               float64\nNuance.8                  object\nBinôme.8                  object\nSièges.8                  object\nVoix.8                    float64\n% Voix/Ins.8              float64\n% Voix/Exp.8              float64\nN°Panneau.9               float64\nNuance.9                  object\nBinôme.9                  object\nSièges.9                  object\nVoix.9                    float64\n% Voix/Ins.9              float64\n% Voix/Exp.9              float64\nN°Panneau.10              float64\nNuance.10                 object\nBinôme.10                 object\nSièges.10                 object\nVoix.10                   float64\n% Voix/Ins.10             float64\n% Voix/Exp.10             float64\nN°Panneau.11              float64\nNuance.11                 float64\nBinôme.11                 float64\nSièges.11                 float64\nVoix.11                   float64\n% Voix/Ins.11             float64\n% Voix/Exp.11             float64\ndtypes: datetime64[ns](1), float64(57), int64(9), object(36)\nmemory usage: 16.1+ KB\n"
     ]
    }
   ],
   "source": [
    "cher_data_canton.info(verbose=True)"
   ]
  },
  {
   "cell_type": "code",
   "execution_count": 6,
   "metadata": {},
   "outputs": [
    {
     "output_type": "execute_result",
     "data": {
      "text/plain": [
       "Index(['Date de l'export', 'Code du département', 'Libellé du département',\n",
       "       'Code du canton', 'Libellé du canton', 'Inscrits', 'Abstentions',\n",
       "       '% Abs/Ins', 'Votants', '% Vot/Ins',\n",
       "       ...\n",
       "       'Voix.10', '% Voix/Ins.10', '% Voix/Exp.10', 'N°Panneau.11',\n",
       "       'Nuance.11', 'Binôme.11', 'Sièges.11', 'Voix.11', '% Voix/Ins.11',\n",
       "       '% Voix/Exp.11'],\n",
       "      dtype='object', length=103)"
      ]
     },
     "metadata": {},
     "execution_count": 6
    }
   ],
   "source": [
    "cher_data_canton.columns"
   ]
  },
  {
   "cell_type": "code",
   "execution_count": 7,
   "id": "cb1fb422",
   "metadata": {},
   "outputs": [
    {
     "data": {
      "text/plain": [
       "Index(['NUMTOUR', 'CODDPT', 'CODSUBCOM', 'LIBSUBCOM', 'CODBURVOT', 'CODCAN',\n",
       "       'LIBCAN', 'NBRINS', 'NBRVOT', 'NBREXP', 'NUMDEPCAND', 'LIBLISEXT',\n",
       "       'CODNUA', 'NBRVOIX'],\n",
       "      dtype='object')"
      ]
     },
     "execution_count": 7,
     "metadata": {},
     "output_type": "execute_result"
    }
   ],
   "source": [
    "cher_data.columns"
   ]
  },
  {
   "cell_type": "code",
   "execution_count": 8,
   "id": "00b9d58e",
   "metadata": {},
   "outputs": [],
   "source": [
    "#explode Voix of each nuance into 1 column\n",
    "import numpy as np \n",
    "\n",
    "cher_data['NUL_BLC'] = cher_data['NBRVOT'] - cher_data['NBREXP']\n",
    "\n",
    "selected_feature = ['NBRINS', 'NBRVOT', 'NBREXP'\n",
    "       , 'NBRVOIX', 'NUL_BLC' ]\n",
    "\n",
    "nb_partie = cher_data['CODNUA'].nunique()\n",
    "\n",
    "\n",
    "nuance = ['BC-FN', 'BC-UD', 'BC-SOC', 'BC-FG', 'BC-DVG', 'BC-DVD', 'BC-UMP',\n",
    "       'BC-UDI', 'BC-UG', 'BC-DLF', 'BC-UC']\n",
    "\n",
    "nb_line = cher_data.shape[0]\n",
    "\n",
    "# CREATE A COLUMN VOIX FOR EACH PARTY\n",
    "for partie in nuance:\n",
    "    new_col = pd.DataFrame(0, index=np.arange(nb_line), columns=['VOIX_'+partie])\n",
    "    for line in range(nb_line):\n",
    "        if cher_data['CODNUA'].iloc[line]==partie:\n",
    "            new_col['VOIX_'+ partie].iloc[line] = cher_data['NBRVOIX'].iloc[line] \n",
    "        \n",
    "                \n",
    "    cher_data['VOIX_'+partie] = new_col.values\n",
    "\n",
    "#X = cher_data[]"
   ]
  },
  {
   "cell_type": "code",
   "execution_count": 34,
   "metadata": {},
   "outputs": [
    {
     "output_type": "execute_result",
     "data": {
      "text/plain": [
       "Empty DataFrame\n",
       "Columns: [Date de l'export, Code du département, Libellé du département, Code du canton, Libellé du canton, Inscrits, Abstentions, % Abs/Ins, Votants, % Vot/Ins, Blancs, % Blancs/Ins, % Blancs/Vot, Nuls, % Nuls/Ins, % Nuls/Vot, Exprimés, % Exp/Ins, % Exp/Vot, N°Panneau, Nuance, Binôme, Sièges, Voix, % Voix/Ins, % Voix/Exp, N°Panneau.1, Nuance.1, Binôme.1, Sièges.1, Voix.1, % Voix/Ins.1, % Voix/Exp.1, N°Panneau.2, Nuance.2, Binôme.2, Sièges.2, Voix.2, % Voix/Ins.2, % Voix/Exp.2, N°Panneau.3, Nuance.3, Binôme.3, Sièges.3, Voix.3, % Voix/Ins.3, % Voix/Exp.3, N°Panneau.4, Nuance.4, Binôme.4, Sièges.4, Voix.4, % Voix/Ins.4, % Voix/Exp.4, N°Panneau.5, Nuance.5, Binôme.5, Sièges.5, Voix.5, % Voix/Ins.5, % Voix/Exp.5, N°Panneau.6, Nuance.6, Binôme.6, Sièges.6, Voix.6, % Voix/Ins.6, % Voix/Exp.6, N°Panneau.7, Nuance.7, Binôme.7, Sièges.7, Voix.7, % Voix/Ins.7, % Voix/Exp.7, N°Panneau.8, Nuance.8, Binôme.8, Sièges.8, Voix.8, % Voix/Ins.8, % Voix/Exp.8, N°Panneau.9, Nuance.9, Binôme.9, Sièges.9, Voix.9, % Voix/Ins.9, % Voix/Exp.9, N°Panneau.10, Nuance.10, Binôme.10, Sièges.10, Voix.10, % Voix/Ins.10, % Voix/Exp.10, N°Panneau.11, Nuance.11, Binôme.11, Sièges.11, ...]\n",
       "Index: []\n",
       "\n",
       "[0 rows x 103 columns]"
      ],
      "text/html": "<div>\n<style scoped>\n    .dataframe tbody tr th:only-of-type {\n        vertical-align: middle;\n    }\n\n    .dataframe tbody tr th {\n        vertical-align: top;\n    }\n\n    .dataframe thead th {\n        text-align: right;\n    }\n</style>\n<table border=\"1\" class=\"dataframe\">\n  <thead>\n    <tr style=\"text-align: right;\">\n      <th></th>\n      <th>Date de l'export</th>\n      <th>Code du département</th>\n      <th>Libellé du département</th>\n      <th>Code du canton</th>\n      <th>Libellé du canton</th>\n      <th>Inscrits</th>\n      <th>Abstentions</th>\n      <th>% Abs/Ins</th>\n      <th>Votants</th>\n      <th>% Vot/Ins</th>\n      <th>...</th>\n      <th>Voix.10</th>\n      <th>% Voix/Ins.10</th>\n      <th>% Voix/Exp.10</th>\n      <th>N°Panneau.11</th>\n      <th>Nuance.11</th>\n      <th>Binôme.11</th>\n      <th>Sièges.11</th>\n      <th>Voix.11</th>\n      <th>% Voix/Ins.11</th>\n      <th>% Voix/Exp.11</th>\n    </tr>\n  </thead>\n  <tbody>\n  </tbody>\n</table>\n<p>0 rows × 103 columns</p>\n</div>"
     },
     "metadata": {},
     "execution_count": 34
    }
   ],
   "source": [
    "cher_data_canton.columns\n",
    "cher_data_canton.head()"
   ]
  },
  {
   "cell_type": "markdown",
   "id": "bc8ae5f7",
   "metadata": {},
   "source": [
    "# Test and validation "
   ]
  },
  {
   "cell_type": "code",
   "execution_count": 10,
   "id": "1211feb3",
   "metadata": {
    "collapsed": true
   },
   "outputs": [
    {
     "name": "stdout",
     "output_type": "stream",
     "text": [
      "CODCAN  CODNUA\n",
      "1       BC-FG     20\n",
      "        BC-FN     20\n",
      "        BC-SOC    20\n",
      "        BC-UD     20\n",
      "2       BC-DVG    37\n",
      "        BC-FN     37\n",
      "        BC-SOC    37\n",
      "        BC-UD     37\n",
      "3       BC-DVG    17\n",
      "        BC-FN     17\n",
      "        BC-SOC    17\n",
      "        BC-UD     17\n",
      "4       BC-DVD    15\n",
      "        BC-FG     15\n",
      "        BC-SOC    15\n",
      "        BC-UD     15\n",
      "5       BC-FG     13\n",
      "        BC-FN     13\n",
      "        BC-SOC    13\n",
      "        BC-UD     13\n",
      "6       BC-DVG    19\n",
      "        BC-SOC    19\n",
      "        BC-UD     19\n",
      "7       BC-FG     20\n",
      "        BC-FN     20\n",
      "        BC-SOC    20\n",
      "        BC-UD     20\n",
      "8       BC-DVG    40\n",
      "        BC-FN     40\n",
      "        BC-SOC    40\n",
      "        BC-UD     40\n",
      "9       BC-FG     36\n",
      "        BC-FN     36\n",
      "        BC-SOC    36\n",
      "        BC-UD     36\n",
      "10      BC-FG     23\n",
      "        BC-FN     23\n",
      "        BC-SOC    23\n",
      "        BC-UD     23\n",
      "11      BC-DVG    22\n",
      "        BC-FN     22\n",
      "        BC-SOC    22\n",
      "        BC-UD     22\n",
      "12      BC-DVD    22\n",
      "        BC-DVG    22\n",
      "        BC-FN     22\n",
      "        BC-SOC    22\n",
      "        BC-UDI    22\n",
      "        BC-UMP    22\n",
      "13      BC-DLF    13\n",
      "        BC-UD     13\n",
      "        BC-UG     13\n",
      "14      BC-FG     23\n",
      "        BC-FN     23\n",
      "        BC-SOC    23\n",
      "        BC-UD     23\n",
      "15      BC-FG     20\n",
      "        BC-FN     20\n",
      "        BC-SOC    20\n",
      "        BC-UD     20\n",
      "16      BC-DVG    38\n",
      "        BC-FN     38\n",
      "        BC-SOC    38\n",
      "        BC-UD     38\n",
      "17      BC-FG     29\n",
      "        BC-FN     29\n",
      "        BC-SOC    29\n",
      "        BC-UD     29\n",
      "18      BC-DVD    15\n",
      "        BC-FG     15\n",
      "        BC-FN     15\n",
      "        BC-SOC    15\n",
      "        BC-UC     15\n",
      "19      BC-DVD    21\n",
      "        BC-FG     21\n",
      "        BC-FN     21\n",
      "        BC-SOC    21\n",
      "        BC-UC     21\n"
     ]
    }
   ],
   "source": [
    "print(cher_data.groupby([ 'CODCAN', 'CODNUA'])['CODNUA'].count().to_string())"
   ]
  },
  {
   "cell_type": "code",
   "execution_count": 30,
   "id": "b1f7c7b9",
   "metadata": {},
   "outputs": [],
   "source": [
    "tmp = cher_data[cher_data['CODCAN']==13 ].sort_values(by=['CODBURVOT','LIBSUBCOM'])\n",
    "\n",
    "saveData(tmp, 'dataset/test.xlsx')"
   ]
  },
  {
   "cell_type": "code",
   "execution_count": 39,
   "id": "8e0834d4",
   "metadata": {},
   "outputs": [
    {
     "name": "stdout",
     "output_type": "stream",
     "text": [
      "['BC-UG' 'BC-UD' 'BC-DLF']\n"
     ]
    }
   ],
   "source": [
    "tmp[tmp['CODBURVOT']=='0001']\n",
    "print(tmp['CODNUA'].unique())\n"
   ]
  },
  {
   "cell_type": "code",
   "execution_count": 1,
   "metadata": {},
   "outputs": [],
   "source": [
    "import tensorflow as tf\n",
    "import pandas as pd\n",
    "from matplotlib import pyplot"
   ]
  },
  {
   "cell_type": "code",
   "execution_count": 2,
   "metadata": {},
   "outputs": [
    {
     "output_type": "execute_result",
     "data": {
      "text/plain": [
       "dict_items([('1', ['BC-FN', 'BC-UD']), ('2', ['BC-FN', 'BC-UD', 'BC-SOC']), ('3', ['BC-SOC', 'BC-UD']), ('4', ['BC-UD', 'BC-SOC']), ('5', ['BC-UD', 'BC-SOC']), ('6', ['BC-UD', 'BC-SOC']), ('7', ['BC-UD', 'BC-FG']), ('8', ['BC-UD', 'BC-FN']), ('9', ['BC-UD', 'BC-FN']), ('10', ['BC-UD', 'BC-FN', 'BC-SOC']), ('11', ['BC-FN', 'BC-UD']), ('12', ['BC-UDI', 'BC-FN']), ('13', ['BC-UG', 'BC-UD']), ('14', ['BC-UD', 'BC-FN']), ('15', ['BC-SOC', 'BC-FN', 'BC-UD']), ('16', ['BC-SOC', 'BC-FN', 'BC-UD']), ('17', ['BC-FN', 'BC-UD']), ('18', ['BC-FN', 'BC-FG']), ('19', ['BC-FN', 'BC-FG'])])"
      ]
     },
     "metadata": {},
     "execution_count": 2
    }
   ],
   "source": [
    "duels = {\n",
    "    '1' : ['BC-FN' , 'BC-UD'], \n",
    "    '2' : ['BC-FN' , 'BC-UD', 'BC-SOC'], \n",
    "    '3' : ['BC-SOC', 'BC-UD'], \n",
    "    '4' : ['BC-UD' , 'BC-SOC'], \n",
    "    '5' : ['BC-UD' , 'BC-SOC'], \n",
    "    '6' : ['BC-UD' , 'BC-SOC'], \n",
    "    '7' : ['BC-UD' , 'BC-FG'], \n",
    "    '8' : ['BC-UD' , 'BC-FN'], \n",
    "    '9' : ['BC-UD' , 'BC-FN'], \n",
    "    '10': ['BC-UD' , 'BC-FN', 'BC-SOC'], \n",
    "    '11': ['BC-FN' , 'BC-UD'], \n",
    "    '12': ['BC-UDI', 'BC-FN'], \n",
    "    '13': ['BC-UG' , 'BC-UD'], \n",
    "    '14': ['BC-UD' , 'BC-FN'], \n",
    "    '15': ['BC-SOC', 'BC-FN', 'BC-UD'], \n",
    "    '16': ['BC-SOC', 'BC-FN', 'BC-UD'], \n",
    "    '17': ['BC-FN' , 'BC-UD'], \n",
    "    '18': ['BC-FN' , 'BC-FG'], \n",
    "    '19': ['BC-FN' , 'BC-FG'] }\n",
    "duels.items()"
   ]
  },
  {
   "cell_type": "code",
   "execution_count": 77,
   "metadata": {},
   "outputs": [
    {
     "output_type": "stream",
     "name": "stdout",
     "text": [
      "shape x (65781, 28) shape y (60975, 22)\n",
      "shape xduel (29253, 28) shape yduel (27180, 22)\n",
      "C:\\Users\\cypri\\AppData\\Roaming\\Python\\Python39\\site-packages\\IPython\\core\\interactiveshell.py:3169: DtypeWarning: Columns (3) have mixed types.Specify dtype option on import or set low_memory=False.\n",
      "  has_raised = await self.run_ast_nodes(code_ast.body, cell_name,\n",
      "<ipython-input-77-d3de1d30c894>:21: UserWarning: Boolean Series key will be reindexed to match DataFrame index.\n",
      "  return (X[mask], y[mask])\n"
     ]
    },
    {
     "output_type": "error",
     "ename": "ValueError",
     "evalue": "Found input variables with inconsistent numbers of samples: [29253, 27180]",
     "traceback": [
      "\u001b[1;31m---------------------------------------------------------------------------\u001b[0m",
      "\u001b[1;31mValueError\u001b[0m                                Traceback (most recent call last)",
      "\u001b[1;32m<ipython-input-77-d3de1d30c894>\u001b[0m in \u001b[0;36m<module>\u001b[1;34m\u001b[0m\n\u001b[0;32m     46\u001b[0m \u001b[0my_duel1\u001b[0m \u001b[1;33m=\u001b[0m \u001b[0my_duel1\u001b[0m\u001b[1;33m[\u001b[0m\u001b[0mselected_feature_y\u001b[0m\u001b[1;33m]\u001b[0m\u001b[1;33m\u001b[0m\u001b[1;33m\u001b[0m\u001b[0m\n\u001b[0;32m     47\u001b[0m \u001b[1;33m\u001b[0m\u001b[0m\n\u001b[1;32m---> 48\u001b[1;33m \u001b[0mX_train\u001b[0m\u001b[1;33m,\u001b[0m \u001b[0mX_test\u001b[0m\u001b[1;33m,\u001b[0m \u001b[0my_train\u001b[0m\u001b[1;33m,\u001b[0m \u001b[0my_test\u001b[0m \u001b[1;33m=\u001b[0m \u001b[0mtrain_test_split\u001b[0m\u001b[1;33m(\u001b[0m\u001b[0mX_duel1\u001b[0m\u001b[1;33m,\u001b[0m \u001b[0my_duel1\u001b[0m\u001b[1;33m,\u001b[0m \u001b[0mtest_size\u001b[0m\u001b[1;33m=\u001b[0m\u001b[1;36m0.2\u001b[0m\u001b[1;33m,\u001b[0m\u001b[0mtrain_size\u001b[0m\u001b[1;33m=\u001b[0m\u001b[1;36m0.8\u001b[0m\u001b[1;33m,\u001b[0m \u001b[0mrandom_state\u001b[0m\u001b[1;33m=\u001b[0m\u001b[1;36m42\u001b[0m\u001b[1;33m)\u001b[0m\u001b[1;33m\u001b[0m\u001b[1;33m\u001b[0m\u001b[0m\n\u001b[0m\u001b[0;32m     49\u001b[0m \u001b[0mprint\u001b[0m\u001b[1;33m(\u001b[0m\u001b[1;34mf'shape xtrain {X_train.shape} shape ytrain {y_train.shape} || shape xtest {X_test.shape} shape ytest {y_test.shape}'\u001b[0m\u001b[1;33m)\u001b[0m\u001b[1;33m\u001b[0m\u001b[1;33m\u001b[0m\u001b[0m\n\u001b[0;32m     50\u001b[0m \u001b[1;33m\u001b[0m\u001b[0m\n",
      "\u001b[1;32m~\\AppData\\Local\\Programs\\Python\\Python39\\lib\\site-packages\\sklearn\\model_selection\\_split.py\u001b[0m in \u001b[0;36mtrain_test_split\u001b[1;34m(test_size, train_size, random_state, shuffle, stratify, *arrays)\u001b[0m\n\u001b[0;32m   2170\u001b[0m         \u001b[1;32mraise\u001b[0m \u001b[0mValueError\u001b[0m\u001b[1;33m(\u001b[0m\u001b[1;34m\"At least one array required as input\"\u001b[0m\u001b[1;33m)\u001b[0m\u001b[1;33m\u001b[0m\u001b[1;33m\u001b[0m\u001b[0m\n\u001b[0;32m   2171\u001b[0m \u001b[1;33m\u001b[0m\u001b[0m\n\u001b[1;32m-> 2172\u001b[1;33m     \u001b[0marrays\u001b[0m \u001b[1;33m=\u001b[0m \u001b[0mindexable\u001b[0m\u001b[1;33m(\u001b[0m\u001b[1;33m*\u001b[0m\u001b[0marrays\u001b[0m\u001b[1;33m)\u001b[0m\u001b[1;33m\u001b[0m\u001b[1;33m\u001b[0m\u001b[0m\n\u001b[0m\u001b[0;32m   2173\u001b[0m \u001b[1;33m\u001b[0m\u001b[0m\n\u001b[0;32m   2174\u001b[0m     \u001b[0mn_samples\u001b[0m \u001b[1;33m=\u001b[0m \u001b[0m_num_samples\u001b[0m\u001b[1;33m(\u001b[0m\u001b[0marrays\u001b[0m\u001b[1;33m[\u001b[0m\u001b[1;36m0\u001b[0m\u001b[1;33m]\u001b[0m\u001b[1;33m)\u001b[0m\u001b[1;33m\u001b[0m\u001b[1;33m\u001b[0m\u001b[0m\n",
      "\u001b[1;32m~\\AppData\\Local\\Programs\\Python\\Python39\\lib\\site-packages\\sklearn\\utils\\validation.py\u001b[0m in \u001b[0;36mindexable\u001b[1;34m(*iterables)\u001b[0m\n\u001b[0;32m    354\u001b[0m     \"\"\"\n\u001b[0;32m    355\u001b[0m     \u001b[0mresult\u001b[0m \u001b[1;33m=\u001b[0m \u001b[1;33m[\u001b[0m\u001b[0m_make_indexable\u001b[0m\u001b[1;33m(\u001b[0m\u001b[0mX\u001b[0m\u001b[1;33m)\u001b[0m \u001b[1;32mfor\u001b[0m \u001b[0mX\u001b[0m \u001b[1;32min\u001b[0m \u001b[0miterables\u001b[0m\u001b[1;33m]\u001b[0m\u001b[1;33m\u001b[0m\u001b[1;33m\u001b[0m\u001b[0m\n\u001b[1;32m--> 356\u001b[1;33m     \u001b[0mcheck_consistent_length\u001b[0m\u001b[1;33m(\u001b[0m\u001b[1;33m*\u001b[0m\u001b[0mresult\u001b[0m\u001b[1;33m)\u001b[0m\u001b[1;33m\u001b[0m\u001b[1;33m\u001b[0m\u001b[0m\n\u001b[0m\u001b[0;32m    357\u001b[0m     \u001b[1;32mreturn\u001b[0m \u001b[0mresult\u001b[0m\u001b[1;33m\u001b[0m\u001b[1;33m\u001b[0m\u001b[0m\n\u001b[0;32m    358\u001b[0m \u001b[1;33m\u001b[0m\u001b[0m\n",
      "\u001b[1;32m~\\AppData\\Local\\Programs\\Python\\Python39\\lib\\site-packages\\sklearn\\utils\\validation.py\u001b[0m in \u001b[0;36mcheck_consistent_length\u001b[1;34m(*arrays)\u001b[0m\n\u001b[0;32m    317\u001b[0m     \u001b[0muniques\u001b[0m \u001b[1;33m=\u001b[0m \u001b[0mnp\u001b[0m\u001b[1;33m.\u001b[0m\u001b[0munique\u001b[0m\u001b[1;33m(\u001b[0m\u001b[0mlengths\u001b[0m\u001b[1;33m)\u001b[0m\u001b[1;33m\u001b[0m\u001b[1;33m\u001b[0m\u001b[0m\n\u001b[0;32m    318\u001b[0m     \u001b[1;32mif\u001b[0m \u001b[0mlen\u001b[0m\u001b[1;33m(\u001b[0m\u001b[0muniques\u001b[0m\u001b[1;33m)\u001b[0m \u001b[1;33m>\u001b[0m \u001b[1;36m1\u001b[0m\u001b[1;33m:\u001b[0m\u001b[1;33m\u001b[0m\u001b[1;33m\u001b[0m\u001b[0m\n\u001b[1;32m--> 319\u001b[1;33m         raise ValueError(\"Found input variables with inconsistent numbers of\"\n\u001b[0m\u001b[0;32m    320\u001b[0m                          \" samples: %r\" % [int(l) for l in lengths])\n\u001b[0;32m    321\u001b[0m \u001b[1;33m\u001b[0m\u001b[0m\n",
      "\u001b[1;31mValueError\u001b[0m: Found input variables with inconsistent numbers of samples: [29253, 27180]"
     ]
    }
   ],
   "source": [
    "#get Xtain, ytrain and  Xval, yval\n",
    "from sklearn.model_selection import train_test_split\n",
    "\n",
    "# retourne les donnee associe a un duel\n",
    "def getTrainSets(X, y, canton, col_canton_name='CODCAN'):\n",
    "    duel = duels[str(canton)] #le duel qu'on cherche on predire\n",
    "    selected_canton = [] #les canton qui contiennent le duel que l'on cherche \n",
    "    for key, nuance_list in duels.items():\n",
    "        if all(nuance in nuance_list for nuance in duel): #filtre les cantons qui contiennent notre duel\n",
    "            selected_canton.append(key)\n",
    "\n",
    "    canton0 = selected_canton.pop(0)\n",
    "    mask = X[col_canton_name] == int(canton0)\n",
    "\n",
    "    # mask_X = pd.Series([False]*len(X))\n",
    "    # mask_y = pd.Series([False]*len(y))\n",
    "    for canton_ in selected_canton:\n",
    "        mask |= X[col_canton_name]==int(canton_)\n",
    "\n",
    "        \n",
    "    return (X[mask], y[mask])\n",
    "\n",
    "\n",
    "\n",
    "df_cher_Bvot_X = pd.read_csv('dataset/inputs/XDataFR_Bvot.csv',sep=';')\n",
    "df_cher_Bvot_y = pd.read_csv('dataset/labels/yDataFR_Bvot.csv',sep=';')\n",
    "\n",
    "X_cher_Bvot = df_cher_Bvot_X.copy()\n",
    "y_cher_Bvot = df_cher_Bvot_y.copy()\n",
    "\n",
    "print(f'shape x {X_cher_Bvot.shape} shape y {y_cher_Bvot.shape}')\n",
    "\n",
    "\n",
    "\n",
    "\n",
    "X_duel1, y_duel1  = getTrainSets(X_cher_Bvot, y_cher_Bvot, 1)\n",
    "print(f'shape xduel {X_duel1.shape} shape yduel {y_duel1.shape}')\n",
    "\n",
    "selected_feature_X = ['NBRINS', 'NBREXP',\n",
    "       '%ABS/INS', '%BLCNUL/VOT', '%EXP/VOT', 'BC-DLF', 'BC-DVD', 'BC-DVG',\n",
    "       'BC-FG', 'BC-FN', 'BC-SOC', 'BC-UC', 'BC-UD', 'BC-UDI', 'BC-UG',\n",
    "       'BC-UMP']\n",
    "selected_feature_y = ['BC-FN' , 'BC-UD']\n",
    "\n",
    "X_duel1 = X_duel1[selected_feature_X]\n",
    "y_duel1 = y_duel1[selected_feature_y]\n",
    "\n",
    "X_train, X_test, y_train, y_test = train_test_split(X_duel1, y_duel1, test_size=0.2,train_size=0.8, random_state=42)\n",
    "print(f'shape xtrain {X_train.shape} shape ytrain {y_train.shape} || shape xtest {X_test.shape} shape ytest {y_test.shape}')\n",
    "\n",
    "\n",
    "\n",
    "\n",
    "\n",
    "X_train\n",
    "\n",
    "\n",
    "\n"
   ]
  },
  {
   "cell_type": "code",
   "execution_count": 71,
   "metadata": {},
   "outputs": [],
   "source": [
    "#build model\n",
    "tf.keras.backend.clear_session()\n",
    "\n",
    "model = tf.keras.Sequential()\n",
    "model.add(tf.keras.layers.InputLayer(input_shape=(16,)))\n",
    "model.add(tf.keras.layers.Dense(32, activation='elu'))\n",
    "model.add(tf.keras.layers.Dense(2, activation='softmax'))\n",
    "\n",
    "# opt = tf.keras.optimizers.SGD(learning_rate=0.02, momentum=0.9)\n",
    "opt = tf.keras.optimizers.Adagrad(learning_rate=0.001)\n",
    "model.compile(loss='mse', optimizer=opt, metrics=['accuracy'])"
   ]
  },
  {
   "cell_type": "code",
   "execution_count": 74,
   "metadata": {
    "tags": []
   },
   "outputs": [
    {
     "output_type": "stream",
     "name": "stdout",
     "text": [
      "Train: 0.722, Test: 0.603\n"
     ]
    },
    {
     "output_type": "display_data",
     "data": {
      "text/plain": "<Figure size 432x288 with 2 Axes>",
      "image/svg+xml": "<?xml version=\"1.0\" encoding=\"utf-8\" standalone=\"no\"?>\r\n<!DOCTYPE svg PUBLIC \"-//W3C//DTD SVG 1.1//EN\"\r\n  \"http://www.w3.org/Graphics/SVG/1.1/DTD/svg11.dtd\">\r\n<!-- Created with matplotlib (https://matplotlib.org/) -->\r\n<svg height=\"263.63625pt\" version=\"1.1\" viewBox=\"0 0 378.465625 263.63625\" width=\"378.465625pt\" xmlns=\"http://www.w3.org/2000/svg\" xmlns:xlink=\"http://www.w3.org/1999/xlink\">\r\n <metadata>\r\n  <rdf:RDF xmlns:cc=\"http://creativecommons.org/ns#\" xmlns:dc=\"http://purl.org/dc/elements/1.1/\" xmlns:rdf=\"http://www.w3.org/1999/02/22-rdf-syntax-ns#\">\r\n   <cc:Work>\r\n    <dc:type rdf:resource=\"http://purl.org/dc/dcmitype/StillImage\"/>\r\n    <dc:date>2021-06-25T00:05:56.273394</dc:date>\r\n    <dc:format>image/svg+xml</dc:format>\r\n    <dc:creator>\r\n     <cc:Agent>\r\n      <dc:title>Matplotlib v3.3.4, https://matplotlib.org/</dc:title>\r\n     </cc:Agent>\r\n    </dc:creator>\r\n   </cc:Work>\r\n  </rdf:RDF>\r\n </metadata>\r\n <defs>\r\n  <style type=\"text/css\">*{stroke-linecap:butt;stroke-linejoin:round;}</style>\r\n </defs>\r\n <g id=\"figure_1\">\r\n  <g id=\"patch_1\">\r\n   <path d=\"M 0 263.63625 \r\nL 378.465625 263.63625 \r\nL 378.465625 0 \r\nL 0 0 \r\nz\r\n\" style=\"fill:none;\"/>\r\n  </g>\r\n  <g id=\"axes_1\">\r\n   <g id=\"patch_2\">\r\n    <path d=\"M 36.465625 121.154489 \r\nL 371.265625 121.154489 \r\nL 371.265625 22.318125 \r\nL 36.465625 22.318125 \r\nz\r\n\" style=\"fill:#ffffff;\"/>\r\n   </g>\r\n   <g id=\"matplotlib.axis_1\">\r\n    <g id=\"xtick_1\">\r\n     <g id=\"line2d_1\">\r\n      <defs>\r\n       <path d=\"M 0 0 \r\nL 0 3.5 \r\n\" id=\"m2654ff3c56\" style=\"stroke:#000000;stroke-width:0.8;\"/>\r\n      </defs>\r\n      <g>\r\n       <use style=\"stroke:#000000;stroke-width:0.8;\" x=\"51.683807\" xlink:href=\"#m2654ff3c56\" y=\"121.154489\"/>\r\n      </g>\r\n     </g>\r\n     <g id=\"text_1\">\r\n      <!-- 0 -->\r\n      <g transform=\"translate(48.502557 135.752926)scale(0.1 -0.1)\">\r\n       <defs>\r\n        <path d=\"M 31.78125 66.40625 \r\nQ 24.171875 66.40625 20.328125 58.90625 \r\nQ 16.5 51.421875 16.5 36.375 \r\nQ 16.5 21.390625 20.328125 13.890625 \r\nQ 24.171875 6.390625 31.78125 6.390625 \r\nQ 39.453125 6.390625 43.28125 13.890625 \r\nQ 47.125 21.390625 47.125 36.375 \r\nQ 47.125 51.421875 43.28125 58.90625 \r\nQ 39.453125 66.40625 31.78125 66.40625 \r\nz\r\nM 31.78125 74.21875 \r\nQ 44.046875 74.21875 50.515625 64.515625 \r\nQ 56.984375 54.828125 56.984375 36.375 \r\nQ 56.984375 17.96875 50.515625 8.265625 \r\nQ 44.046875 -1.421875 31.78125 -1.421875 \r\nQ 19.53125 -1.421875 13.0625 8.265625 \r\nQ 6.59375 17.96875 6.59375 36.375 \r\nQ 6.59375 54.828125 13.0625 64.515625 \r\nQ 19.53125 74.21875 31.78125 74.21875 \r\nz\r\n\" id=\"DejaVuSans-48\"/>\r\n       </defs>\r\n       <use xlink:href=\"#DejaVuSans-48\"/>\r\n      </g>\r\n     </g>\r\n    </g>\r\n    <g id=\"xtick_2\">\r\n     <g id=\"line2d_2\">\r\n      <g>\r\n       <use style=\"stroke:#000000;stroke-width:0.8;\" x=\"113.17141\" xlink:href=\"#m2654ff3c56\" y=\"121.154489\"/>\r\n      </g>\r\n     </g>\r\n     <g id=\"text_2\">\r\n      <!-- 20 -->\r\n      <g transform=\"translate(106.80891 135.752926)scale(0.1 -0.1)\">\r\n       <defs>\r\n        <path d=\"M 19.1875 8.296875 \r\nL 53.609375 8.296875 \r\nL 53.609375 0 \r\nL 7.328125 0 \r\nL 7.328125 8.296875 \r\nQ 12.9375 14.109375 22.625 23.890625 \r\nQ 32.328125 33.6875 34.8125 36.53125 \r\nQ 39.546875 41.84375 41.421875 45.53125 \r\nQ 43.3125 49.21875 43.3125 52.78125 \r\nQ 43.3125 58.59375 39.234375 62.25 \r\nQ 35.15625 65.921875 28.609375 65.921875 \r\nQ 23.96875 65.921875 18.8125 64.3125 \r\nQ 13.671875 62.703125 7.8125 59.421875 \r\nL 7.8125 69.390625 \r\nQ 13.765625 71.78125 18.9375 73 \r\nQ 24.125 74.21875 28.421875 74.21875 \r\nQ 39.75 74.21875 46.484375 68.546875 \r\nQ 53.21875 62.890625 53.21875 53.421875 \r\nQ 53.21875 48.921875 51.53125 44.890625 \r\nQ 49.859375 40.875 45.40625 35.40625 \r\nQ 44.1875 33.984375 37.640625 27.21875 \r\nQ 31.109375 20.453125 19.1875 8.296875 \r\nz\r\n\" id=\"DejaVuSans-50\"/>\r\n       </defs>\r\n       <use xlink:href=\"#DejaVuSans-50\"/>\r\n       <use x=\"63.623047\" xlink:href=\"#DejaVuSans-48\"/>\r\n      </g>\r\n     </g>\r\n    </g>\r\n    <g id=\"xtick_3\">\r\n     <g id=\"line2d_3\">\r\n      <g>\r\n       <use style=\"stroke:#000000;stroke-width:0.8;\" x=\"174.659013\" xlink:href=\"#m2654ff3c56\" y=\"121.154489\"/>\r\n      </g>\r\n     </g>\r\n     <g id=\"text_3\">\r\n      <!-- 40 -->\r\n      <g transform=\"translate(168.296513 135.752926)scale(0.1 -0.1)\">\r\n       <defs>\r\n        <path d=\"M 37.796875 64.3125 \r\nL 12.890625 25.390625 \r\nL 37.796875 25.390625 \r\nz\r\nM 35.203125 72.90625 \r\nL 47.609375 72.90625 \r\nL 47.609375 25.390625 \r\nL 58.015625 25.390625 \r\nL 58.015625 17.1875 \r\nL 47.609375 17.1875 \r\nL 47.609375 0 \r\nL 37.796875 0 \r\nL 37.796875 17.1875 \r\nL 4.890625 17.1875 \r\nL 4.890625 26.703125 \r\nz\r\n\" id=\"DejaVuSans-52\"/>\r\n       </defs>\r\n       <use xlink:href=\"#DejaVuSans-52\"/>\r\n       <use x=\"63.623047\" xlink:href=\"#DejaVuSans-48\"/>\r\n      </g>\r\n     </g>\r\n    </g>\r\n    <g id=\"xtick_4\">\r\n     <g id=\"line2d_4\">\r\n      <g>\r\n       <use style=\"stroke:#000000;stroke-width:0.8;\" x=\"236.146617\" xlink:href=\"#m2654ff3c56\" y=\"121.154489\"/>\r\n      </g>\r\n     </g>\r\n     <g id=\"text_4\">\r\n      <!-- 60 -->\r\n      <g transform=\"translate(229.784117 135.752926)scale(0.1 -0.1)\">\r\n       <defs>\r\n        <path d=\"M 33.015625 40.375 \r\nQ 26.375 40.375 22.484375 35.828125 \r\nQ 18.609375 31.296875 18.609375 23.390625 \r\nQ 18.609375 15.53125 22.484375 10.953125 \r\nQ 26.375 6.390625 33.015625 6.390625 \r\nQ 39.65625 6.390625 43.53125 10.953125 \r\nQ 47.40625 15.53125 47.40625 23.390625 \r\nQ 47.40625 31.296875 43.53125 35.828125 \r\nQ 39.65625 40.375 33.015625 40.375 \r\nz\r\nM 52.59375 71.296875 \r\nL 52.59375 62.3125 \r\nQ 48.875 64.0625 45.09375 64.984375 \r\nQ 41.3125 65.921875 37.59375 65.921875 \r\nQ 27.828125 65.921875 22.671875 59.328125 \r\nQ 17.53125 52.734375 16.796875 39.40625 \r\nQ 19.671875 43.65625 24.015625 45.921875 \r\nQ 28.375 48.1875 33.59375 48.1875 \r\nQ 44.578125 48.1875 50.953125 41.515625 \r\nQ 57.328125 34.859375 57.328125 23.390625 \r\nQ 57.328125 12.15625 50.6875 5.359375 \r\nQ 44.046875 -1.421875 33.015625 -1.421875 \r\nQ 20.359375 -1.421875 13.671875 8.265625 \r\nQ 6.984375 17.96875 6.984375 36.375 \r\nQ 6.984375 53.65625 15.1875 63.9375 \r\nQ 23.390625 74.21875 37.203125 74.21875 \r\nQ 40.921875 74.21875 44.703125 73.484375 \r\nQ 48.484375 72.75 52.59375 71.296875 \r\nz\r\n\" id=\"DejaVuSans-54\"/>\r\n       </defs>\r\n       <use xlink:href=\"#DejaVuSans-54\"/>\r\n       <use x=\"63.623047\" xlink:href=\"#DejaVuSans-48\"/>\r\n      </g>\r\n     </g>\r\n    </g>\r\n    <g id=\"xtick_5\">\r\n     <g id=\"line2d_5\">\r\n      <g>\r\n       <use style=\"stroke:#000000;stroke-width:0.8;\" x=\"297.63422\" xlink:href=\"#m2654ff3c56\" y=\"121.154489\"/>\r\n      </g>\r\n     </g>\r\n     <g id=\"text_5\">\r\n      <!-- 80 -->\r\n      <g transform=\"translate(291.27172 135.752926)scale(0.1 -0.1)\">\r\n       <defs>\r\n        <path d=\"M 31.78125 34.625 \r\nQ 24.75 34.625 20.71875 30.859375 \r\nQ 16.703125 27.09375 16.703125 20.515625 \r\nQ 16.703125 13.921875 20.71875 10.15625 \r\nQ 24.75 6.390625 31.78125 6.390625 \r\nQ 38.8125 6.390625 42.859375 10.171875 \r\nQ 46.921875 13.96875 46.921875 20.515625 \r\nQ 46.921875 27.09375 42.890625 30.859375 \r\nQ 38.875 34.625 31.78125 34.625 \r\nz\r\nM 21.921875 38.8125 \r\nQ 15.578125 40.375 12.03125 44.71875 \r\nQ 8.5 49.078125 8.5 55.328125 \r\nQ 8.5 64.0625 14.71875 69.140625 \r\nQ 20.953125 74.21875 31.78125 74.21875 \r\nQ 42.671875 74.21875 48.875 69.140625 \r\nQ 55.078125 64.0625 55.078125 55.328125 \r\nQ 55.078125 49.078125 51.53125 44.71875 \r\nQ 48 40.375 41.703125 38.8125 \r\nQ 48.828125 37.15625 52.796875 32.3125 \r\nQ 56.78125 27.484375 56.78125 20.515625 \r\nQ 56.78125 9.90625 50.3125 4.234375 \r\nQ 43.84375 -1.421875 31.78125 -1.421875 \r\nQ 19.734375 -1.421875 13.25 4.234375 \r\nQ 6.78125 9.90625 6.78125 20.515625 \r\nQ 6.78125 27.484375 10.78125 32.3125 \r\nQ 14.796875 37.15625 21.921875 38.8125 \r\nz\r\nM 18.3125 54.390625 \r\nQ 18.3125 48.734375 21.84375 45.5625 \r\nQ 25.390625 42.390625 31.78125 42.390625 \r\nQ 38.140625 42.390625 41.71875 45.5625 \r\nQ 45.3125 48.734375 45.3125 54.390625 \r\nQ 45.3125 60.0625 41.71875 63.234375 \r\nQ 38.140625 66.40625 31.78125 66.40625 \r\nQ 25.390625 66.40625 21.84375 63.234375 \r\nQ 18.3125 60.0625 18.3125 54.390625 \r\nz\r\n\" id=\"DejaVuSans-56\"/>\r\n       </defs>\r\n       <use xlink:href=\"#DejaVuSans-56\"/>\r\n       <use x=\"63.623047\" xlink:href=\"#DejaVuSans-48\"/>\r\n      </g>\r\n     </g>\r\n    </g>\r\n    <g id=\"xtick_6\">\r\n     <g id=\"line2d_6\">\r\n      <g>\r\n       <use style=\"stroke:#000000;stroke-width:0.8;\" x=\"359.121823\" xlink:href=\"#m2654ff3c56\" y=\"121.154489\"/>\r\n      </g>\r\n     </g>\r\n     <g id=\"text_6\">\r\n      <!-- 100 -->\r\n      <g transform=\"translate(349.578073 135.752926)scale(0.1 -0.1)\">\r\n       <defs>\r\n        <path d=\"M 12.40625 8.296875 \r\nL 28.515625 8.296875 \r\nL 28.515625 63.921875 \r\nL 10.984375 60.40625 \r\nL 10.984375 69.390625 \r\nL 28.421875 72.90625 \r\nL 38.28125 72.90625 \r\nL 38.28125 8.296875 \r\nL 54.390625 8.296875 \r\nL 54.390625 0 \r\nL 12.40625 0 \r\nz\r\n\" id=\"DejaVuSans-49\"/>\r\n       </defs>\r\n       <use xlink:href=\"#DejaVuSans-49\"/>\r\n       <use x=\"63.623047\" xlink:href=\"#DejaVuSans-48\"/>\r\n       <use x=\"127.246094\" xlink:href=\"#DejaVuSans-48\"/>\r\n      </g>\r\n     </g>\r\n    </g>\r\n   </g>\r\n   <g id=\"matplotlib.axis_2\">\r\n    <g id=\"ytick_1\">\r\n     <g id=\"line2d_7\">\r\n      <defs>\r\n       <path d=\"M 0 0 \r\nL -3.5 0 \r\n\" id=\"mb6f1a217a7\" style=\"stroke:#000000;stroke-width:0.8;\"/>\r\n      </defs>\r\n      <g>\r\n       <use style=\"stroke:#000000;stroke-width:0.8;\" x=\"36.465625\" xlink:href=\"#mb6f1a217a7\" y=\"112.589628\"/>\r\n      </g>\r\n     </g>\r\n     <g id=\"text_7\">\r\n      <!-- 0.08 -->\r\n      <g transform=\"translate(7.2 116.388846)scale(0.1 -0.1)\">\r\n       <defs>\r\n        <path d=\"M 10.6875 12.40625 \r\nL 21 12.40625 \r\nL 21 0 \r\nL 10.6875 0 \r\nz\r\n\" id=\"DejaVuSans-46\"/>\r\n       </defs>\r\n       <use xlink:href=\"#DejaVuSans-48\"/>\r\n       <use x=\"63.623047\" xlink:href=\"#DejaVuSans-46\"/>\r\n       <use x=\"95.410156\" xlink:href=\"#DejaVuSans-48\"/>\r\n       <use x=\"159.033203\" xlink:href=\"#DejaVuSans-56\"/>\r\n      </g>\r\n     </g>\r\n    </g>\r\n    <g id=\"ytick_2\">\r\n     <g id=\"line2d_8\">\r\n      <g>\r\n       <use style=\"stroke:#000000;stroke-width:0.8;\" x=\"36.465625\" xlink:href=\"#mb6f1a217a7\" y=\"71.339988\"/>\r\n      </g>\r\n     </g>\r\n     <g id=\"text_8\">\r\n      <!-- 0.10 -->\r\n      <g transform=\"translate(7.2 75.139206)scale(0.1 -0.1)\">\r\n       <use xlink:href=\"#DejaVuSans-48\"/>\r\n       <use x=\"63.623047\" xlink:href=\"#DejaVuSans-46\"/>\r\n       <use x=\"95.410156\" xlink:href=\"#DejaVuSans-49\"/>\r\n       <use x=\"159.033203\" xlink:href=\"#DejaVuSans-48\"/>\r\n      </g>\r\n     </g>\r\n    </g>\r\n    <g id=\"ytick_3\">\r\n     <g id=\"line2d_9\">\r\n      <g>\r\n       <use style=\"stroke:#000000;stroke-width:0.8;\" x=\"36.465625\" xlink:href=\"#mb6f1a217a7\" y=\"30.090348\"/>\r\n      </g>\r\n     </g>\r\n     <g id=\"text_9\">\r\n      <!-- 0.12 -->\r\n      <g transform=\"translate(7.2 33.889566)scale(0.1 -0.1)\">\r\n       <use xlink:href=\"#DejaVuSans-48\"/>\r\n       <use x=\"63.623047\" xlink:href=\"#DejaVuSans-46\"/>\r\n       <use x=\"95.410156\" xlink:href=\"#DejaVuSans-49\"/>\r\n       <use x=\"159.033203\" xlink:href=\"#DejaVuSans-50\"/>\r\n      </g>\r\n     </g>\r\n    </g>\r\n   </g>\r\n   <g id=\"line2d_10\">\r\n    <path clip-path=\"url(#p009993cfb2)\" d=\"M 51.683807 76.038688 \r\nL 54.758187 74.919639 \r\nL 57.832567 77.16187 \r\nL 60.906947 78.029027 \r\nL 63.981327 75.944413 \r\nL 67.055708 78.300326 \r\nL 70.130088 78.281486 \r\nL 73.204468 78.157984 \r\nL 76.278848 77.661348 \r\nL 79.353228 78.929239 \r\nL 82.427608 79.621093 \r\nL 85.501989 81.9885 \r\nL 88.576369 82.345084 \r\nL 91.650749 82.925453 \r\nL 94.725129 81.969123 \r\nL 97.799509 83.12121 \r\nL 100.873889 83.541658 \r\nL 103.94827 85.099271 \r\nL 107.02265 84.478903 \r\nL 110.09703 83.021603 \r\nL 113.17141 85.109905 \r\nL 116.24579 85.01626 \r\nL 119.32017 88.131057 \r\nL 122.394551 89.528612 \r\nL 125.468931 90.292305 \r\nL 128.543311 88.859408 \r\nL 131.617691 88.223826 \r\nL 134.692071 91.299023 \r\nL 137.766451 91.510868 \r\nL 140.840832 90.871491 \r\nL 143.915212 92.760011 \r\nL 146.989592 93.333142 \r\nL 150.063972 90.47898 \r\nL 153.138352 93.903738 \r\nL 156.212732 95.030224 \r\nL 159.287113 87.934026 \r\nL 162.361493 95.248692 \r\nL 165.435873 95.873225 \r\nL 168.510253 94.906922 \r\nL 171.584633 96.051079 \r\nL 174.659013 93.965266 \r\nL 177.733394 97.183036 \r\nL 180.807774 94.532082 \r\nL 183.882154 97.892147 \r\nL 186.956534 98.491371 \r\nL 190.030914 95.821977 \r\nL 193.105294 98.532185 \r\nL 196.179675 97.558905 \r\nL 199.254055 98.882253 \r\nL 202.328435 99.572064 \r\nL 205.402815 98.604086 \r\nL 208.477195 101.024908 \r\nL 211.551575 100.089245 \r\nL 214.625956 100.591536 \r\nL 217.700336 100.005973 \r\nL 220.774716 99.826782 \r\nL 223.849096 101.207879 \r\nL 226.923476 102.834074 \r\nL 229.997856 100.551183 \r\nL 233.072237 102.998943 \r\nL 236.146617 101.763446 \r\nL 239.220997 104.342022 \r\nL 242.295377 101.201332 \r\nL 245.369757 104.10138 \r\nL 248.444137 103.407866 \r\nL 251.518518 102.745915 \r\nL 254.592898 106.181937 \r\nL 257.667278 106.385577 \r\nL 260.741658 106.696952 \r\nL 263.816038 106.926377 \r\nL 266.890418 106.131243 \r\nL 269.964799 107.568243 \r\nL 273.039179 108.097672 \r\nL 276.113559 108.444114 \r\nL 279.187939 108.798838 \r\nL 282.262319 107.77219 \r\nL 285.336699 108.2774 \r\nL 288.41108 108.34924 \r\nL 291.48546 108.952935 \r\nL 294.55984 109.157589 \r\nL 297.63422 110.832466 \r\nL 300.7086 109.999791 \r\nL 303.78298 109.454351 \r\nL 306.857361 111.077396 \r\nL 309.931741 111.644549 \r\nL 313.006121 108.960972 \r\nL 316.080501 110.618515 \r\nL 319.154881 112.639419 \r\nL 322.229261 113.399102 \r\nL 325.303642 113.325358 \r\nL 328.378022 113.856599 \r\nL 331.452402 113.707712 \r\nL 334.526782 112.724781 \r\nL 337.601162 113.59469 \r\nL 340.675542 114.793706 \r\nL 343.749923 114.864731 \r\nL 346.824303 115.056753 \r\nL 349.898683 115.24624 \r\nL 352.973063 112.953468 \r\nL 356.047443 116.661927 \r\n\" style=\"fill:none;stroke:#1f77b4;stroke-linecap:square;stroke-width:1.5;\"/>\r\n   </g>\r\n   <g id=\"line2d_11\">\r\n    <path clip-path=\"url(#p009993cfb2)\" d=\"M 51.683807 26.810687 \r\nL 54.758187 39.882191 \r\nL 57.832567 33.515957 \r\nL 60.906947 49.66839 \r\nL 63.981327 40.431458 \r\nL 67.055708 39.819388 \r\nL 70.130088 52.406288 \r\nL 73.204468 32.722436 \r\nL 76.278848 43.099146 \r\nL 79.353228 52.213421 \r\nL 82.427608 42.88747 \r\nL 85.501989 39.579391 \r\nL 88.576369 37.716334 \r\nL 91.650749 50.39276 \r\nL 94.725129 43.418881 \r\nL 97.799509 34.281372 \r\nL 100.873889 38.678334 \r\nL 103.94827 45.246195 \r\nL 107.02265 53.993805 \r\nL 110.09703 54.122963 \r\nL 113.17141 39.877996 \r\nL 116.24579 34.823708 \r\nL 119.32017 42.451824 \r\nL 122.394551 42.711721 \r\nL 125.468931 32.170726 \r\nL 128.543311 34.098692 \r\nL 131.617691 28.762287 \r\nL 134.692071 44.425476 \r\nL 137.766451 41.65288 \r\nL 140.840832 42.142631 \r\nL 143.915212 30.977564 \r\nL 146.989592 49.152607 \r\nL 150.063972 30.764029 \r\nL 153.138352 41.688622 \r\nL 156.212732 27.184389 \r\nL 159.287113 36.0039 \r\nL 162.361493 41.96888 \r\nL 165.435873 36.897335 \r\nL 168.510253 41.734169 \r\nL 171.584633 40.746568 \r\nL 174.659013 36.685582 \r\nL 177.733394 47.80584 \r\nL 180.807774 37.895755 \r\nL 183.882154 35.912161 \r\nL 186.956534 48.585453 \r\nL 190.030914 38.425445 \r\nL 193.105294 34.981217 \r\nL 196.179675 32.784103 \r\nL 199.254055 50.423463 \r\nL 202.328435 32.5757 \r\nL 205.402815 45.855884 \r\nL 208.477195 38.290541 \r\nL 211.551575 40.050103 \r\nL 214.625956 37.500401 \r\nL 217.700336 55.063511 \r\nL 220.774716 57.126966 \r\nL 223.849096 46.694675 \r\nL 226.923476 34.371005 \r\nL 229.997856 38.188475 \r\nL 233.072237 43.007084 \r\nL 236.146617 47.799924 \r\nL 239.220997 47.108576 \r\nL 242.295377 39.976005 \r\nL 245.369757 54.196738 \r\nL 248.444137 44.975403 \r\nL 251.518518 46.118332 \r\nL 254.592898 52.660822 \r\nL 257.667278 50.493105 \r\nL 260.741658 41.104412 \r\nL 263.816038 50.463401 \r\nL 266.890418 55.658463 \r\nL 269.964799 44.33283 \r\nL 273.039179 48.404495 \r\nL 276.113559 48.735878 \r\nL 279.187939 48.175378 \r\nL 282.262319 47.076583 \r\nL 285.336699 49.306166 \r\nL 288.41108 42.664453 \r\nL 291.48546 49.821534 \r\nL 294.55984 48.906264 \r\nL 297.63422 58.859391 \r\nL 300.7086 50.114439 \r\nL 303.78298 58.598172 \r\nL 306.857361 55.687322 \r\nL 309.931741 62.514942 \r\nL 313.006121 63.379963 \r\nL 316.080501 50.863381 \r\nL 319.154881 55.661583 \r\nL 322.229261 49.115666 \r\nL 325.303642 54.199181 \r\nL 328.378022 63.139275 \r\nL 331.452402 55.498496 \r\nL 334.526782 58.16434 \r\nL 337.601162 56.917072 \r\nL 340.675542 58.957738 \r\nL 343.749923 62.417117 \r\nL 346.824303 60.271466 \r\nL 349.898683 61.186461 \r\nL 352.973063 54.570932 \r\nL 356.047443 56.731089 \r\n\" style=\"fill:none;stroke:#ff7f0e;stroke-linecap:square;stroke-width:1.5;\"/>\r\n   </g>\r\n   <g id=\"patch_3\">\r\n    <path d=\"M 36.465625 121.154489 \r\nL 36.465625 22.318125 \r\n\" style=\"fill:none;stroke:#000000;stroke-linecap:square;stroke-linejoin:miter;stroke-width:0.8;\"/>\r\n   </g>\r\n   <g id=\"patch_4\">\r\n    <path d=\"M 371.265625 121.154489 \r\nL 371.265625 22.318125 \r\n\" style=\"fill:none;stroke:#000000;stroke-linecap:square;stroke-linejoin:miter;stroke-width:0.8;\"/>\r\n   </g>\r\n   <g id=\"patch_5\">\r\n    <path d=\"M 36.465625 121.154489 \r\nL 371.265625 121.154489 \r\n\" style=\"fill:none;stroke:#000000;stroke-linecap:square;stroke-linejoin:miter;stroke-width:0.8;\"/>\r\n   </g>\r\n   <g id=\"patch_6\">\r\n    <path d=\"M 36.465625 22.318125 \r\nL 371.265625 22.318125 \r\n\" style=\"fill:none;stroke:#000000;stroke-linecap:square;stroke-linejoin:miter;stroke-width:0.8;\"/>\r\n   </g>\r\n   <g id=\"text_10\">\r\n    <!-- Loss -->\r\n    <g transform=\"translate(190.705 16.318125)scale(0.12 -0.12)\">\r\n     <defs>\r\n      <path d=\"M 9.8125 72.90625 \r\nL 19.671875 72.90625 \r\nL 19.671875 8.296875 \r\nL 55.171875 8.296875 \r\nL 55.171875 0 \r\nL 9.8125 0 \r\nz\r\n\" id=\"DejaVuSans-76\"/>\r\n      <path d=\"M 30.609375 48.390625 \r\nQ 23.390625 48.390625 19.1875 42.75 \r\nQ 14.984375 37.109375 14.984375 27.296875 \r\nQ 14.984375 17.484375 19.15625 11.84375 \r\nQ 23.34375 6.203125 30.609375 6.203125 \r\nQ 37.796875 6.203125 41.984375 11.859375 \r\nQ 46.1875 17.53125 46.1875 27.296875 \r\nQ 46.1875 37.015625 41.984375 42.703125 \r\nQ 37.796875 48.390625 30.609375 48.390625 \r\nz\r\nM 30.609375 56 \r\nQ 42.328125 56 49.015625 48.375 \r\nQ 55.71875 40.765625 55.71875 27.296875 \r\nQ 55.71875 13.875 49.015625 6.21875 \r\nQ 42.328125 -1.421875 30.609375 -1.421875 \r\nQ 18.84375 -1.421875 12.171875 6.21875 \r\nQ 5.515625 13.875 5.515625 27.296875 \r\nQ 5.515625 40.765625 12.171875 48.375 \r\nQ 18.84375 56 30.609375 56 \r\nz\r\n\" id=\"DejaVuSans-111\"/>\r\n      <path d=\"M 44.28125 53.078125 \r\nL 44.28125 44.578125 \r\nQ 40.484375 46.53125 36.375 47.5 \r\nQ 32.28125 48.484375 27.875 48.484375 \r\nQ 21.1875 48.484375 17.84375 46.4375 \r\nQ 14.5 44.390625 14.5 40.28125 \r\nQ 14.5 37.15625 16.890625 35.375 \r\nQ 19.28125 33.59375 26.515625 31.984375 \r\nL 29.59375 31.296875 \r\nQ 39.15625 29.25 43.1875 25.515625 \r\nQ 47.21875 21.78125 47.21875 15.09375 \r\nQ 47.21875 7.46875 41.1875 3.015625 \r\nQ 35.15625 -1.421875 24.609375 -1.421875 \r\nQ 20.21875 -1.421875 15.453125 -0.5625 \r\nQ 10.6875 0.296875 5.421875 2 \r\nL 5.421875 11.28125 \r\nQ 10.40625 8.6875 15.234375 7.390625 \r\nQ 20.0625 6.109375 24.8125 6.109375 \r\nQ 31.15625 6.109375 34.5625 8.28125 \r\nQ 37.984375 10.453125 37.984375 14.40625 \r\nQ 37.984375 18.0625 35.515625 20.015625 \r\nQ 33.0625 21.96875 24.703125 23.78125 \r\nL 21.578125 24.515625 \r\nQ 13.234375 26.265625 9.515625 29.90625 \r\nQ 5.8125 33.546875 5.8125 39.890625 \r\nQ 5.8125 47.609375 11.28125 51.796875 \r\nQ 16.75 56 26.8125 56 \r\nQ 31.78125 56 36.171875 55.265625 \r\nQ 40.578125 54.546875 44.28125 53.078125 \r\nz\r\n\" id=\"DejaVuSans-115\"/>\r\n     </defs>\r\n     <use xlink:href=\"#DejaVuSans-76\"/>\r\n     <use x=\"53.962891\" xlink:href=\"#DejaVuSans-111\"/>\r\n     <use x=\"115.144531\" xlink:href=\"#DejaVuSans-115\"/>\r\n     <use x=\"167.244141\" xlink:href=\"#DejaVuSans-115\"/>\r\n    </g>\r\n   </g>\r\n   <g id=\"legend_1\">\r\n    <g id=\"patch_7\">\r\n     <path d=\"M 43.465625 116.154489 \r\nL 98.740625 116.154489 \r\nQ 100.740625 116.154489 100.740625 114.154489 \r\nL 100.740625 85.798239 \r\nQ 100.740625 83.798239 98.740625 83.798239 \r\nL 43.465625 83.798239 \r\nQ 41.465625 83.798239 41.465625 85.798239 \r\nL 41.465625 114.154489 \r\nQ 41.465625 116.154489 43.465625 116.154489 \r\nz\r\n\" style=\"fill:#ffffff;opacity:0.8;stroke:#cccccc;stroke-linejoin:miter;\"/>\r\n    </g>\r\n    <g id=\"line2d_12\">\r\n     <path d=\"M 45.465625 91.896676 \r\nL 65.465625 91.896676 \r\n\" style=\"fill:none;stroke:#1f77b4;stroke-linecap:square;stroke-width:1.5;\"/>\r\n    </g>\r\n    <g id=\"line2d_13\"/>\r\n    <g id=\"text_11\">\r\n     <!-- train -->\r\n     <g transform=\"translate(73.465625 95.396676)scale(0.1 -0.1)\">\r\n      <defs>\r\n       <path d=\"M 18.3125 70.21875 \r\nL 18.3125 54.6875 \r\nL 36.8125 54.6875 \r\nL 36.8125 47.703125 \r\nL 18.3125 47.703125 \r\nL 18.3125 18.015625 \r\nQ 18.3125 11.328125 20.140625 9.421875 \r\nQ 21.96875 7.515625 27.59375 7.515625 \r\nL 36.8125 7.515625 \r\nL 36.8125 0 \r\nL 27.59375 0 \r\nQ 17.1875 0 13.234375 3.875 \r\nQ 9.28125 7.765625 9.28125 18.015625 \r\nL 9.28125 47.703125 \r\nL 2.6875 47.703125 \r\nL 2.6875 54.6875 \r\nL 9.28125 54.6875 \r\nL 9.28125 70.21875 \r\nz\r\n\" id=\"DejaVuSans-116\"/>\r\n       <path d=\"M 41.109375 46.296875 \r\nQ 39.59375 47.171875 37.8125 47.578125 \r\nQ 36.03125 48 33.890625 48 \r\nQ 26.265625 48 22.1875 43.046875 \r\nQ 18.109375 38.09375 18.109375 28.8125 \r\nL 18.109375 0 \r\nL 9.078125 0 \r\nL 9.078125 54.6875 \r\nL 18.109375 54.6875 \r\nL 18.109375 46.1875 \r\nQ 20.953125 51.171875 25.484375 53.578125 \r\nQ 30.03125 56 36.53125 56 \r\nQ 37.453125 56 38.578125 55.875 \r\nQ 39.703125 55.765625 41.0625 55.515625 \r\nz\r\n\" id=\"DejaVuSans-114\"/>\r\n       <path d=\"M 34.28125 27.484375 \r\nQ 23.390625 27.484375 19.1875 25 \r\nQ 14.984375 22.515625 14.984375 16.5 \r\nQ 14.984375 11.71875 18.140625 8.90625 \r\nQ 21.296875 6.109375 26.703125 6.109375 \r\nQ 34.1875 6.109375 38.703125 11.40625 \r\nQ 43.21875 16.703125 43.21875 25.484375 \r\nL 43.21875 27.484375 \r\nz\r\nM 52.203125 31.203125 \r\nL 52.203125 0 \r\nL 43.21875 0 \r\nL 43.21875 8.296875 \r\nQ 40.140625 3.328125 35.546875 0.953125 \r\nQ 30.953125 -1.421875 24.3125 -1.421875 \r\nQ 15.921875 -1.421875 10.953125 3.296875 \r\nQ 6 8.015625 6 15.921875 \r\nQ 6 25.140625 12.171875 29.828125 \r\nQ 18.359375 34.515625 30.609375 34.515625 \r\nL 43.21875 34.515625 \r\nL 43.21875 35.40625 \r\nQ 43.21875 41.609375 39.140625 45 \r\nQ 35.0625 48.390625 27.6875 48.390625 \r\nQ 23 48.390625 18.546875 47.265625 \r\nQ 14.109375 46.140625 10.015625 43.890625 \r\nL 10.015625 52.203125 \r\nQ 14.9375 54.109375 19.578125 55.046875 \r\nQ 24.21875 56 28.609375 56 \r\nQ 40.484375 56 46.34375 49.84375 \r\nQ 52.203125 43.703125 52.203125 31.203125 \r\nz\r\n\" id=\"DejaVuSans-97\"/>\r\n       <path d=\"M 9.421875 54.6875 \r\nL 18.40625 54.6875 \r\nL 18.40625 0 \r\nL 9.421875 0 \r\nz\r\nM 9.421875 75.984375 \r\nL 18.40625 75.984375 \r\nL 18.40625 64.59375 \r\nL 9.421875 64.59375 \r\nz\r\n\" id=\"DejaVuSans-105\"/>\r\n       <path d=\"M 54.890625 33.015625 \r\nL 54.890625 0 \r\nL 45.90625 0 \r\nL 45.90625 32.71875 \r\nQ 45.90625 40.484375 42.875 44.328125 \r\nQ 39.84375 48.1875 33.796875 48.1875 \r\nQ 26.515625 48.1875 22.3125 43.546875 \r\nQ 18.109375 38.921875 18.109375 30.90625 \r\nL 18.109375 0 \r\nL 9.078125 0 \r\nL 9.078125 54.6875 \r\nL 18.109375 54.6875 \r\nL 18.109375 46.1875 \r\nQ 21.34375 51.125 25.703125 53.5625 \r\nQ 30.078125 56 35.796875 56 \r\nQ 45.21875 56 50.046875 50.171875 \r\nQ 54.890625 44.34375 54.890625 33.015625 \r\nz\r\n\" id=\"DejaVuSans-110\"/>\r\n      </defs>\r\n      <use xlink:href=\"#DejaVuSans-116\"/>\r\n      <use x=\"39.208984\" xlink:href=\"#DejaVuSans-114\"/>\r\n      <use x=\"80.322266\" xlink:href=\"#DejaVuSans-97\"/>\r\n      <use x=\"141.601562\" xlink:href=\"#DejaVuSans-105\"/>\r\n      <use x=\"169.384766\" xlink:href=\"#DejaVuSans-110\"/>\r\n     </g>\r\n    </g>\r\n    <g id=\"line2d_14\">\r\n     <path d=\"M 45.465625 106.574801 \r\nL 65.465625 106.574801 \r\n\" style=\"fill:none;stroke:#ff7f0e;stroke-linecap:square;stroke-width:1.5;\"/>\r\n    </g>\r\n    <g id=\"line2d_15\"/>\r\n    <g id=\"text_12\">\r\n     <!-- test -->\r\n     <g transform=\"translate(73.465625 110.074801)scale(0.1 -0.1)\">\r\n      <defs>\r\n       <path d=\"M 56.203125 29.59375 \r\nL 56.203125 25.203125 \r\nL 14.890625 25.203125 \r\nQ 15.484375 15.921875 20.484375 11.0625 \r\nQ 25.484375 6.203125 34.421875 6.203125 \r\nQ 39.59375 6.203125 44.453125 7.46875 \r\nQ 49.3125 8.734375 54.109375 11.28125 \r\nL 54.109375 2.78125 \r\nQ 49.265625 0.734375 44.1875 -0.34375 \r\nQ 39.109375 -1.421875 33.890625 -1.421875 \r\nQ 20.796875 -1.421875 13.15625 6.1875 \r\nQ 5.515625 13.8125 5.515625 26.8125 \r\nQ 5.515625 40.234375 12.765625 48.109375 \r\nQ 20.015625 56 32.328125 56 \r\nQ 43.359375 56 49.78125 48.890625 \r\nQ 56.203125 41.796875 56.203125 29.59375 \r\nz\r\nM 47.21875 32.234375 \r\nQ 47.125 39.59375 43.09375 43.984375 \r\nQ 39.0625 48.390625 32.421875 48.390625 \r\nQ 24.90625 48.390625 20.390625 44.140625 \r\nQ 15.875 39.890625 15.1875 32.171875 \r\nz\r\n\" id=\"DejaVuSans-101\"/>\r\n      </defs>\r\n      <use xlink:href=\"#DejaVuSans-116\"/>\r\n      <use x=\"39.208984\" xlink:href=\"#DejaVuSans-101\"/>\r\n      <use x=\"100.732422\" xlink:href=\"#DejaVuSans-115\"/>\r\n      <use x=\"152.832031\" xlink:href=\"#DejaVuSans-116\"/>\r\n     </g>\r\n    </g>\r\n   </g>\r\n  </g>\r\n  <g id=\"axes_2\">\r\n   <g id=\"patch_8\">\r\n    <path d=\"M 36.465625 239.758125 \r\nL 371.265625 239.758125 \r\nL 371.265625 140.921761 \r\nL 36.465625 140.921761 \r\nz\r\n\" style=\"fill:#ffffff;\"/>\r\n   </g>\r\n   <g id=\"matplotlib.axis_3\">\r\n    <g id=\"xtick_7\">\r\n     <g id=\"line2d_16\">\r\n      <g>\r\n       <use style=\"stroke:#000000;stroke-width:0.8;\" x=\"51.683807\" xlink:href=\"#m2654ff3c56\" y=\"239.758125\"/>\r\n      </g>\r\n     </g>\r\n     <g id=\"text_13\">\r\n      <!-- 0 -->\r\n      <g transform=\"translate(48.502557 254.356562)scale(0.1 -0.1)\">\r\n       <use xlink:href=\"#DejaVuSans-48\"/>\r\n      </g>\r\n     </g>\r\n    </g>\r\n    <g id=\"xtick_8\">\r\n     <g id=\"line2d_17\">\r\n      <g>\r\n       <use style=\"stroke:#000000;stroke-width:0.8;\" x=\"113.17141\" xlink:href=\"#m2654ff3c56\" y=\"239.758125\"/>\r\n      </g>\r\n     </g>\r\n     <g id=\"text_14\">\r\n      <!-- 20 -->\r\n      <g transform=\"translate(106.80891 254.356562)scale(0.1 -0.1)\">\r\n       <use xlink:href=\"#DejaVuSans-50\"/>\r\n       <use x=\"63.623047\" xlink:href=\"#DejaVuSans-48\"/>\r\n      </g>\r\n     </g>\r\n    </g>\r\n    <g id=\"xtick_9\">\r\n     <g id=\"line2d_18\">\r\n      <g>\r\n       <use style=\"stroke:#000000;stroke-width:0.8;\" x=\"174.659013\" xlink:href=\"#m2654ff3c56\" y=\"239.758125\"/>\r\n      </g>\r\n     </g>\r\n     <g id=\"text_15\">\r\n      <!-- 40 -->\r\n      <g transform=\"translate(168.296513 254.356562)scale(0.1 -0.1)\">\r\n       <use xlink:href=\"#DejaVuSans-52\"/>\r\n       <use x=\"63.623047\" xlink:href=\"#DejaVuSans-48\"/>\r\n      </g>\r\n     </g>\r\n    </g>\r\n    <g id=\"xtick_10\">\r\n     <g id=\"line2d_19\">\r\n      <g>\r\n       <use style=\"stroke:#000000;stroke-width:0.8;\" x=\"236.146617\" xlink:href=\"#m2654ff3c56\" y=\"239.758125\"/>\r\n      </g>\r\n     </g>\r\n     <g id=\"text_16\">\r\n      <!-- 60 -->\r\n      <g transform=\"translate(229.784117 254.356562)scale(0.1 -0.1)\">\r\n       <use xlink:href=\"#DejaVuSans-54\"/>\r\n       <use x=\"63.623047\" xlink:href=\"#DejaVuSans-48\"/>\r\n      </g>\r\n     </g>\r\n    </g>\r\n    <g id=\"xtick_11\">\r\n     <g id=\"line2d_20\">\r\n      <g>\r\n       <use style=\"stroke:#000000;stroke-width:0.8;\" x=\"297.63422\" xlink:href=\"#m2654ff3c56\" y=\"239.758125\"/>\r\n      </g>\r\n     </g>\r\n     <g id=\"text_17\">\r\n      <!-- 80 -->\r\n      <g transform=\"translate(291.27172 254.356562)scale(0.1 -0.1)\">\r\n       <use xlink:href=\"#DejaVuSans-56\"/>\r\n       <use x=\"63.623047\" xlink:href=\"#DejaVuSans-48\"/>\r\n      </g>\r\n     </g>\r\n    </g>\r\n    <g id=\"xtick_12\">\r\n     <g id=\"line2d_21\">\r\n      <g>\r\n       <use style=\"stroke:#000000;stroke-width:0.8;\" x=\"359.121823\" xlink:href=\"#m2654ff3c56\" y=\"239.758125\"/>\r\n      </g>\r\n     </g>\r\n     <g id=\"text_18\">\r\n      <!-- 100 -->\r\n      <g transform=\"translate(349.578073 254.356562)scale(0.1 -0.1)\">\r\n       <use xlink:href=\"#DejaVuSans-49\"/>\r\n       <use x=\"63.623047\" xlink:href=\"#DejaVuSans-48\"/>\r\n       <use x=\"127.246094\" xlink:href=\"#DejaVuSans-48\"/>\r\n      </g>\r\n     </g>\r\n    </g>\r\n   </g>\r\n   <g id=\"matplotlib.axis_4\">\r\n    <g id=\"ytick_4\">\r\n     <g id=\"line2d_22\">\r\n      <g>\r\n       <use style=\"stroke:#000000;stroke-width:0.8;\" x=\"36.465625\" xlink:href=\"#mb6f1a217a7\" y=\"218.878587\"/>\r\n      </g>\r\n     </g>\r\n     <g id=\"text_19\">\r\n      <!-- 0.60 -->\r\n      <g transform=\"translate(7.2 222.677806)scale(0.1 -0.1)\">\r\n       <use xlink:href=\"#DejaVuSans-48\"/>\r\n       <use x=\"63.623047\" xlink:href=\"#DejaVuSans-46\"/>\r\n       <use x=\"95.410156\" xlink:href=\"#DejaVuSans-54\"/>\r\n       <use x=\"159.033203\" xlink:href=\"#DejaVuSans-48\"/>\r\n      </g>\r\n     </g>\r\n    </g>\r\n    <g id=\"ytick_5\">\r\n     <g id=\"line2d_23\">\r\n      <g>\r\n       <use style=\"stroke:#000000;stroke-width:0.8;\" x=\"36.465625\" xlink:href=\"#mb6f1a217a7\" y=\"192.477368\"/>\r\n      </g>\r\n     </g>\r\n     <g id=\"text_20\">\r\n      <!-- 0.65 -->\r\n      <g transform=\"translate(7.2 196.276587)scale(0.1 -0.1)\">\r\n       <defs>\r\n        <path d=\"M 10.796875 72.90625 \r\nL 49.515625 72.90625 \r\nL 49.515625 64.59375 \r\nL 19.828125 64.59375 \r\nL 19.828125 46.734375 \r\nQ 21.96875 47.46875 24.109375 47.828125 \r\nQ 26.265625 48.1875 28.421875 48.1875 \r\nQ 40.625 48.1875 47.75 41.5 \r\nQ 54.890625 34.8125 54.890625 23.390625 \r\nQ 54.890625 11.625 47.5625 5.09375 \r\nQ 40.234375 -1.421875 26.90625 -1.421875 \r\nQ 22.3125 -1.421875 17.546875 -0.640625 \r\nQ 12.796875 0.140625 7.71875 1.703125 \r\nL 7.71875 11.625 \r\nQ 12.109375 9.234375 16.796875 8.0625 \r\nQ 21.484375 6.890625 26.703125 6.890625 \r\nQ 35.15625 6.890625 40.078125 11.328125 \r\nQ 45.015625 15.765625 45.015625 23.390625 \r\nQ 45.015625 31 40.078125 35.4375 \r\nQ 35.15625 39.890625 26.703125 39.890625 \r\nQ 22.75 39.890625 18.8125 39.015625 \r\nQ 14.890625 38.140625 10.796875 36.28125 \r\nz\r\n\" id=\"DejaVuSans-53\"/>\r\n       </defs>\r\n       <use xlink:href=\"#DejaVuSans-48\"/>\r\n       <use x=\"63.623047\" xlink:href=\"#DejaVuSans-46\"/>\r\n       <use x=\"95.410156\" xlink:href=\"#DejaVuSans-54\"/>\r\n       <use x=\"159.033203\" xlink:href=\"#DejaVuSans-53\"/>\r\n      </g>\r\n     </g>\r\n    </g>\r\n    <g id=\"ytick_6\">\r\n     <g id=\"line2d_24\">\r\n      <g>\r\n       <use style=\"stroke:#000000;stroke-width:0.8;\" x=\"36.465625\" xlink:href=\"#mb6f1a217a7\" y=\"166.076149\"/>\r\n      </g>\r\n     </g>\r\n     <g id=\"text_21\">\r\n      <!-- 0.70 -->\r\n      <g transform=\"translate(7.2 169.875367)scale(0.1 -0.1)\">\r\n       <defs>\r\n        <path d=\"M 8.203125 72.90625 \r\nL 55.078125 72.90625 \r\nL 55.078125 68.703125 \r\nL 28.609375 0 \r\nL 18.3125 0 \r\nL 43.21875 64.59375 \r\nL 8.203125 64.59375 \r\nz\r\n\" id=\"DejaVuSans-55\"/>\r\n       </defs>\r\n       <use xlink:href=\"#DejaVuSans-48\"/>\r\n       <use x=\"63.623047\" xlink:href=\"#DejaVuSans-46\"/>\r\n       <use x=\"95.410156\" xlink:href=\"#DejaVuSans-55\"/>\r\n       <use x=\"159.033203\" xlink:href=\"#DejaVuSans-48\"/>\r\n      </g>\r\n     </g>\r\n    </g>\r\n   </g>\r\n   <g id=\"line2d_25\">\r\n    <path clip-path=\"url(#pc2ff4c5262)\" d=\"M 51.683807 156.893112 \r\nL 54.758187 166.076155 \r\nL 57.832567 154.597367 \r\nL 60.906947 161.484633 \r\nL 63.981327 150.005845 \r\nL 67.055708 156.893112 \r\nL 70.130088 163.780378 \r\nL 73.204468 150.005845 \r\nL 76.278848 156.893112 \r\nL 79.353228 159.188888 \r\nL 82.427608 145.414323 \r\nL 85.501989 152.30159 \r\nL 88.576369 156.893112 \r\nL 91.650749 159.188888 \r\nL 94.725129 154.597367 \r\nL 97.799509 152.30159 \r\nL 100.873889 161.484633 \r\nL 103.94827 156.893112 \r\nL 107.02265 159.188888 \r\nL 110.09703 156.893112 \r\nL 113.17141 152.30159 \r\nL 116.24579 161.484633 \r\nL 119.32017 163.780378 \r\nL 122.394551 156.893112 \r\nL 125.468931 156.893112 \r\nL 128.543311 163.780378 \r\nL 131.617691 159.188888 \r\nL 134.692071 166.076155 \r\nL 137.766451 156.893112 \r\nL 140.840832 159.188888 \r\nL 143.915212 156.893112 \r\nL 146.989592 163.780378 \r\nL 150.063972 147.710068 \r\nL 153.138352 166.076155 \r\nL 156.212732 152.30159 \r\nL 159.287113 172.963422 \r\nL 162.361493 161.484633 \r\nL 165.435873 159.188888 \r\nL 168.510253 166.076155 \r\nL 171.584633 161.484633 \r\nL 174.659013 163.780378 \r\nL 177.733394 163.780378 \r\nL 180.807774 159.188888 \r\nL 183.882154 161.484633 \r\nL 186.956534 163.780378 \r\nL 190.030914 156.893112 \r\nL 193.105294 163.780378 \r\nL 196.179675 163.780378 \r\nL 199.254055 170.667676 \r\nL 202.328435 154.597367 \r\nL 205.402815 168.3719 \r\nL 208.477195 161.484633 \r\nL 211.551575 159.188888 \r\nL 214.625956 159.188888 \r\nL 217.700336 170.667676 \r\nL 220.774716 159.188888 \r\nL 223.849096 150.005845 \r\nL 226.923476 156.893112 \r\nL 229.997856 163.780378 \r\nL 233.072237 161.484633 \r\nL 236.146617 166.076155 \r\nL 239.220997 159.188888 \r\nL 242.295377 156.893112 \r\nL 245.369757 163.780378 \r\nL 248.444137 152.30159 \r\nL 251.518518 156.893112 \r\nL 254.592898 159.188888 \r\nL 257.667278 159.188888 \r\nL 260.741658 159.188888 \r\nL 263.816038 163.780378 \r\nL 266.890418 159.188888 \r\nL 269.964799 152.30159 \r\nL 273.039179 163.780378 \r\nL 276.113559 161.484633 \r\nL 279.187939 156.893112 \r\nL 282.262319 161.484633 \r\nL 285.336699 161.484633 \r\nL 288.41108 159.188888 \r\nL 291.48546 163.780378 \r\nL 294.55984 159.188888 \r\nL 297.63422 163.780378 \r\nL 300.7086 156.893112 \r\nL 303.78298 163.780378 \r\nL 306.857361 152.30159 \r\nL 309.931741 161.484633 \r\nL 313.006121 150.005845 \r\nL 316.080501 150.005845 \r\nL 319.154881 154.597367 \r\nL 322.229261 154.597367 \r\nL 325.303642 166.076155 \r\nL 328.378022 161.484633 \r\nL 331.452402 150.005845 \r\nL 334.526782 156.893112 \r\nL 337.601162 161.484633 \r\nL 340.675542 154.597367 \r\nL 343.749923 154.597367 \r\nL 346.824303 156.893112 \r\nL 349.898683 161.484633 \r\nL 352.973063 156.893112 \r\nL 356.047443 159.188888 \r\n\" style=\"fill:none;stroke:#1f77b4;stroke-linecap:square;stroke-width:1.5;\"/>\r\n   </g>\r\n   <g id=\"line2d_26\">\r\n    <path clip-path=\"url(#pc2ff4c5262)\" d=\"M 51.683807 198.850068 \r\nL 54.758187 189.746211 \r\nL 57.832567 189.746211 \r\nL 60.906947 189.746211 \r\nL 63.981327 189.746211 \r\nL 67.055708 189.746211 \r\nL 70.130088 180.642353 \r\nL 73.204468 198.850068 \r\nL 76.278848 189.746211 \r\nL 79.353228 189.746211 \r\nL 82.427608 189.746211 \r\nL 85.501989 189.746211 \r\nL 88.576369 198.850068 \r\nL 91.650749 189.746211 \r\nL 94.725129 189.746211 \r\nL 97.799509 198.850068 \r\nL 100.873889 198.850068 \r\nL 103.94827 189.746211 \r\nL 107.02265 189.746211 \r\nL 110.09703 189.746211 \r\nL 113.17141 198.850068 \r\nL 116.24579 198.850068 \r\nL 119.32017 189.746211 \r\nL 122.394551 189.746211 \r\nL 125.468931 207.953958 \r\nL 128.543311 217.057816 \r\nL 131.617691 217.057816 \r\nL 134.692071 198.850068 \r\nL 137.766451 207.953958 \r\nL 140.840832 207.953958 \r\nL 143.915212 217.057816 \r\nL 146.989592 189.746211 \r\nL 150.063972 217.057816 \r\nL 153.138352 207.953958 \r\nL 156.212732 235.265563 \r\nL 159.287113 217.057816 \r\nL 162.361493 217.057816 \r\nL 165.435873 217.057816 \r\nL 168.510253 217.057816 \r\nL 171.584633 217.057816 \r\nL 174.659013 217.057816 \r\nL 177.733394 207.953958 \r\nL 180.807774 217.057816 \r\nL 183.882154 217.057816 \r\nL 186.956534 207.953958 \r\nL 190.030914 217.057816 \r\nL 193.105294 226.161674 \r\nL 196.179675 226.161674 \r\nL 199.254055 207.953958 \r\nL 202.328435 226.161674 \r\nL 205.402815 217.057816 \r\nL 208.477195 226.161674 \r\nL 211.551575 217.057816 \r\nL 214.625956 226.161674 \r\nL 217.700336 198.850068 \r\nL 220.774716 189.746211 \r\nL 223.849096 217.057816 \r\nL 226.923476 226.161674 \r\nL 229.997856 226.161674 \r\nL 233.072237 217.057816 \r\nL 236.146617 217.057816 \r\nL 239.220997 217.057816 \r\nL 242.295377 226.161674 \r\nL 245.369757 207.953958 \r\nL 248.444137 217.057816 \r\nL 251.518518 217.057816 \r\nL 254.592898 207.953958 \r\nL 257.667278 217.057816 \r\nL 260.741658 226.161674 \r\nL 263.816038 217.057816 \r\nL 266.890418 207.953958 \r\nL 269.964799 226.161674 \r\nL 273.039179 217.057816 \r\nL 276.113559 217.057816 \r\nL 279.187939 226.161674 \r\nL 282.262319 226.161674 \r\nL 285.336699 226.161674 \r\nL 288.41108 226.161674 \r\nL 291.48546 226.161674 \r\nL 294.55984 226.161674 \r\nL 297.63422 207.953958 \r\nL 300.7086 226.161674 \r\nL 303.78298 207.953958 \r\nL 306.857361 207.953958 \r\nL 309.931741 198.850068 \r\nL 313.006121 198.850068 \r\nL 316.080501 226.161674 \r\nL 319.154881 207.953958 \r\nL 322.229261 226.161674 \r\nL 325.303642 207.953958 \r\nL 328.378022 198.850068 \r\nL 331.452402 207.953958 \r\nL 334.526782 207.953958 \r\nL 337.601162 207.953958 \r\nL 340.675542 207.953958 \r\nL 343.749923 207.953958 \r\nL 346.824303 207.953958 \r\nL 349.898683 207.953958 \r\nL 352.973063 226.161674 \r\nL 356.047443 217.057816 \r\n\" style=\"fill:none;stroke:#ff7f0e;stroke-linecap:square;stroke-width:1.5;\"/>\r\n   </g>\r\n   <g id=\"patch_9\">\r\n    <path d=\"M 36.465625 239.758125 \r\nL 36.465625 140.921761 \r\n\" style=\"fill:none;stroke:#000000;stroke-linecap:square;stroke-linejoin:miter;stroke-width:0.8;\"/>\r\n   </g>\r\n   <g id=\"patch_10\">\r\n    <path d=\"M 371.265625 239.758125 \r\nL 371.265625 140.921761 \r\n\" style=\"fill:none;stroke:#000000;stroke-linecap:square;stroke-linejoin:miter;stroke-width:0.8;\"/>\r\n   </g>\r\n   <g id=\"patch_11\">\r\n    <path d=\"M 36.465625 239.758125 \r\nL 371.265625 239.758125 \r\n\" style=\"fill:none;stroke:#000000;stroke-linecap:square;stroke-linejoin:miter;stroke-width:0.8;\"/>\r\n   </g>\r\n   <g id=\"patch_12\">\r\n    <path d=\"M 36.465625 140.921761 \r\nL 371.265625 140.921761 \r\n\" style=\"fill:none;stroke:#000000;stroke-linecap:square;stroke-linejoin:miter;stroke-width:0.8;\"/>\r\n   </g>\r\n   <g id=\"text_22\">\r\n    <!-- Accuracy -->\r\n    <g transform=\"translate(176.471875 134.921761)scale(0.12 -0.12)\">\r\n     <defs>\r\n      <path d=\"M 34.1875 63.1875 \r\nL 20.796875 26.90625 \r\nL 47.609375 26.90625 \r\nz\r\nM 28.609375 72.90625 \r\nL 39.796875 72.90625 \r\nL 67.578125 0 \r\nL 57.328125 0 \r\nL 50.6875 18.703125 \r\nL 17.828125 18.703125 \r\nL 11.1875 0 \r\nL 0.78125 0 \r\nz\r\n\" id=\"DejaVuSans-65\"/>\r\n      <path d=\"M 48.78125 52.59375 \r\nL 48.78125 44.1875 \r\nQ 44.96875 46.296875 41.140625 47.34375 \r\nQ 37.3125 48.390625 33.40625 48.390625 \r\nQ 24.65625 48.390625 19.8125 42.84375 \r\nQ 14.984375 37.3125 14.984375 27.296875 \r\nQ 14.984375 17.28125 19.8125 11.734375 \r\nQ 24.65625 6.203125 33.40625 6.203125 \r\nQ 37.3125 6.203125 41.140625 7.25 \r\nQ 44.96875 8.296875 48.78125 10.40625 \r\nL 48.78125 2.09375 \r\nQ 45.015625 0.34375 40.984375 -0.53125 \r\nQ 36.96875 -1.421875 32.421875 -1.421875 \r\nQ 20.0625 -1.421875 12.78125 6.34375 \r\nQ 5.515625 14.109375 5.515625 27.296875 \r\nQ 5.515625 40.671875 12.859375 48.328125 \r\nQ 20.21875 56 33.015625 56 \r\nQ 37.15625 56 41.109375 55.140625 \r\nQ 45.0625 54.296875 48.78125 52.59375 \r\nz\r\n\" id=\"DejaVuSans-99\"/>\r\n      <path d=\"M 8.5 21.578125 \r\nL 8.5 54.6875 \r\nL 17.484375 54.6875 \r\nL 17.484375 21.921875 \r\nQ 17.484375 14.15625 20.5 10.265625 \r\nQ 23.53125 6.390625 29.59375 6.390625 \r\nQ 36.859375 6.390625 41.078125 11.03125 \r\nQ 45.3125 15.671875 45.3125 23.6875 \r\nL 45.3125 54.6875 \r\nL 54.296875 54.6875 \r\nL 54.296875 0 \r\nL 45.3125 0 \r\nL 45.3125 8.40625 \r\nQ 42.046875 3.421875 37.71875 1 \r\nQ 33.40625 -1.421875 27.6875 -1.421875 \r\nQ 18.265625 -1.421875 13.375 4.4375 \r\nQ 8.5 10.296875 8.5 21.578125 \r\nz\r\nM 31.109375 56 \r\nz\r\n\" id=\"DejaVuSans-117\"/>\r\n      <path d=\"M 32.171875 -5.078125 \r\nQ 28.375 -14.84375 24.75 -17.8125 \r\nQ 21.140625 -20.796875 15.09375 -20.796875 \r\nL 7.90625 -20.796875 \r\nL 7.90625 -13.28125 \r\nL 13.1875 -13.28125 \r\nQ 16.890625 -13.28125 18.9375 -11.515625 \r\nQ 21 -9.765625 23.484375 -3.21875 \r\nL 25.09375 0.875 \r\nL 2.984375 54.6875 \r\nL 12.5 54.6875 \r\nL 29.59375 11.921875 \r\nL 46.6875 54.6875 \r\nL 56.203125 54.6875 \r\nz\r\n\" id=\"DejaVuSans-121\"/>\r\n     </defs>\r\n     <use xlink:href=\"#DejaVuSans-65\"/>\r\n     <use x=\"66.658203\" xlink:href=\"#DejaVuSans-99\"/>\r\n     <use x=\"121.638672\" xlink:href=\"#DejaVuSans-99\"/>\r\n     <use x=\"176.619141\" xlink:href=\"#DejaVuSans-117\"/>\r\n     <use x=\"239.998047\" xlink:href=\"#DejaVuSans-114\"/>\r\n     <use x=\"281.111328\" xlink:href=\"#DejaVuSans-97\"/>\r\n     <use x=\"342.390625\" xlink:href=\"#DejaVuSans-99\"/>\r\n     <use x=\"397.371094\" xlink:href=\"#DejaVuSans-121\"/>\r\n    </g>\r\n   </g>\r\n   <g id=\"legend_2\">\r\n    <g id=\"patch_13\">\r\n     <path d=\"M 43.465625 234.758125 \r\nL 98.740625 234.758125 \r\nQ 100.740625 234.758125 100.740625 232.758125 \r\nL 100.740625 204.401875 \r\nQ 100.740625 202.401875 98.740625 202.401875 \r\nL 43.465625 202.401875 \r\nQ 41.465625 202.401875 41.465625 204.401875 \r\nL 41.465625 232.758125 \r\nQ 41.465625 234.758125 43.465625 234.758125 \r\nz\r\n\" style=\"fill:#ffffff;opacity:0.8;stroke:#cccccc;stroke-linejoin:miter;\"/>\r\n    </g>\r\n    <g id=\"line2d_27\">\r\n     <path d=\"M 45.465625 210.500312 \r\nL 65.465625 210.500312 \r\n\" style=\"fill:none;stroke:#1f77b4;stroke-linecap:square;stroke-width:1.5;\"/>\r\n    </g>\r\n    <g id=\"line2d_28\"/>\r\n    <g id=\"text_23\">\r\n     <!-- train -->\r\n     <g transform=\"translate(73.465625 214.000312)scale(0.1 -0.1)\">\r\n      <use xlink:href=\"#DejaVuSans-116\"/>\r\n      <use x=\"39.208984\" xlink:href=\"#DejaVuSans-114\"/>\r\n      <use x=\"80.322266\" xlink:href=\"#DejaVuSans-97\"/>\r\n      <use x=\"141.601562\" xlink:href=\"#DejaVuSans-105\"/>\r\n      <use x=\"169.384766\" xlink:href=\"#DejaVuSans-110\"/>\r\n     </g>\r\n    </g>\r\n    <g id=\"line2d_29\">\r\n     <path d=\"M 45.465625 225.178437 \r\nL 65.465625 225.178437 \r\n\" style=\"fill:none;stroke:#ff7f0e;stroke-linecap:square;stroke-width:1.5;\"/>\r\n    </g>\r\n    <g id=\"line2d_30\"/>\r\n    <g id=\"text_24\">\r\n     <!-- test -->\r\n     <g transform=\"translate(73.465625 228.678437)scale(0.1 -0.1)\">\r\n      <use xlink:href=\"#DejaVuSans-116\"/>\r\n      <use x=\"39.208984\" xlink:href=\"#DejaVuSans-101\"/>\r\n      <use x=\"100.732422\" xlink:href=\"#DejaVuSans-115\"/>\r\n      <use x=\"152.832031\" xlink:href=\"#DejaVuSans-116\"/>\r\n     </g>\r\n    </g>\r\n   </g>\r\n  </g>\r\n </g>\r\n <defs>\r\n  <clipPath id=\"p009993cfb2\">\r\n   <rect height=\"98.836364\" width=\"334.8\" x=\"36.465625\" y=\"22.318125\"/>\r\n  </clipPath>\r\n  <clipPath id=\"pc2ff4c5262\">\r\n   <rect height=\"98.836364\" width=\"334.8\" x=\"36.465625\" y=\"140.921761\"/>\r\n  </clipPath>\r\n </defs>\r\n</svg>\r\n",
      "image/png": "[encoded data removed]"
     },
     "metadata": {
      "needs_background": "light"
     }
    }
   ],
   "source": [
    "history = model.fit(X_train, y_train, batch_size=64, validation_data=(X_test, y_test), epochs=100, verbose=0)\n",
    "\n",
    "# evaluate the model\n",
    "_, train_acc = model.evaluate(X_train, y_train, verbose=0)\n",
    "_, test_acc = model.evaluate(X_test, y_test, verbose=0)\n",
    "print('Train: %.3f, Test: %.3f' % (train_acc, test_acc))\n",
    "# plot loss during training\n",
    "pyplot.subplot(211)\n",
    "pyplot.title('Loss')\n",
    "pyplot.plot(history.history['loss'], label='train')\n",
    "pyplot.plot(history.history['val_loss'], label='test')\n",
    "pyplot.legend()\n",
    "# plot accuracy during training\n",
    "pyplot.subplot(212)\n",
    "pyplot.title('Accuracy')\n",
    "pyplot.plot(history.history['accuracy'], label='train')\n",
    "pyplot.plot(history.history['val_accuracy'], label='test')\n",
    "pyplot.legend()\n",
    "pyplot.show()"
   ]
  },
  {
   "cell_type": "code",
   "execution_count": 49,
   "metadata": {},
   "outputs": [
    {
     "output_type": "stream",
     "name": "stdout",
     "text": [
      "INFO:tensorflow:Assets written to: models/Duel1.2\\assets\n"
     ]
    }
   ],
   "source": [
    "model.save('models/Duel1.2')"
   ]
  }
 ],
 "metadata": {
  "kernelspec": {
   "name": "python3",
   "display_name": "Python 3.9.0 64-bit"
  },
  "language_info": {
   "codemirror_mode": {
    "name": "ipython",
    "version": 3
   },
   "file_extension": ".py",
   "mimetype": "text/x-python",
   "name": "python",
   "nbconvert_exporter": "python",
   "pygments_lexer": "ipython3",
   "version": "3.9.0"
  },
  "interpreter": {
   "hash": "f0fa724eec0ec444dea2e62336f807faf0d4abce81a73d41f2e810ca2583b8da"
  }
 },
 "nbformat": 4,
 "nbformat_minor": 5
}