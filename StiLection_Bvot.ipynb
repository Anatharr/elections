{
 "cells": [
  {
   "cell_type": "code",
   "execution_count": 14,
   "id": "8e9f8d98",
   "metadata": {},
   "outputs": [
    {
     "name": "stderr",
     "output_type": "stream",
     "text": [
      "/home/jaman/.local/lib/python3.8/site-packages/IPython/core/interactiveshell.py:3165: DtypeWarning: Columns (1,4) have mixed types. Specify dtype option on import or set low_memory=False.\n",
      "  has_raised = await self.run_ast_nodes(code_ast.body, cell_name,\n"
     ]
    }
   ],
   "source": [
    "import pandas as pd\n",
    "\n",
    "original_data = pd.read_csv (r'dataset/DP15_Bvot_T1T2.txt', header=0, sep=';')\n",
    "original_data.to_csv (r'dataset/DP15_Bvot_T1T2.csv')\n",
    "\n",
    "df = original_data.copy()\n"
   ]
  },
  {
   "cell_type": "code",
   "execution_count": 15,
   "id": "5e6fe167",
   "metadata": {},
   "outputs": [],
   "source": [
    "def getDataFromDep(data, dep, tour=None):\n",
    "    if tour is not None:\n",
    "        data = data[data.NUMTOUR == tour]\n",
    "    return data[data['CODDPT'] == str(dep)]\n",
    "    \n",
    "\n",
    "\n",
    "def saveData(data, loc):\n",
    "    # save cher_data as excel\n",
    "    writer = pd.ExcelWriter(loc)\n",
    "    \n",
    "    # write dataframe to excel\n",
    "    data.to_excel(writer)\n",
    "\n",
    "    # save the excel\n",
    "    writer.save()\n"
   ]
  },
  {
   "cell_type": "code",
   "execution_count": 16,
   "id": "5a58c4d3",
   "metadata": {},
   "outputs": [
    {
     "name": "stdout",
     "output_type": "stream",
     "text": [
      "<class 'pandas.core.frame.DataFrame'>\n",
      "Int64Index: 1820 entries, 42581 to 44400\n",
      "Data columns (total 14 columns):\n",
      "NUMTOUR       1820 non-null int64\n",
      "CODDPT        1820 non-null object\n",
      "CODSUBCOM     1820 non-null int64\n",
      "LIBSUBCOM     1820 non-null object\n",
      "CODBURVOT     1820 non-null object\n",
      "CODCAN        1820 non-null int64\n",
      "LIBCAN        1820 non-null object\n",
      "NBRINS        1820 non-null int64\n",
      "NBRVOT        1820 non-null int64\n",
      "NBREXP        1820 non-null int64\n",
      "NUMDEPCAND    1820 non-null int64\n",
      "LIBLISEXT     1820 non-null object\n",
      "CODNUA        1820 non-null object\n",
      "NBRVOIX       1820 non-null int64\n",
      "dtypes: int64(8), object(6)\n",
      "memory usage: 213.3+ KB\n"
     ]
    }
   ],
   "source": [
    "cher_data = getDataFromDep(df, 18, tour=1)\n",
    "saveData(cher_data, 'dataset/dep_15_Bvote.xlsx')\n",
    "cher_data.info()"
   ]
  },
  {
   "cell_type": "code",
   "execution_count": 17,
   "id": "72446cba",
   "metadata": {},
   "outputs": [
    {
     "data": {
      "text/html": [
       "<div>\n",
       "<style scoped>\n",
       "    .dataframe tbody tr th:only-of-type {\n",
       "        vertical-align: middle;\n",
       "    }\n",
       "\n",
       "    .dataframe tbody tr th {\n",
       "        vertical-align: top;\n",
       "    }\n",
       "\n",
       "    .dataframe thead th {\n",
       "        text-align: right;\n",
       "    }\n",
       "</style>\n",
       "<table border=\"1\" class=\"dataframe\">\n",
       "  <thead>\n",
       "    <tr style=\"text-align: right;\">\n",
       "      <th></th>\n",
       "      <th>NUMTOUR</th>\n",
       "      <th>CODDPT</th>\n",
       "      <th>CODSUBCOM</th>\n",
       "      <th>LIBSUBCOM</th>\n",
       "      <th>CODBURVOT</th>\n",
       "      <th>CODCAN</th>\n",
       "      <th>LIBCAN</th>\n",
       "      <th>NBRINS</th>\n",
       "      <th>NBRVOT</th>\n",
       "      <th>NBREXP</th>\n",
       "      <th>NUMDEPCAND</th>\n",
       "      <th>LIBLISEXT</th>\n",
       "      <th>CODNUA</th>\n",
       "      <th>NBRVOIX</th>\n",
       "    </tr>\n",
       "  </thead>\n",
       "  <tbody>\n",
       "    <tr>\n",
       "      <th>42581</th>\n",
       "      <td>1</td>\n",
       "      <td>18</td>\n",
       "      <td>1</td>\n",
       "      <td>Achères</td>\n",
       "      <td>0001</td>\n",
       "      <td>15</td>\n",
       "      <td>Saint-Martin-d'Auxigny</td>\n",
       "      <td>300</td>\n",
       "      <td>148</td>\n",
       "      <td>145</td>\n",
       "      <td>27</td>\n",
       "      <td>M. LE NÉNAN François et Mme RICOU Gaelle</td>\n",
       "      <td>BC-FN</td>\n",
       "      <td>43</td>\n",
       "    </tr>\n",
       "    <tr>\n",
       "      <th>42582</th>\n",
       "      <td>1</td>\n",
       "      <td>18</td>\n",
       "      <td>1</td>\n",
       "      <td>Achères</td>\n",
       "      <td>0001</td>\n",
       "      <td>15</td>\n",
       "      <td>Saint-Martin-d'Auxigny</td>\n",
       "      <td>300</td>\n",
       "      <td>148</td>\n",
       "      <td>145</td>\n",
       "      <td>28</td>\n",
       "      <td>M. CHOLLET Fabrice et Mme DAMADE Beatrice</td>\n",
       "      <td>BC-UD</td>\n",
       "      <td>36</td>\n",
       "    </tr>\n",
       "    <tr>\n",
       "      <th>42583</th>\n",
       "      <td>1</td>\n",
       "      <td>18</td>\n",
       "      <td>1</td>\n",
       "      <td>Achères</td>\n",
       "      <td>0001</td>\n",
       "      <td>15</td>\n",
       "      <td>Saint-Martin-d'Auxigny</td>\n",
       "      <td>300</td>\n",
       "      <td>148</td>\n",
       "      <td>145</td>\n",
       "      <td>29</td>\n",
       "      <td>Mme BLANC Ariane et M. ROUSSEAU Bernard</td>\n",
       "      <td>BC-SOC</td>\n",
       "      <td>51</td>\n",
       "    </tr>\n",
       "    <tr>\n",
       "      <th>42584</th>\n",
       "      <td>1</td>\n",
       "      <td>18</td>\n",
       "      <td>1</td>\n",
       "      <td>Achères</td>\n",
       "      <td>0001</td>\n",
       "      <td>15</td>\n",
       "      <td>Saint-Martin-d'Auxigny</td>\n",
       "      <td>300</td>\n",
       "      <td>148</td>\n",
       "      <td>145</td>\n",
       "      <td>37</td>\n",
       "      <td>M. GODARD Denys et Mme VIGNOL Marie-Bernadette</td>\n",
       "      <td>BC-FG</td>\n",
       "      <td>15</td>\n",
       "    </tr>\n",
       "    <tr>\n",
       "      <th>42585</th>\n",
       "      <td>1</td>\n",
       "      <td>18</td>\n",
       "      <td>2</td>\n",
       "      <td>Ainay-le-Vieil</td>\n",
       "      <td>0001</td>\n",
       "      <td>8</td>\n",
       "      <td>Châteaumeillant</td>\n",
       "      <td>155</td>\n",
       "      <td>85</td>\n",
       "      <td>79</td>\n",
       "      <td>12</td>\n",
       "      <td>M. LE MINTIER Erwan et Mme ROBIN Elodie</td>\n",
       "      <td>BC-FN</td>\n",
       "      <td>24</td>\n",
       "    </tr>\n",
       "  </tbody>\n",
       "</table>\n",
       "</div>"
      ],
      "text/plain": [
       "       NUMTOUR CODDPT  CODSUBCOM       LIBSUBCOM CODBURVOT  CODCAN  \\\n",
       "42581        1     18          1         Achères      0001      15   \n",
       "42582        1     18          1         Achères      0001      15   \n",
       "42583        1     18          1         Achères      0001      15   \n",
       "42584        1     18          1         Achères      0001      15   \n",
       "42585        1     18          2  Ainay-le-Vieil      0001       8   \n",
       "\n",
       "                       LIBCAN  NBRINS  NBRVOT  NBREXP  NUMDEPCAND  \\\n",
       "42581  Saint-Martin-d'Auxigny     300     148     145          27   \n",
       "42582  Saint-Martin-d'Auxigny     300     148     145          28   \n",
       "42583  Saint-Martin-d'Auxigny     300     148     145          29   \n",
       "42584  Saint-Martin-d'Auxigny     300     148     145          37   \n",
       "42585         Châteaumeillant     155      85      79          12   \n",
       "\n",
       "                                            LIBLISEXT  CODNUA  NBRVOIX  \n",
       "42581        M. LE NÉNAN François et Mme RICOU Gaelle   BC-FN       43  \n",
       "42582       M. CHOLLET Fabrice et Mme DAMADE Beatrice   BC-UD       36  \n",
       "42583         Mme BLANC Ariane et M. ROUSSEAU Bernard  BC-SOC       51  \n",
       "42584  M. GODARD Denys et Mme VIGNOL Marie-Bernadette   BC-FG       15  \n",
       "42585         M. LE MINTIER Erwan et Mme ROBIN Elodie   BC-FN       24  "
      ]
     },
     "execution_count": 17,
     "metadata": {},
     "output_type": "execute_result"
    }
   ],
   "source": [
    "cher_data.head()"
   ]
  },
  {
   "cell_type": "code",
   "execution_count": 9,
   "id": "570c8462",
   "metadata": {},
   "outputs": [
    {
     "data": {
      "text/plain": [
       "Index(['NUMTOUR', 'CODDPT', 'CODSUBCOM', 'LIBSUBCOM', 'CODBURVOT', 'CODCAN',\n",
       "       'LIBCAN', 'NBRINS', 'NBRVOT', 'NBREXP', 'NUMDEPCAND', 'LIBLISEXT',\n",
       "       'CODNUA', 'NBRVOIX'],\n",
       "      dtype='object')"
      ]
     },
     "execution_count": 9,
     "metadata": {},
     "output_type": "execute_result"
    }
   ],
   "source": [
    " cher_data.columns"
   ]
  },
  {
   "cell_type": "markdown",
   "id": "69bc3d46",
   "metadata": {},
   "source": [
    "# Data visualisation "
   ]
  },
  {
   "cell_type": "code",
   "execution_count": 18,
   "id": "e22e3b60",
   "metadata": {},
   "outputs": [
    {
     "ename": "ValueError",
     "evalue": "Either both or neither of `x` and `y` must be specified (but try passing to `data`, which is more flexible).",
     "output_type": "error",
     "traceback": [
      "\u001b[0;31m---------------------------------------------------------------------------\u001b[0m",
      "\u001b[0;31mValueError\u001b[0m                                Traceback (most recent call last)",
      "\u001b[0;32m<ipython-input-18-49f5c0ba6ed2>\u001b[0m in \u001b[0;36m<module>\u001b[0;34m\u001b[0m\n\u001b[1;32m      2\u001b[0m \u001b[0;32mimport\u001b[0m \u001b[0mnumpy\u001b[0m \u001b[0;32mas\u001b[0m \u001b[0mnp\u001b[0m\u001b[0;34m\u001b[0m\u001b[0;34m\u001b[0m\u001b[0m\n\u001b[1;32m      3\u001b[0m \u001b[0;34m\u001b[0m\u001b[0m\n\u001b[0;32m----> 4\u001b[0;31m \u001b[0msns\u001b[0m\u001b[0;34m.\u001b[0m\u001b[0mscatterplot\u001b[0m\u001b[0;34m(\u001b[0m\u001b[0mdata\u001b[0m\u001b[0;34m=\u001b[0m\u001b[0mcher_data\u001b[0m\u001b[0;34m,\u001b[0m \u001b[0my\u001b[0m\u001b[0;34m=\u001b[0m\u001b[0;34m'NBRVOIX'\u001b[0m\u001b[0;34m)\u001b[0m\u001b[0;34m\u001b[0m\u001b[0;34m\u001b[0m\u001b[0m\n\u001b[0m",
      "\u001b[0;32m/usr/lib/python3/dist-packages/seaborn/relational.py\u001b[0m in \u001b[0;36mscatterplot\u001b[0;34m(x, y, hue, style, size, data, palette, hue_order, hue_norm, sizes, size_order, size_norm, markers, style_order, x_bins, y_bins, units, estimator, ci, n_boot, alpha, x_jitter, y_jitter, legend, ax, **kwargs)\u001b[0m\n\u001b[1;32m   1393\u001b[0m                 legend=\"brief\", ax=None, **kwargs):\n\u001b[1;32m   1394\u001b[0m \u001b[0;34m\u001b[0m\u001b[0m\n\u001b[0;32m-> 1395\u001b[0;31m     p = _ScatterPlotter(\n\u001b[0m\u001b[1;32m   1396\u001b[0m         \u001b[0mx\u001b[0m\u001b[0;34m=\u001b[0m\u001b[0mx\u001b[0m\u001b[0;34m,\u001b[0m \u001b[0my\u001b[0m\u001b[0;34m=\u001b[0m\u001b[0my\u001b[0m\u001b[0;34m,\u001b[0m \u001b[0mhue\u001b[0m\u001b[0;34m=\u001b[0m\u001b[0mhue\u001b[0m\u001b[0;34m,\u001b[0m \u001b[0mstyle\u001b[0m\u001b[0;34m=\u001b[0m\u001b[0mstyle\u001b[0m\u001b[0;34m,\u001b[0m \u001b[0msize\u001b[0m\u001b[0;34m=\u001b[0m\u001b[0msize\u001b[0m\u001b[0;34m,\u001b[0m \u001b[0mdata\u001b[0m\u001b[0;34m=\u001b[0m\u001b[0mdata\u001b[0m\u001b[0;34m,\u001b[0m\u001b[0;34m\u001b[0m\u001b[0;34m\u001b[0m\u001b[0m\n\u001b[1;32m   1397\u001b[0m         \u001b[0mpalette\u001b[0m\u001b[0;34m=\u001b[0m\u001b[0mpalette\u001b[0m\u001b[0;34m,\u001b[0m \u001b[0mhue_order\u001b[0m\u001b[0;34m=\u001b[0m\u001b[0mhue_order\u001b[0m\u001b[0;34m,\u001b[0m \u001b[0mhue_norm\u001b[0m\u001b[0;34m=\u001b[0m\u001b[0mhue_norm\u001b[0m\u001b[0;34m,\u001b[0m\u001b[0;34m\u001b[0m\u001b[0;34m\u001b[0m\u001b[0m\n",
      "\u001b[0;32m/usr/lib/python3/dist-packages/seaborn/relational.py\u001b[0m in \u001b[0;36m__init__\u001b[0;34m(self, x, y, hue, size, style, data, palette, hue_order, hue_norm, sizes, size_order, size_norm, dashes, markers, style_order, x_bins, y_bins, units, estimator, ci, n_boot, alpha, x_jitter, y_jitter, legend)\u001b[0m\n\u001b[1;32m    888\u001b[0m                  legend=None):\n\u001b[1;32m    889\u001b[0m \u001b[0;34m\u001b[0m\u001b[0m\n\u001b[0;32m--> 890\u001b[0;31m         plot_data = self.establish_variables(\n\u001b[0m\u001b[1;32m    891\u001b[0m             \u001b[0mx\u001b[0m\u001b[0;34m,\u001b[0m \u001b[0my\u001b[0m\u001b[0;34m,\u001b[0m \u001b[0mhue\u001b[0m\u001b[0;34m,\u001b[0m \u001b[0msize\u001b[0m\u001b[0;34m,\u001b[0m \u001b[0mstyle\u001b[0m\u001b[0;34m,\u001b[0m \u001b[0munits\u001b[0m\u001b[0;34m,\u001b[0m \u001b[0mdata\u001b[0m\u001b[0;34m\u001b[0m\u001b[0;34m\u001b[0m\u001b[0m\n\u001b[1;32m    892\u001b[0m         )\n",
      "\u001b[0;32m/usr/lib/python3/dist-packages/seaborn/relational.py\u001b[0m in \u001b[0;36mestablish_variables\u001b[0;34m(self, x, y, hue, size, style, units, data)\u001b[0m\n\u001b[1;32m    164\u001b[0m             err = (\"Either both or neither of `x` and `y` must be specified \"\n\u001b[1;32m    165\u001b[0m                    \"(but try passing to `data`, which is more flexible).\")\n\u001b[0;32m--> 166\u001b[0;31m             \u001b[0;32mraise\u001b[0m \u001b[0mValueError\u001b[0m\u001b[0;34m(\u001b[0m\u001b[0merr\u001b[0m\u001b[0;34m)\u001b[0m\u001b[0;34m\u001b[0m\u001b[0;34m\u001b[0m\u001b[0m\n\u001b[0m\u001b[1;32m    167\u001b[0m \u001b[0;34m\u001b[0m\u001b[0m\n\u001b[1;32m    168\u001b[0m         \u001b[0;31m# ---- Post-processing\u001b[0m\u001b[0;34m\u001b[0m\u001b[0;34m\u001b[0m\u001b[0;34m\u001b[0m\u001b[0m\n",
      "\u001b[0;31mValueError\u001b[0m: Either both or neither of `x` and `y` must be specified (but try passing to `data`, which is more flexible)."
     ]
    }
   ],
   "source": [
    "import seaborn as sns\n",
    "import numpy as np\n",
    "\n",
    "sns.scatterplot(data=cher_data,x='' y='NBRVOIX')"
   ]
  },
  {
   "cell_type": "markdown",
   "id": "af7903a9",
   "metadata": {},
   "source": [
    "# preparation des données d'entrées"
   ]
  },
  {
   "cell_type": "code",
   "execution_count": null,
   "id": "cb1fb422",
   "metadata": {},
   "outputs": [],
   "source": [
    "cher_data.columns"
   ]
  },
  {
   "cell_type": "code",
   "execution_count": null,
   "id": "00b9d58e",
   "metadata": {},
   "outputs": [],
   "source": [
    "import numpy as np \n",
    "\n",
    "cher_data['NUL_BLC'] = cher_data['NBRVOT'] - cher_data['NBREXP']\n",
    "\n",
    "selected_feature = ['NBRINS', 'NBRVOT', 'NBREXP'\n",
    "       , 'NBRVOIX', 'NUL_BLC' ]\n",
    "\n",
    "nb_partie = cher_data['CODNUA'].nunique()\n",
    "\n",
    "\n",
    "nuance = ['BC-FN', 'BC-UD', 'BC-SOC', 'BC-FG', 'BC-DVG', 'BC-DVD', 'BC-UMP',\n",
    "       'BC-UDI', 'BC-UG', 'BC-DLF', 'BC-UC']\n",
    "\n",
    "nb_line = cher_data.shape[0]\n",
    "\n",
    "# CREATE A COLUMN VOIX FOR EACH PARTY\n",
    "for partie in nuance:\n",
    "    new_col = pd.DataFrame(0, index=np.arange(nb_line), columns=['VOIX_'+partie])\n",
    "    for line in range(nb_line):\n",
    "        if cher_data['CODNUA'].iloc[line]==partie:\n",
    "            new_col['VOIX_'+ partie].iloc[line] = cher_data['NBRVOIX'].iloc[line] \n",
    "        \n",
    "                \n",
    "    cher_data['VOIX_'+partie] = new_col.values\n",
    "\n",
    "#X = cher_data[]"
   ]
  },
  {
   "cell_type": "code",
   "execution_count": null,
   "id": "8342eb07",
   "metadata": {},
   "outputs": [],
   "source": [
    "cher_data"
   ]
  },
  {
   "cell_type": "code",
   "execution_count": null,
   "id": "78f2979d",
   "metadata": {},
   "outputs": [],
   "source": [
    "cher_data['VOIX_BC-FN']\n"
   ]
  }
 ],
 "metadata": {
  "kernelspec": {
   "display_name": "Python 3.8.5 64-bit",
   "language": "python",
   "name": "python385jvsc74a57bd0767d51c1340bd893661ea55ea3124f6de3c7a262a8b4abca0554b478b1e2ff90"
  },
  "language_info": {
   "codemirror_mode": {
    "name": "ipython",
    "version": 3
   },
   "file_extension": ".py",
   "mimetype": "text/x-python",
   "name": "python",
   "nbconvert_exporter": "python",
   "pygments_lexer": "ipython3",
   "version": "3.8.5"
  }
 },
 "nbformat": 4,
 "nbformat_minor": 5
}
