{
 "cells": [
  {
   "cell_type": "code",
   "execution_count": 2,
   "id": "8e9f8d98",
   "metadata": {},
   "outputs": [],
   "source": [
    "import pandas as pd\n",
    "\n",
    "original_data = pd.read_csv (r'dataset/DP15_Bvot_T1T2.csv', header=0, sep=';')\n",
    "original_data_canton = pd.read_excel(r'dataset/Dep_15_Resultats_T1_complet.xlsx', sheet_name='Cantons', header=2)\n",
    "\n",
    " \n",
    "df = original_data.copy()\n",
    "df_canton = original_data_canton.copy()"
   ]
  },
  {
   "cell_type": "code",
   "execution_count": 19,
   "metadata": {},
   "outputs": [
    {
     "output_type": "stream",
     "name": "stdout",
     "text": [
      "<class 'pandas.core.frame.DataFrame'>\nRangeIndex: 421064 entries, 0 to 421063\nData columns (total 14 columns):\nNUMTOUR       421064 non-null int64\nCODDPT        421064 non-null object\nCODSUBCOM     421064 non-null int64\nLIBSUBCOM     421064 non-null object\nCODBURVOT     421064 non-null object\nCODCAN        421064 non-null int64\nLIBCAN        421064 non-null object\nNBRINS        421064 non-null int64\nNBRVOT        421064 non-null int64\nNBREXP        421064 non-null int64\nNUMDEPCAND    421064 non-null int64\nLIBLISEXT     421064 non-null object\nCODNUA        421064 non-null object\nNBRVOIX       421064 non-null int64\ndtypes: int64(8), object(6)\nmemory usage: 45.0+ MB\n"
     ]
    }
   ],
   "source": [
    "df.info()"
   ]
  },
  {
   "cell_type": "code",
   "execution_count": 3,
   "id": "5e6fe167",
   "metadata": {},
   "outputs": [],
   "source": [
    "def getDataFromDep(data, dep,col_dep_name, tour=None):\n",
    "    if tour is not None:\n",
    "        data = data[data.NUMTOUR == tour]\n",
    "    return data[data[col_dep_name] == dep]\n",
    "    \n",
    "\n",
    "\n",
    "def saveData(data, loc):\n",
    "    # save cher_data as excel\n",
    "    writer = pd.ExcelWriter(loc)\n",
    "    \n",
    "    # write dataframe to excel\n",
    "    data.to_excel(writer)\n",
    "\n",
    "    # save the excel\n",
    "    writer.save()\n",
    "\n",
    "def prepareInputDataBvot(data):\n",
    "    tmp = data[['NUMTOUR', 'CODDPT', 'CODSUBCOM', 'LIBSUBCOM', 'CODBURVOT', 'CODCAN',\n",
    "           'LIBCAN', 'NBRINS', 'NBRVOT', 'NBREXP']].copy()\n",
    "\n",
    "    # Compute missing data\n",
    "    tmp['NBRABS'] = tmp['NBRINS'] - tmp['NBRVOT']\n",
    "    tmp['NBRNULBLANC'] = tmp['NBRVOT'] - tmp['NBREXP']\n",
    "\n",
    "    nuances = getAllNuances(data)\n",
    "    statsFeatures = ['NBRVOT', 'NBREXP', 'NBRNULBLANC', 'NBRABS']\n",
    "    idFeatures = ['CODDPT', 'CODCAN', 'CODSUBCOM', 'CODBURVOT']\n",
    "\n",
    "    inscrits = tmp[idFeatures + ['NBRINS']].drop_duplicates()['NBRINS']\n",
    "    stats = tmp[idFeatures + statsFeatures].drop_duplicates()[statsFeatures]\n",
    "    ids = tmp[idFeatures].drop_duplicates()\n",
    "\n",
    "    # Create [%Voix] and fill it\n",
    "    voix = pd.DataFrame(0, index=data.index, columns=nuances)\n",
    "    for parti in nuances:\n",
    "        voix[parti][data['CODNUA']==parti] = data[data['CODNUA']==parti]['NBRVOIX']\n",
    "    voix = pd.concat([tmp[idFeatures], voix], axis=1).groupby(idFeatures).sum()[nuances]\n",
    "    voix.index = stats.index\n",
    "\n",
    "    # Concat with computed stats and divide almost everything by Inscrits\n",
    "    tmp = pd.concat([stats, voix], axis=1).divide(inscrits, axis=0)\n",
    "    X = pd.concat([inscrits, tmp], axis=1)\n",
    "    X.index = pd.MultiIndex.from_frame(ids)\n",
    "    return X\n",
    "\n",
    "def getAllNuances(data, colNuance='CODNUA', fmt='exploded'):\n",
    "    if fmt not in ['exploded', 'line']:\n",
    "        raise ValueError(\"format parameter must be 'exploded' or 'line'\")\n",
    "    \n",
    "    if fmt == 'exploded':\n",
    "        nuances = data[colNuance].unique()\n",
    "    \n",
    "    if fmt == 'line':\n",
    "        nuances = np.array([])\n",
    "        nuances_tmp = data[colNuance].fillna(0)\n",
    "        for c in nuances_tmp:\n",
    "            nuances = np.append(nuances, nuances_tmp[c])\n",
    "        nuances = np.unique(nuances[nuances!=0])\n",
    "    \n",
    "    return sorted(nuances)\n",
    "\n"
   ]
  },
  {
   "cell_type": "code",
   "execution_count": 20,
   "id": "5a58c4d3",
   "metadata": {
    "collapsed": true
   },
   "outputs": [
    {
     "output_type": "stream",
     "name": "stdout",
     "text": [
      "<class 'pandas.core.frame.DataFrame'>\nInt64Index: 1820 entries, 42581 to 44400\nData columns (total 14 columns):\nNUMTOUR       1820 non-null int64\nCODDPT        1820 non-null object\nCODSUBCOM     1820 non-null int64\nLIBSUBCOM     1820 non-null object\nCODBURVOT     1820 non-null object\nCODCAN        1820 non-null int64\nLIBCAN        1820 non-null object\nNBRINS        1820 non-null int64\nNBRVOT        1820 non-null int64\nNBREXP        1820 non-null int64\nNUMDEPCAND    1820 non-null int64\nLIBLISEXT     1820 non-null object\nCODNUA        1820 non-null object\nNBRVOIX       1820 non-null int64\ndtypes: int64(8), object(6)\nmemory usage: 213.3+ KB\n"
     ]
    },
    {
     "output_type": "execute_result",
     "data": {
      "text/plain": [
       "(19, 103)"
      ]
     },
     "metadata": {},
     "execution_count": 20
    }
   ],
   "source": [
    "cher_data = getDataFromDep(df, str(18), 'CODDPT', tour=1)\n",
    "cher_data_canton = getDataFromDep(df_canton, 18,'Code du département')\n",
    "\n",
    "saveData(cher_data, 'dataset/dep_15_Bvote.xlsx')\n",
    "cher_data.info()\n",
    "cher_data_canton.shape"
   ]
  },
  {
   "cell_type": "code",
   "execution_count": 4,
   "id": "72446cba",
   "metadata": {
    "collapsed": true
   },
   "outputs": [
    {
     "data": {
      "text/html": [
       "<div>\n",
       "<style scoped>\n",
       "    .dataframe tbody tr th:only-of-type {\n",
       "        vertical-align: middle;\n",
       "    }\n",
       "\n",
       "    .dataframe tbody tr th {\n",
       "        vertical-align: top;\n",
       "    }\n",
       "\n",
       "    .dataframe thead th {\n",
       "        text-align: right;\n",
       "    }\n",
       "</style>\n",
       "<table border=\"1\" class=\"dataframe\">\n",
       "  <thead>\n",
       "    <tr style=\"text-align: right;\">\n",
       "      <th></th>\n",
       "      <th>NUMTOUR</th>\n",
       "      <th>CODDPT</th>\n",
       "      <th>CODSUBCOM</th>\n",
       "      <th>LIBSUBCOM</th>\n",
       "      <th>CODBURVOT</th>\n",
       "      <th>CODCAN</th>\n",
       "      <th>LIBCAN</th>\n",
       "      <th>NBRINS</th>\n",
       "      <th>NBRVOT</th>\n",
       "      <th>NBREXP</th>\n",
       "      <th>NUMDEPCAND</th>\n",
       "      <th>LIBLISEXT</th>\n",
       "      <th>CODNUA</th>\n",
       "      <th>NBRVOIX</th>\n",
       "    </tr>\n",
       "  </thead>\n",
       "  <tbody>\n",
       "    <tr>\n",
       "      <th>42581</th>\n",
       "      <td>1</td>\n",
       "      <td>18</td>\n",
       "      <td>1</td>\n",
       "      <td>Achères</td>\n",
       "      <td>0001</td>\n",
       "      <td>15</td>\n",
       "      <td>Saint-Martin-d'Auxigny</td>\n",
       "      <td>300</td>\n",
       "      <td>148</td>\n",
       "      <td>145</td>\n",
       "      <td>27</td>\n",
       "      <td>M. LE NÉNAN François et Mme RICOU Gaelle</td>\n",
       "      <td>BC-FN</td>\n",
       "      <td>43</td>\n",
       "    </tr>\n",
       "    <tr>\n",
       "      <th>42582</th>\n",
       "      <td>1</td>\n",
       "      <td>18</td>\n",
       "      <td>1</td>\n",
       "      <td>Achères</td>\n",
       "      <td>0001</td>\n",
       "      <td>15</td>\n",
       "      <td>Saint-Martin-d'Auxigny</td>\n",
       "      <td>300</td>\n",
       "      <td>148</td>\n",
       "      <td>145</td>\n",
       "      <td>28</td>\n",
       "      <td>M. CHOLLET Fabrice et Mme DAMADE Beatrice</td>\n",
       "      <td>BC-UD</td>\n",
       "      <td>36</td>\n",
       "    </tr>\n",
       "    <tr>\n",
       "      <th>42583</th>\n",
       "      <td>1</td>\n",
       "      <td>18</td>\n",
       "      <td>1</td>\n",
       "      <td>Achères</td>\n",
       "      <td>0001</td>\n",
       "      <td>15</td>\n",
       "      <td>Saint-Martin-d'Auxigny</td>\n",
       "      <td>300</td>\n",
       "      <td>148</td>\n",
       "      <td>145</td>\n",
       "      <td>29</td>\n",
       "      <td>Mme BLANC Ariane et M. ROUSSEAU Bernard</td>\n",
       "      <td>BC-SOC</td>\n",
       "      <td>51</td>\n",
       "    </tr>\n",
       "    <tr>\n",
       "      <th>42584</th>\n",
       "      <td>1</td>\n",
       "      <td>18</td>\n",
       "      <td>1</td>\n",
       "      <td>Achères</td>\n",
       "      <td>0001</td>\n",
       "      <td>15</td>\n",
       "      <td>Saint-Martin-d'Auxigny</td>\n",
       "      <td>300</td>\n",
       "      <td>148</td>\n",
       "      <td>145</td>\n",
       "      <td>37</td>\n",
       "      <td>M. GODARD Denys et Mme VIGNOL Marie-Bernadette</td>\n",
       "      <td>BC-FG</td>\n",
       "      <td>15</td>\n",
       "    </tr>\n",
       "    <tr>\n",
       "      <th>42585</th>\n",
       "      <td>1</td>\n",
       "      <td>18</td>\n",
       "      <td>2</td>\n",
       "      <td>Ainay-le-Vieil</td>\n",
       "      <td>0001</td>\n",
       "      <td>8</td>\n",
       "      <td>Châteaumeillant</td>\n",
       "      <td>155</td>\n",
       "      <td>85</td>\n",
       "      <td>79</td>\n",
       "      <td>12</td>\n",
       "      <td>M. LE MINTIER Erwan et Mme ROBIN Elodie</td>\n",
       "      <td>BC-FN</td>\n",
       "      <td>24</td>\n",
       "    </tr>\n",
       "  </tbody>\n",
       "</table>\n",
       "</div>"
      ],
      "text/plain": [
       "       NUMTOUR CODDPT  CODSUBCOM       LIBSUBCOM CODBURVOT  CODCAN  \\\n",
       "42581        1     18          1         Achères      0001      15   \n",
       "42582        1     18          1         Achères      0001      15   \n",
       "42583        1     18          1         Achères      0001      15   \n",
       "42584        1     18          1         Achères      0001      15   \n",
       "42585        1     18          2  Ainay-le-Vieil      0001       8   \n",
       "\n",
       "                       LIBCAN  NBRINS  NBRVOT  NBREXP  NUMDEPCAND  \\\n",
       "42581  Saint-Martin-d'Auxigny     300     148     145          27   \n",
       "42582  Saint-Martin-d'Auxigny     300     148     145          28   \n",
       "42583  Saint-Martin-d'Auxigny     300     148     145          29   \n",
       "42584  Saint-Martin-d'Auxigny     300     148     145          37   \n",
       "42585         Châteaumeillant     155      85      79          12   \n",
       "\n",
       "                                            LIBLISEXT  CODNUA  NBRVOIX  \n",
       "42581        M. LE NÉNAN François et Mme RICOU Gaelle   BC-FN       43  \n",
       "42582       M. CHOLLET Fabrice et Mme DAMADE Beatrice   BC-UD       36  \n",
       "42583         Mme BLANC Ariane et M. ROUSSEAU Bernard  BC-SOC       51  \n",
       "42584  M. GODARD Denys et Mme VIGNOL Marie-Bernadette   BC-FG       15  \n",
       "42585         M. LE MINTIER Erwan et Mme ROBIN Elodie   BC-FN       24  "
      ]
     },
     "execution_count": 4,
     "metadata": {},
     "output_type": "execute_result"
    }
   ],
   "source": [
    "cher_data.head()"
   ]
  },
  {
   "cell_type": "code",
   "execution_count": 5,
   "id": "570c8462",
   "metadata": {},
   "outputs": [
    {
     "data": {
      "text/plain": [
       "Index(['NUMTOUR', 'CODDPT', 'CODSUBCOM', 'LIBSUBCOM', 'CODBURVOT', 'CODCAN',\n",
       "       'LIBCAN', 'NBRINS', 'NBRVOT', 'NBREXP', 'NUMDEPCAND', 'LIBLISEXT',\n",
       "       'CODNUA', 'NBRVOIX'],\n",
       "      dtype='object')"
      ]
     },
     "execution_count": 5,
     "metadata": {},
     "output_type": "execute_result"
    }
   ],
   "source": [
    " cher_data.columns"
   ]
  },
  {
   "cell_type": "markdown",
   "id": "69bc3d46",
   "metadata": {},
   "source": [
    "# Data visualisation "
   ]
  },
  {
   "cell_type": "code",
   "execution_count": 6,
   "id": "e22e3b60",
   "metadata": {},
   "outputs": [],
   "source": [
    "import seaborn as sns\n",
    "import numpy as np\n",
    "\n",
    "#sns.scatterplot(data=cher_data,x='' y='NBRVOIX')"
   ]
  },
  {
   "cell_type": "markdown",
   "id": "af7903a9",
   "metadata": {},
   "source": [
    "# preparation des données d'entrées"
   ]
  },
  {
   "cell_type": "code",
   "execution_count": 8,
   "metadata": {},
   "outputs": [
    {
     "output_type": "stream",
     "name": "stdout",
     "text": [
      "<class 'pandas.core.frame.DataFrame'>\nInt64Index: 19 entries, 343 to 361\nData columns (total 103 columns):\nDate de l'export          datetime64[ns]\nCode du département       object\nLibellé du département    object\nCode du canton            int64\nLibellé du canton         object\nInscrits                  int64\nAbstentions               int64\n% Abs/Ins                 float64\nVotants                   int64\n% Vot/Ins                 float64\nBlancs                    int64\n% Blancs/Ins              float64\n% Blancs/Vot              float64\nNuls                      int64\n% Nuls/Ins                float64\n% Nuls/Vot                float64\nExprimés                  int64\n% Exp/Ins                 float64\n% Exp/Vot                 float64\nN°Panneau                 int64\nNuance                    object\nBinôme                    object\nSièges                    object\nVoix                      int64\n% Voix/Ins                float64\n% Voix/Exp                float64\nN°Panneau.1               float64\nNuance.1                  object\nBinôme.1                  object\nSièges.1                  object\nVoix.1                    float64\n% Voix/Ins.1              float64\n% Voix/Exp.1              float64\nN°Panneau.2               float64\nNuance.2                  object\nBinôme.2                  object\nSièges.2                  object\nVoix.2                    float64\n% Voix/Ins.2              float64\n% Voix/Exp.2              float64\nN°Panneau.3               float64\nNuance.3                  object\nBinôme.3                  object\nSièges.3                  object\nVoix.3                    float64\n% Voix/Ins.3              float64\n% Voix/Exp.3              float64\nN°Panneau.4               float64\nNuance.4                  object\nBinôme.4                  object\nSièges.4                  object\nVoix.4                    float64\n% Voix/Ins.4              float64\n% Voix/Exp.4              float64\nN°Panneau.5               float64\nNuance.5                  object\nBinôme.5                  object\nSièges.5                  object\nVoix.5                    float64\n% Voix/Ins.5              float64\n% Voix/Exp.5              float64\nN°Panneau.6               float64\nNuance.6                  object\nBinôme.6                  object\nSièges.6                  object\nVoix.6                    float64\n% Voix/Ins.6              float64\n% Voix/Exp.6              float64\nN°Panneau.7               float64\nNuance.7                  object\nBinôme.7                  object\nSièges.7                  object\nVoix.7                    float64\n% Voix/Ins.7              float64\n% Voix/Exp.7              float64\nN°Panneau.8               float64\nNuance.8                  object\nBinôme.8                  object\nSièges.8                  object\nVoix.8                    float64\n% Voix/Ins.8              float64\n% Voix/Exp.8              float64\nN°Panneau.9               float64\nNuance.9                  object\nBinôme.9                  object\nSièges.9                  object\nVoix.9                    float64\n% Voix/Ins.9              float64\n% Voix/Exp.9              float64\nN°Panneau.10              float64\nNuance.10                 object\nBinôme.10                 object\nSièges.10                 object\nVoix.10                   float64\n% Voix/Ins.10             float64\n% Voix/Exp.10             float64\nN°Panneau.11              float64\nNuance.11                 float64\nBinôme.11                 float64\nSièges.11                 float64\nVoix.11                   float64\n% Voix/Ins.11             float64\n% Voix/Exp.11             float64\ndtypes: datetime64[ns](1), float64(57), int64(9), object(36)\nmemory usage: 16.1+ KB\n"
     ]
    }
   ],
   "source": [
    "cher_data_canton.info(verbose=True)"
   ]
  },
  {
   "cell_type": "code",
   "execution_count": 6,
   "metadata": {},
   "outputs": [
    {
     "output_type": "execute_result",
     "data": {
      "text/plain": [
       "Index(['Date de l'export', 'Code du département', 'Libellé du département',\n",
       "       'Code du canton', 'Libellé du canton', 'Inscrits', 'Abstentions',\n",
       "       '% Abs/Ins', 'Votants', '% Vot/Ins',\n",
       "       ...\n",
       "       'Voix.10', '% Voix/Ins.10', '% Voix/Exp.10', 'N°Panneau.11',\n",
       "       'Nuance.11', 'Binôme.11', 'Sièges.11', 'Voix.11', '% Voix/Ins.11',\n",
       "       '% Voix/Exp.11'],\n",
       "      dtype='object', length=103)"
      ]
     },
     "metadata": {},
     "execution_count": 6
    }
   ],
   "source": [
    "cher_data_canton.columns"
   ]
  },
  {
   "cell_type": "code",
   "execution_count": 7,
   "id": "cb1fb422",
   "metadata": {},
   "outputs": [
    {
     "data": {
      "text/plain": [
       "Index(['NUMTOUR', 'CODDPT', 'CODSUBCOM', 'LIBSUBCOM', 'CODBURVOT', 'CODCAN',\n",
       "       'LIBCAN', 'NBRINS', 'NBRVOT', 'NBREXP', 'NUMDEPCAND', 'LIBLISEXT',\n",
       "       'CODNUA', 'NBRVOIX'],\n",
       "      dtype='object')"
      ]
     },
     "execution_count": 7,
     "metadata": {},
     "output_type": "execute_result"
    }
   ],
   "source": [
    "cher_data.columns"
   ]
  },
  {
   "cell_type": "code",
   "execution_count": null,
   "metadata": {},
   "outputs": [],
   "source": []
  },
  {
   "cell_type": "code",
   "execution_count": 8,
   "id": "00b9d58e",
   "metadata": {},
   "outputs": [],
   "source": [
    "#explode Voix of each nuance into 1 column\n",
    "import numpy as np \n",
    "\n",
    "cher_data['NUL_BLC'] = cher_data['NBRVOT'] - cher_data['NBREXP']\n",
    "\n",
    "selected_feature = ['NBRINS', 'NBRVOT', 'NBREXP'\n",
    "       , 'NBRVOIX', 'NUL_BLC' ]\n",
    "\n",
    "nb_partie = cher_data['CODNUA'].nunique()\n",
    "\n",
    "\n",
    "nuance = ['BC-FN', 'BC-UD', 'BC-SOC', 'BC-FG', 'BC-DVG', 'BC-DVD', 'BC-UMP',\n",
    "       'BC-UDI', 'BC-UG', 'BC-DLF', 'BC-UC']\n",
    "\n",
    "nb_line = cher_data.shape[0]\n",
    "\n",
    "# CREATE A COLUMN VOIX FOR EACH PARTY\n",
    "for partie in nuance:\n",
    "    new_col = pd.DataFrame(0, index=np.arange(nb_line), columns=['VOIX_'+partie])\n",
    "    for line in range(nb_line):\n",
    "        if cher_data['CODNUA'].iloc[line]==partie:\n",
    "            new_col['VOIX_'+ partie].iloc[line] = cher_data['NBRVOIX'].iloc[line] \n",
    "        \n",
    "                \n",
    "    cher_data['VOIX_'+partie] = new_col.values\n",
    "\n",
    "#X = cher_data[]"
   ]
  },
  {
   "cell_type": "code",
   "execution_count": 34,
   "metadata": {},
   "outputs": [
    {
     "output_type": "execute_result",
     "data": {
      "text/plain": [
       "Empty DataFrame\n",
       "Columns: [Date de l'export, Code du département, Libellé du département, Code du canton, Libellé du canton, Inscrits, Abstentions, % Abs/Ins, Votants, % Vot/Ins, Blancs, % Blancs/Ins, % Blancs/Vot, Nuls, % Nuls/Ins, % Nuls/Vot, Exprimés, % Exp/Ins, % Exp/Vot, N°Panneau, Nuance, Binôme, Sièges, Voix, % Voix/Ins, % Voix/Exp, N°Panneau.1, Nuance.1, Binôme.1, Sièges.1, Voix.1, % Voix/Ins.1, % Voix/Exp.1, N°Panneau.2, Nuance.2, Binôme.2, Sièges.2, Voix.2, % Voix/Ins.2, % Voix/Exp.2, N°Panneau.3, Nuance.3, Binôme.3, Sièges.3, Voix.3, % Voix/Ins.3, % Voix/Exp.3, N°Panneau.4, Nuance.4, Binôme.4, Sièges.4, Voix.4, % Voix/Ins.4, % Voix/Exp.4, N°Panneau.5, Nuance.5, Binôme.5, Sièges.5, Voix.5, % Voix/Ins.5, % Voix/Exp.5, N°Panneau.6, Nuance.6, Binôme.6, Sièges.6, Voix.6, % Voix/Ins.6, % Voix/Exp.6, N°Panneau.7, Nuance.7, Binôme.7, Sièges.7, Voix.7, % Voix/Ins.7, % Voix/Exp.7, N°Panneau.8, Nuance.8, Binôme.8, Sièges.8, Voix.8, % Voix/Ins.8, % Voix/Exp.8, N°Panneau.9, Nuance.9, Binôme.9, Sièges.9, Voix.9, % Voix/Ins.9, % Voix/Exp.9, N°Panneau.10, Nuance.10, Binôme.10, Sièges.10, Voix.10, % Voix/Ins.10, % Voix/Exp.10, N°Panneau.11, Nuance.11, Binôme.11, Sièges.11, ...]\n",
       "Index: []\n",
       "\n",
       "[0 rows x 103 columns]"
      ],
      "text/html": "<div>\n<style scoped>\n    .dataframe tbody tr th:only-of-type {\n        vertical-align: middle;\n    }\n\n    .dataframe tbody tr th {\n        vertical-align: top;\n    }\n\n    .dataframe thead th {\n        text-align: right;\n    }\n</style>\n<table border=\"1\" class=\"dataframe\">\n  <thead>\n    <tr style=\"text-align: right;\">\n      <th></th>\n      <th>Date de l'export</th>\n      <th>Code du département</th>\n      <th>Libellé du département</th>\n      <th>Code du canton</th>\n      <th>Libellé du canton</th>\n      <th>Inscrits</th>\n      <th>Abstentions</th>\n      <th>% Abs/Ins</th>\n      <th>Votants</th>\n      <th>% Vot/Ins</th>\n      <th>...</th>\n      <th>Voix.10</th>\n      <th>% Voix/Ins.10</th>\n      <th>% Voix/Exp.10</th>\n      <th>N°Panneau.11</th>\n      <th>Nuance.11</th>\n      <th>Binôme.11</th>\n      <th>Sièges.11</th>\n      <th>Voix.11</th>\n      <th>% Voix/Ins.11</th>\n      <th>% Voix/Exp.11</th>\n    </tr>\n  </thead>\n  <tbody>\n  </tbody>\n</table>\n<p>0 rows × 103 columns</p>\n</div>"
     },
     "metadata": {},
     "execution_count": 34
    }
   ],
   "source": [
    "cher_data_canton.columns\n",
    "cher_data_canton.head()"
   ]
  },
  {
   "cell_type": "code",
   "execution_count": 32,
   "id": "8342eb07",
   "metadata": {
    "collapsed": true
   },
   "outputs": [
    {
     "output_type": "execute_result",
     "data": {
      "text/plain": [
       "Empty DataFrame\n",
       "Columns: [Date de l'export, Code du département, Libellé du département, Code du canton, Libellé du canton, Inscrits, Abstentions, % Abs/Ins, Votants, % Vot/Ins, Blancs, % Blancs/Ins, % Blancs/Vot, Nuls, % Nuls/Ins, % Nuls/Vot, Exprimés, % Exp/Ins, % Exp/Vot, N°Panneau, Nuance, Binôme, Sièges, Voix, % Voix/Ins, % Voix/Exp, N°Panneau.1, Nuance.1, Binôme.1, Sièges.1, Voix.1, % Voix/Ins.1, % Voix/Exp.1, N°Panneau.2, Nuance.2, Binôme.2, Sièges.2, Voix.2, % Voix/Ins.2, % Voix/Exp.2, N°Panneau.3, Nuance.3, Binôme.3, Sièges.3, Voix.3, % Voix/Ins.3, % Voix/Exp.3, N°Panneau.4, Nuance.4, Binôme.4, Sièges.4, Voix.4, % Voix/Ins.4, % Voix/Exp.4, N°Panneau.5, Nuance.5, Binôme.5, Sièges.5, Voix.5, % Voix/Ins.5, % Voix/Exp.5, N°Panneau.6, Nuance.6, Binôme.6, Sièges.6, Voix.6, % Voix/Ins.6, % Voix/Exp.6, N°Panneau.7, Nuance.7, Binôme.7, Sièges.7, Voix.7, % Voix/Ins.7, % Voix/Exp.7, N°Panneau.8, Nuance.8, Binôme.8, Sièges.8, Voix.8, % Voix/Ins.8, % Voix/Exp.8, N°Panneau.9, Nuance.9, Binôme.9, Sièges.9, Voix.9, % Voix/Ins.9, % Voix/Exp.9, N°Panneau.10, Nuance.10, Binôme.10, Sièges.10, Voix.10, % Voix/Ins.10, % Voix/Exp.10, N°Panneau.11, Nuance.11, Binôme.11, Sièges.11, ...]\n",
       "Index: []\n",
       "\n",
       "[0 rows x 103 columns]"
      ],
      "text/html": "<div>\n<style scoped>\n    .dataframe tbody tr th:only-of-type {\n        vertical-align: middle;\n    }\n\n    .dataframe tbody tr th {\n        vertical-align: top;\n    }\n\n    .dataframe thead th {\n        text-align: right;\n    }\n</style>\n<table border=\"1\" class=\"dataframe\">\n  <thead>\n    <tr style=\"text-align: right;\">\n      <th></th>\n      <th>Date de l'export</th>\n      <th>Code du département</th>\n      <th>Libellé du département</th>\n      <th>Code du canton</th>\n      <th>Libellé du canton</th>\n      <th>Inscrits</th>\n      <th>Abstentions</th>\n      <th>% Abs/Ins</th>\n      <th>Votants</th>\n      <th>% Vot/Ins</th>\n      <th>...</th>\n      <th>Voix.10</th>\n      <th>% Voix/Ins.10</th>\n      <th>% Voix/Exp.10</th>\n      <th>N°Panneau.11</th>\n      <th>Nuance.11</th>\n      <th>Binôme.11</th>\n      <th>Sièges.11</th>\n      <th>Voix.11</th>\n      <th>% Voix/Ins.11</th>\n      <th>% Voix/Exp.11</th>\n    </tr>\n  </thead>\n  <tbody>\n  </tbody>\n</table>\n<p>0 rows × 103 columns</p>\n</div>"
     },
     "metadata": {},
     "execution_count": 32
    }
   ],
   "source": [
    "tmp = cher_data_canton[cher_data_canton['Code du département']==str(1)]\n",
    "tmp\n",
    "\n"
   ]
  },
  {
   "cell_type": "markdown",
   "id": "bc8ae5f7",
   "metadata": {},
   "source": [
    "# Test and validation "
   ]
  },
  {
   "cell_type": "code",
   "execution_count": 10,
   "id": "1211feb3",
   "metadata": {
    "collapsed": true
   },
   "outputs": [
    {
     "name": "stdout",
     "output_type": "stream",
     "text": [
      "CODCAN  CODNUA\n",
      "1       BC-FG     20\n",
      "        BC-FN     20\n",
      "        BC-SOC    20\n",
      "        BC-UD     20\n",
      "2       BC-DVG    37\n",
      "        BC-FN     37\n",
      "        BC-SOC    37\n",
      "        BC-UD     37\n",
      "3       BC-DVG    17\n",
      "        BC-FN     17\n",
      "        BC-SOC    17\n",
      "        BC-UD     17\n",
      "4       BC-DVD    15\n",
      "        BC-FG     15\n",
      "        BC-SOC    15\n",
      "        BC-UD     15\n",
      "5       BC-FG     13\n",
      "        BC-FN     13\n",
      "        BC-SOC    13\n",
      "        BC-UD     13\n",
      "6       BC-DVG    19\n",
      "        BC-SOC    19\n",
      "        BC-UD     19\n",
      "7       BC-FG     20\n",
      "        BC-FN     20\n",
      "        BC-SOC    20\n",
      "        BC-UD     20\n",
      "8       BC-DVG    40\n",
      "        BC-FN     40\n",
      "        BC-SOC    40\n",
      "        BC-UD     40\n",
      "9       BC-FG     36\n",
      "        BC-FN     36\n",
      "        BC-SOC    36\n",
      "        BC-UD     36\n",
      "10      BC-FG     23\n",
      "        BC-FN     23\n",
      "        BC-SOC    23\n",
      "        BC-UD     23\n",
      "11      BC-DVG    22\n",
      "        BC-FN     22\n",
      "        BC-SOC    22\n",
      "        BC-UD     22\n",
      "12      BC-DVD    22\n",
      "        BC-DVG    22\n",
      "        BC-FN     22\n",
      "        BC-SOC    22\n",
      "        BC-UDI    22\n",
      "        BC-UMP    22\n",
      "13      BC-DLF    13\n",
      "        BC-UD     13\n",
      "        BC-UG     13\n",
      "14      BC-FG     23\n",
      "        BC-FN     23\n",
      "        BC-SOC    23\n",
      "        BC-UD     23\n",
      "15      BC-FG     20\n",
      "        BC-FN     20\n",
      "        BC-SOC    20\n",
      "        BC-UD     20\n",
      "16      BC-DVG    38\n",
      "        BC-FN     38\n",
      "        BC-SOC    38\n",
      "        BC-UD     38\n",
      "17      BC-FG     29\n",
      "        BC-FN     29\n",
      "        BC-SOC    29\n",
      "        BC-UD     29\n",
      "18      BC-DVD    15\n",
      "        BC-FG     15\n",
      "        BC-FN     15\n",
      "        BC-SOC    15\n",
      "        BC-UC     15\n",
      "19      BC-DVD    21\n",
      "        BC-FG     21\n",
      "        BC-FN     21\n",
      "        BC-SOC    21\n",
      "        BC-UC     21\n"
     ]
    }
   ],
   "source": [
    "print(cher_data.groupby([ 'CODCAN', 'CODNUA'])['CODNUA'].count().to_string())"
   ]
  },
  {
   "cell_type": "code",
   "execution_count": 30,
   "id": "b1f7c7b9",
   "metadata": {},
   "outputs": [],
   "source": [
    "tmp = cher_data[cher_data['CODCAN']==13 ].sort_values(by=['CODBURVOT','LIBSUBCOM'])\n",
    "\n",
    "saveData(tmp, 'dataset/test.xlsx')"
   ]
  },
  {
   "cell_type": "code",
   "execution_count": 39,
   "id": "8e0834d4",
   "metadata": {},
   "outputs": [
    {
     "name": "stdout",
     "output_type": "stream",
     "text": [
      "['BC-UG' 'BC-UD' 'BC-DLF']\n"
     ]
    }
   ],
   "source": [
    "tmp[tmp['CODBURVOT']=='0001']\n",
    "print(tmp['CODNUA'].unique())\n"
   ]
  },
  {
   "cell_type": "code",
   "execution_count": 12,
   "id": "3f7a14d4",
   "metadata": {},
   "outputs": [
    {
     "name": "stdout",
     "output_type": "stream",
     "text": [
      "(array([2, 3, 4, 5]), array([0, 1]))\n",
      "train: [2 3 4 5], test: [0 1]\n",
      "train: [0 1 3 4], test: [2 5]\n",
      "train: [0 1 2 5], test: [3 4]\n"
     ]
    }
   ],
   "source": [
    "from sklearn.model_selection import KFold\n",
    "from numpy import array\n",
    "\n",
    "\n",
    "kfold = KFold(3, shuffle=True, random_state=42)\n",
    "print(next(kfold.split(data)))\n",
    "for train, test in kfold.split(data):\n",
    "    print('train: %s, test: %s' % (train, test))"
   ]
  },
  {
   "cell_type": "code",
   "execution_count": 13,
   "id": "7595a70b",
   "metadata": {},
   "outputs": [],
   "source": [
    "#selection des données\n",
    "from sklearn.model_selection import KFold\n",
    "\n",
    "def dataSelection(data,shapeX, k):\n",
    "    kfold=KFold(k, shuffle=True, random_state=42)\n",
    "    folds = []\n",
    "    \n",
    "    for canton in data.CODCAN.unique():\n",
    "        data_canton = data[['CODCAN']==canton]\n",
    "        fold = kfold.split(data_canton)\n",
    "        folds.append()\n",
    "        \n",
    "    \n",
    "`\n",
    "        "
   ]
  },
  {
   "cell_type": "code",
   "execution_count": 33,
   "metadata": {},
   "outputs": [
    {
     "output_type": "execute_result",
     "data": {
      "text/plain": [
       "       NUMTOUR CODDPT  CODSUBCOM       LIBSUBCOM CODBURVOT  CODCAN  \\\n",
       "42581        1     18          1         Achères      0001      15   \n",
       "42582        1     18          1         Achères      0001      15   \n",
       "42583        1     18          1         Achères      0001      15   \n",
       "42584        1     18          1         Achères      0001      15   \n",
       "42585        1     18          2  Ainay-le-Vieil      0001       8   \n",
       "...        ...    ...        ...             ...       ...     ...   \n",
       "44396        1     18        289          Vornay      0001       2   \n",
       "44397        1     18        290        Vouzeron      0001      15   \n",
       "44398        1     18        290        Vouzeron      0001      15   \n",
       "44399        1     18        290        Vouzeron      0001      15   \n",
       "44400        1     18        290        Vouzeron      0001      15   \n",
       "\n",
       "                       LIBCAN  NBRINS  NBRVOT  NBREXP  NUMDEPCAND  \\\n",
       "42581  Saint-Martin-d'Auxigny     300     148     145          27   \n",
       "42582  Saint-Martin-d'Auxigny     300     148     145          28   \n",
       "42583  Saint-Martin-d'Auxigny     300     148     145          29   \n",
       "42584  Saint-Martin-d'Auxigny     300     148     145          37   \n",
       "42585         Châteaumeillant     155      85      79          12   \n",
       "...                       ...     ...     ...     ...         ...   \n",
       "44396                   Avord     389     232     227          67   \n",
       "44397  Saint-Martin-d'Auxigny     384     216     201          27   \n",
       "44398  Saint-Martin-d'Auxigny     384     216     201          28   \n",
       "44399  Saint-Martin-d'Auxigny     384     216     201          29   \n",
       "44400  Saint-Martin-d'Auxigny     384     216     201          37   \n",
       "\n",
       "                                            LIBLISEXT  CODNUA  NBRVOIX  \n",
       "42581        M. LE NÉNAN François et Mme RICOU Gaelle   BC-FN       43  \n",
       "42582       M. CHOLLET Fabrice et Mme DAMADE Beatrice   BC-UD       36  \n",
       "42583         Mme BLANC Ariane et M. ROUSSEAU Bernard  BC-SOC       51  \n",
       "42584  M. GODARD Denys et Mme VIGNOL Marie-Bernadette   BC-FG       15  \n",
       "42585         M. LE MINTIER Erwan et Mme ROBIN Elodie   BC-FN       24  \n",
       "...                                               ...     ...      ...  \n",
       "44396       Mme CHAPEAU Christine et M. MEREAU Pascal  BC-SOC       73  \n",
       "44397        M. LE NÉNAN François et Mme RICOU Gaelle   BC-FN       71  \n",
       "44398       M. CHOLLET Fabrice et Mme DAMADE Beatrice   BC-UD       58  \n",
       "44399         Mme BLANC Ariane et M. ROUSSEAU Bernard  BC-SOC       36  \n",
       "44400  M. GODARD Denys et Mme VIGNOL Marie-Bernadette   BC-FG       36  \n",
       "\n",
       "[1820 rows x 14 columns]"
      ],
      "text/html": "<div>\n<style scoped>\n    .dataframe tbody tr th:only-of-type {\n        vertical-align: middle;\n    }\n\n    .dataframe tbody tr th {\n        vertical-align: top;\n    }\n\n    .dataframe thead th {\n        text-align: right;\n    }\n</style>\n<table border=\"1\" class=\"dataframe\">\n  <thead>\n    <tr style=\"text-align: right;\">\n      <th></th>\n      <th>NUMTOUR</th>\n      <th>CODDPT</th>\n      <th>CODSUBCOM</th>\n      <th>LIBSUBCOM</th>\n      <th>CODBURVOT</th>\n      <th>CODCAN</th>\n      <th>LIBCAN</th>\n      <th>NBRINS</th>\n      <th>NBRVOT</th>\n      <th>NBREXP</th>\n      <th>NUMDEPCAND</th>\n      <th>LIBLISEXT</th>\n      <th>CODNUA</th>\n      <th>NBRVOIX</th>\n    </tr>\n  </thead>\n  <tbody>\n    <tr>\n      <th>42581</th>\n      <td>1</td>\n      <td>18</td>\n      <td>1</td>\n      <td>Achères</td>\n      <td>0001</td>\n      <td>15</td>\n      <td>Saint-Martin-d'Auxigny</td>\n      <td>300</td>\n      <td>148</td>\n      <td>145</td>\n      <td>27</td>\n      <td>M. LE NÉNAN François et Mme RICOU Gaelle</td>\n      <td>BC-FN</td>\n      <td>43</td>\n    </tr>\n    <tr>\n      <th>42582</th>\n      <td>1</td>\n      <td>18</td>\n      <td>1</td>\n      <td>Achères</td>\n      <td>0001</td>\n      <td>15</td>\n      <td>Saint-Martin-d'Auxigny</td>\n      <td>300</td>\n      <td>148</td>\n      <td>145</td>\n      <td>28</td>\n      <td>M. CHOLLET Fabrice et Mme DAMADE Beatrice</td>\n      <td>BC-UD</td>\n      <td>36</td>\n    </tr>\n    <tr>\n      <th>42583</th>\n      <td>1</td>\n      <td>18</td>\n      <td>1</td>\n      <td>Achères</td>\n      <td>0001</td>\n      <td>15</td>\n      <td>Saint-Martin-d'Auxigny</td>\n      <td>300</td>\n      <td>148</td>\n      <td>145</td>\n      <td>29</td>\n      <td>Mme BLANC Ariane et M. ROUSSEAU Bernard</td>\n      <td>BC-SOC</td>\n      <td>51</td>\n    </tr>\n    <tr>\n      <th>42584</th>\n      <td>1</td>\n      <td>18</td>\n      <td>1</td>\n      <td>Achères</td>\n      <td>0001</td>\n      <td>15</td>\n      <td>Saint-Martin-d'Auxigny</td>\n      <td>300</td>\n      <td>148</td>\n      <td>145</td>\n      <td>37</td>\n      <td>M. GODARD Denys et Mme VIGNOL Marie-Bernadette</td>\n      <td>BC-FG</td>\n      <td>15</td>\n    </tr>\n    <tr>\n      <th>42585</th>\n      <td>1</td>\n      <td>18</td>\n      <td>2</td>\n      <td>Ainay-le-Vieil</td>\n      <td>0001</td>\n      <td>8</td>\n      <td>Châteaumeillant</td>\n      <td>155</td>\n      <td>85</td>\n      <td>79</td>\n      <td>12</td>\n      <td>M. LE MINTIER Erwan et Mme ROBIN Elodie</td>\n      <td>BC-FN</td>\n      <td>24</td>\n    </tr>\n    <tr>\n      <th>...</th>\n      <td>...</td>\n      <td>...</td>\n      <td>...</td>\n      <td>...</td>\n      <td>...</td>\n      <td>...</td>\n      <td>...</td>\n      <td>...</td>\n      <td>...</td>\n      <td>...</td>\n      <td>...</td>\n      <td>...</td>\n      <td>...</td>\n      <td>...</td>\n    </tr>\n    <tr>\n      <th>44396</th>\n      <td>1</td>\n      <td>18</td>\n      <td>289</td>\n      <td>Vornay</td>\n      <td>0001</td>\n      <td>2</td>\n      <td>Avord</td>\n      <td>389</td>\n      <td>232</td>\n      <td>227</td>\n      <td>67</td>\n      <td>Mme CHAPEAU Christine et M. MEREAU Pascal</td>\n      <td>BC-SOC</td>\n      <td>73</td>\n    </tr>\n    <tr>\n      <th>44397</th>\n      <td>1</td>\n      <td>18</td>\n      <td>290</td>\n      <td>Vouzeron</td>\n      <td>0001</td>\n      <td>15</td>\n      <td>Saint-Martin-d'Auxigny</td>\n      <td>384</td>\n      <td>216</td>\n      <td>201</td>\n      <td>27</td>\n      <td>M. LE NÉNAN François et Mme RICOU Gaelle</td>\n      <td>BC-FN</td>\n      <td>71</td>\n    </tr>\n    <tr>\n      <th>44398</th>\n      <td>1</td>\n      <td>18</td>\n      <td>290</td>\n      <td>Vouzeron</td>\n      <td>0001</td>\n      <td>15</td>\n      <td>Saint-Martin-d'Auxigny</td>\n      <td>384</td>\n      <td>216</td>\n      <td>201</td>\n      <td>28</td>\n      <td>M. CHOLLET Fabrice et Mme DAMADE Beatrice</td>\n      <td>BC-UD</td>\n      <td>58</td>\n    </tr>\n    <tr>\n      <th>44399</th>\n      <td>1</td>\n      <td>18</td>\n      <td>290</td>\n      <td>Vouzeron</td>\n      <td>0001</td>\n      <td>15</td>\n      <td>Saint-Martin-d'Auxigny</td>\n      <td>384</td>\n      <td>216</td>\n      <td>201</td>\n      <td>29</td>\n      <td>Mme BLANC Ariane et M. ROUSSEAU Bernard</td>\n      <td>BC-SOC</td>\n      <td>36</td>\n    </tr>\n    <tr>\n      <th>44400</th>\n      <td>1</td>\n      <td>18</td>\n      <td>290</td>\n      <td>Vouzeron</td>\n      <td>0001</td>\n      <td>15</td>\n      <td>Saint-Martin-d'Auxigny</td>\n      <td>384</td>\n      <td>216</td>\n      <td>201</td>\n      <td>37</td>\n      <td>M. GODARD Denys et Mme VIGNOL Marie-Bernadette</td>\n      <td>BC-FG</td>\n      <td>36</td>\n    </tr>\n  </tbody>\n</table>\n<p>1820 rows × 14 columns</p>\n</div>"
     },
     "metadata": {},
     "execution_count": 33
    }
   ],
   "source": [
    "cher_data"
   ]
  },
  {
   "cell_type": "code",
   "execution_count": 66,
   "metadata": {},
   "outputs": [
    {
     "output_type": "execute_result",
     "data": {
      "text/plain": [
       "dict_items([('1', ['BC-FN', 'BC-UD']), ('2', ['BC-FN', 'BC-UD', 'BC-SOC']), ('3', ['BC-SOC', 'BC-UD']), ('4', ['BC-UD', 'BC-SOC']), ('5', ['BC-UD', 'BC-SOC']), ('6', ['BC-UD', 'BC-SOC']), ('7', ['BC-UD', 'BC-FG']), ('8', ['BC-UD', 'BC-FN']), ('9', ['BC-UD', 'BC-FN']), ('10', ['BC-UD', 'BC-FN', 'BC-SOC']), ('11', ['BC-FN', 'BC-UD']), ('12', ['BC-UDI', 'BC-FN']), ('13', ['BC-UG', 'BC-UD']), ('14', ['BC-UD', 'BC-FN']), ('15', ['BC-SOC', 'BC-FN', 'BC-UD']), ('16', ['BC-SOC', 'BC-FN', 'BC-UD']), ('17', ['BC-FN', 'BC-UD']), ('18', ['BC-FN', 'BC-FG']), ('19', ['BC-FN', 'BC-FG'])])"
      ]
     },
     "metadata": {},
     "execution_count": 66
    }
   ],
   "source": [
    "duels = {\n",
    "    '1' : ['BC-FN' , 'BC-UD'], \n",
    "    '2' : ['BC-FN' , 'BC-UD', 'BC-SOC'], \n",
    "    '3' : ['BC-SOC', 'BC-UD'], \n",
    "    '4' : ['BC-UD' , 'BC-SOC'], \n",
    "    '5' : ['BC-UD' , 'BC-SOC'], \n",
    "    '6' : ['BC-UD' , 'BC-SOC'], \n",
    "    '7' : ['BC-UD' , 'BC-FG'], \n",
    "    '8' : ['BC-UD' , 'BC-FN'], \n",
    "    '9' : ['BC-UD' , 'BC-FN'], \n",
    "    '10': ['BC-UD' , 'BC-FN', 'BC-SOC'], \n",
    "    '11': ['BC-FN' , 'BC-UD'], \n",
    "    '12': ['BC-UDI', 'BC-FN'], \n",
    "    '13': ['BC-UG' , 'BC-UD'], \n",
    "    '14': ['BC-UD' , 'BC-FN'], \n",
    "    '15': ['BC-SOC', 'BC-FN', 'BC-UD'], \n",
    "    '16': ['BC-SOC', 'BC-FN', 'BC-UD'], \n",
    "    '17': ['BC-FN' , 'BC-UD'], \n",
    "    '18': ['BC-FN' , 'BC-FG'], \n",
    "    '19': ['BC-FN' , 'BC-FG'] }\n",
    "duels.items()"
   ]
  },
  {
   "cell_type": "code",
   "execution_count": 83,
   "metadata": {},
   "outputs": [
    {
     "output_type": "error",
     "ename": "IndexError",
     "evalue": "list index out of range",
     "traceback": [
      "\u001b[0;31m---------------------------------------------------------------------------\u001b[0m",
      "\u001b[0;31mIndexError\u001b[0m                                Traceback (most recent call last)",
      "\u001b[0;32m<ipython-input-83-9822b213cfd1>\u001b[0m in \u001b[0;36m<module>\u001b[0;34m\u001b[0m\n\u001b[1;32m      2\u001b[0m \u001b[0;32mfrom\u001b[0m \u001b[0msklearn\u001b[0m\u001b[0;34m.\u001b[0m\u001b[0mmodel_selection\u001b[0m \u001b[0;32mimport\u001b[0m \u001b[0mtrain_test_split\u001b[0m\u001b[0;34m\u001b[0m\u001b[0;34m\u001b[0m\u001b[0m\n\u001b[1;32m      3\u001b[0m \u001b[0;34m\u001b[0m\u001b[0m\n\u001b[0;32m----> 4\u001b[0;31m \u001b[0mdf_cher_Bvot_X\u001b[0m \u001b[0;34m=\u001b[0m \u001b[0mpd\u001b[0m\u001b[0;34m.\u001b[0m\u001b[0mread_csv\u001b[0m\u001b[0;34m(\u001b[0m\u001b[0;34m'dataset/XbaseCher_Bvot.csv'\u001b[0m\u001b[0;34m,\u001b[0m \u001b[0mindex_col\u001b[0m\u001b[0;34m=\u001b[0m\u001b[0;34m[\u001b[0m\u001b[0;36m0\u001b[0m\u001b[0;34m,\u001b[0m\u001b[0;36m1\u001b[0m\u001b[0;34m,\u001b[0m\u001b[0;36m2\u001b[0m\u001b[0;34m,\u001b[0m\u001b[0;36m3\u001b[0m\u001b[0;34m]\u001b[0m\u001b[0;34m)\u001b[0m\u001b[0;34m\u001b[0m\u001b[0;34m\u001b[0m\u001b[0m\n\u001b[0m\u001b[1;32m      5\u001b[0m \u001b[0mdf_cher_Bvot_y\u001b[0m \u001b[0;34m=\u001b[0m \u001b[0mpd\u001b[0m\u001b[0;34m.\u001b[0m\u001b[0mread_csv\u001b[0m\u001b[0;34m(\u001b[0m\u001b[0;34m'dataset/labels/yDataCher_Bvot_DP.csv'\u001b[0m\u001b[0;34m)\u001b[0m\u001b[0;34m\u001b[0m\u001b[0;34m\u001b[0m\u001b[0m\n\u001b[1;32m      6\u001b[0m \u001b[0;34m\u001b[0m\u001b[0m\n",
      "\u001b[0;32m/usr/lib/python3/dist-packages/pandas/io/parsers.py\u001b[0m in \u001b[0;36mparser_f\u001b[0;34m(filepath_or_buffer, sep, delimiter, header, names, index_col, usecols, squeeze, prefix, mangle_dupe_cols, dtype, engine, converters, true_values, false_values, skipinitialspace, skiprows, skipfooter, nrows, na_values, keep_default_na, na_filter, verbose, skip_blank_lines, parse_dates, infer_datetime_format, keep_date_col, date_parser, dayfirst, cache_dates, iterator, chunksize, compression, thousands, decimal, lineterminator, quotechar, quoting, doublequote, escapechar, comment, encoding, dialect, error_bad_lines, warn_bad_lines, delim_whitespace, low_memory, memory_map, float_precision)\u001b[0m\n\u001b[1;32m    683\u001b[0m         )\n\u001b[1;32m    684\u001b[0m \u001b[0;34m\u001b[0m\u001b[0m\n\u001b[0;32m--> 685\u001b[0;31m         \u001b[0;32mreturn\u001b[0m \u001b[0m_read\u001b[0m\u001b[0;34m(\u001b[0m\u001b[0mfilepath_or_buffer\u001b[0m\u001b[0;34m,\u001b[0m \u001b[0mkwds\u001b[0m\u001b[0;34m)\u001b[0m\u001b[0;34m\u001b[0m\u001b[0;34m\u001b[0m\u001b[0m\n\u001b[0m\u001b[1;32m    686\u001b[0m \u001b[0;34m\u001b[0m\u001b[0m\n\u001b[1;32m    687\u001b[0m     \u001b[0mparser_f\u001b[0m\u001b[0;34m.\u001b[0m\u001b[0m__name__\u001b[0m \u001b[0;34m=\u001b[0m \u001b[0mname\u001b[0m\u001b[0;34m\u001b[0m\u001b[0;34m\u001b[0m\u001b[0m\n",
      "\u001b[0;32m/usr/lib/python3/dist-packages/pandas/io/parsers.py\u001b[0m in \u001b[0;36m_read\u001b[0;34m(filepath_or_buffer, kwds)\u001b[0m\n\u001b[1;32m    455\u001b[0m \u001b[0;34m\u001b[0m\u001b[0m\n\u001b[1;32m    456\u001b[0m     \u001b[0;31m# Create the parser.\u001b[0m\u001b[0;34m\u001b[0m\u001b[0;34m\u001b[0m\u001b[0;34m\u001b[0m\u001b[0m\n\u001b[0;32m--> 457\u001b[0;31m     \u001b[0mparser\u001b[0m \u001b[0;34m=\u001b[0m \u001b[0mTextFileReader\u001b[0m\u001b[0;34m(\u001b[0m\u001b[0mfp_or_buf\u001b[0m\u001b[0;34m,\u001b[0m \u001b[0;34m**\u001b[0m\u001b[0mkwds\u001b[0m\u001b[0;34m)\u001b[0m\u001b[0;34m\u001b[0m\u001b[0;34m\u001b[0m\u001b[0m\n\u001b[0m\u001b[1;32m    458\u001b[0m \u001b[0;34m\u001b[0m\u001b[0m\n\u001b[1;32m    459\u001b[0m     \u001b[0;32mif\u001b[0m \u001b[0mchunksize\u001b[0m \u001b[0;32mor\u001b[0m \u001b[0miterator\u001b[0m\u001b[0;34m:\u001b[0m\u001b[0;34m\u001b[0m\u001b[0;34m\u001b[0m\u001b[0m\n",
      "\u001b[0;32m/usr/lib/python3/dist-packages/pandas/io/parsers.py\u001b[0m in \u001b[0;36m__init__\u001b[0;34m(self, f, engine, **kwds)\u001b[0m\n\u001b[1;32m    893\u001b[0m             \u001b[0mself\u001b[0m\u001b[0;34m.\u001b[0m\u001b[0moptions\u001b[0m\u001b[0;34m[\u001b[0m\u001b[0;34m\"has_index_names\"\u001b[0m\u001b[0;34m]\u001b[0m \u001b[0;34m=\u001b[0m \u001b[0mkwds\u001b[0m\u001b[0;34m[\u001b[0m\u001b[0;34m\"has_index_names\"\u001b[0m\u001b[0;34m]\u001b[0m\u001b[0;34m\u001b[0m\u001b[0;34m\u001b[0m\u001b[0m\n\u001b[1;32m    894\u001b[0m \u001b[0;34m\u001b[0m\u001b[0m\n\u001b[0;32m--> 895\u001b[0;31m         \u001b[0mself\u001b[0m\u001b[0;34m.\u001b[0m\u001b[0m_make_engine\u001b[0m\u001b[0;34m(\u001b[0m\u001b[0mself\u001b[0m\u001b[0;34m.\u001b[0m\u001b[0mengine\u001b[0m\u001b[0;34m)\u001b[0m\u001b[0;34m\u001b[0m\u001b[0;34m\u001b[0m\u001b[0m\n\u001b[0m\u001b[1;32m    896\u001b[0m \u001b[0;34m\u001b[0m\u001b[0m\n\u001b[1;32m    897\u001b[0m     \u001b[0;32mdef\u001b[0m \u001b[0mclose\u001b[0m\u001b[0;34m(\u001b[0m\u001b[0mself\u001b[0m\u001b[0;34m)\u001b[0m\u001b[0;34m:\u001b[0m\u001b[0;34m\u001b[0m\u001b[0;34m\u001b[0m\u001b[0m\n",
      "\u001b[0;32m/usr/lib/python3/dist-packages/pandas/io/parsers.py\u001b[0m in \u001b[0;36m_make_engine\u001b[0;34m(self, engine)\u001b[0m\n\u001b[1;32m   1133\u001b[0m     \u001b[0;32mdef\u001b[0m \u001b[0m_make_engine\u001b[0m\u001b[0;34m(\u001b[0m\u001b[0mself\u001b[0m\u001b[0;34m,\u001b[0m \u001b[0mengine\u001b[0m\u001b[0;34m=\u001b[0m\u001b[0;34m\"c\"\u001b[0m\u001b[0;34m)\u001b[0m\u001b[0;34m:\u001b[0m\u001b[0;34m\u001b[0m\u001b[0;34m\u001b[0m\u001b[0m\n\u001b[1;32m   1134\u001b[0m         \u001b[0;32mif\u001b[0m \u001b[0mengine\u001b[0m \u001b[0;34m==\u001b[0m \u001b[0;34m\"c\"\u001b[0m\u001b[0;34m:\u001b[0m\u001b[0;34m\u001b[0m\u001b[0;34m\u001b[0m\u001b[0m\n\u001b[0;32m-> 1135\u001b[0;31m             \u001b[0mself\u001b[0m\u001b[0;34m.\u001b[0m\u001b[0m_engine\u001b[0m \u001b[0;34m=\u001b[0m \u001b[0mCParserWrapper\u001b[0m\u001b[0;34m(\u001b[0m\u001b[0mself\u001b[0m\u001b[0;34m.\u001b[0m\u001b[0mf\u001b[0m\u001b[0;34m,\u001b[0m \u001b[0;34m**\u001b[0m\u001b[0mself\u001b[0m\u001b[0;34m.\u001b[0m\u001b[0moptions\u001b[0m\u001b[0;34m)\u001b[0m\u001b[0;34m\u001b[0m\u001b[0;34m\u001b[0m\u001b[0m\n\u001b[0m\u001b[1;32m   1136\u001b[0m         \u001b[0;32melse\u001b[0m\u001b[0;34m:\u001b[0m\u001b[0;34m\u001b[0m\u001b[0;34m\u001b[0m\u001b[0m\n\u001b[1;32m   1137\u001b[0m             \u001b[0;32mif\u001b[0m \u001b[0mengine\u001b[0m \u001b[0;34m==\u001b[0m \u001b[0;34m\"python\"\u001b[0m\u001b[0;34m:\u001b[0m\u001b[0;34m\u001b[0m\u001b[0;34m\u001b[0m\u001b[0m\n",
      "\u001b[0;32m/usr/lib/python3/dist-packages/pandas/io/parsers.py\u001b[0m in \u001b[0;36m__init__\u001b[0;34m(self, src, **kwds)\u001b[0m\n\u001b[1;32m   1977\u001b[0m \u001b[0;34m\u001b[0m\u001b[0m\n\u001b[1;32m   1978\u001b[0m                 \u001b[0mself\u001b[0m\u001b[0;34m.\u001b[0m\u001b[0m_name_processed\u001b[0m \u001b[0;34m=\u001b[0m \u001b[0;32mTrue\u001b[0m\u001b[0;34m\u001b[0m\u001b[0;34m\u001b[0m\u001b[0m\n\u001b[0;32m-> 1979\u001b[0;31m                 (index_names, self.names, self.index_col) = _clean_index_names(\n\u001b[0m\u001b[1;32m   1980\u001b[0m                     \u001b[0mself\u001b[0m\u001b[0;34m.\u001b[0m\u001b[0mnames\u001b[0m\u001b[0;34m,\u001b[0m \u001b[0mself\u001b[0m\u001b[0;34m.\u001b[0m\u001b[0mindex_col\u001b[0m\u001b[0;34m,\u001b[0m \u001b[0mself\u001b[0m\u001b[0;34m.\u001b[0m\u001b[0munnamed_cols\u001b[0m\u001b[0;34m\u001b[0m\u001b[0;34m\u001b[0m\u001b[0m\n\u001b[1;32m   1981\u001b[0m                 )\n",
      "\u001b[0;32m/usr/lib/python3/dist-packages/pandas/io/parsers.py\u001b[0m in \u001b[0;36m_clean_index_names\u001b[0;34m(columns, index_col, unnamed_cols)\u001b[0m\n\u001b[1;32m   3450\u001b[0m                     \u001b[0;32mbreak\u001b[0m\u001b[0;34m\u001b[0m\u001b[0;34m\u001b[0m\u001b[0m\n\u001b[1;32m   3451\u001b[0m         \u001b[0;32melse\u001b[0m\u001b[0;34m:\u001b[0m\u001b[0;34m\u001b[0m\u001b[0;34m\u001b[0m\u001b[0m\n\u001b[0;32m-> 3452\u001b[0;31m             \u001b[0mname\u001b[0m \u001b[0;34m=\u001b[0m \u001b[0mcp_cols\u001b[0m\u001b[0;34m[\u001b[0m\u001b[0mc\u001b[0m\u001b[0;34m]\u001b[0m\u001b[0;34m\u001b[0m\u001b[0;34m\u001b[0m\u001b[0m\n\u001b[0m\u001b[1;32m   3453\u001b[0m             \u001b[0mcolumns\u001b[0m\u001b[0;34m.\u001b[0m\u001b[0mremove\u001b[0m\u001b[0;34m(\u001b[0m\u001b[0mname\u001b[0m\u001b[0;34m)\u001b[0m\u001b[0;34m\u001b[0m\u001b[0;34m\u001b[0m\u001b[0m\n\u001b[1;32m   3454\u001b[0m             \u001b[0mindex_names\u001b[0m\u001b[0;34m.\u001b[0m\u001b[0mappend\u001b[0m\u001b[0;34m(\u001b[0m\u001b[0mname\u001b[0m\u001b[0;34m)\u001b[0m\u001b[0;34m\u001b[0m\u001b[0;34m\u001b[0m\u001b[0m\n",
      "\u001b[0;31mIndexError\u001b[0m: list index out of range"
     ]
    }
   ],
   "source": [
    "#get Xtain, ytrain and  Xval, yval\n",
    "from sklearn.model_selection import train_test_split\n",
    "\n",
    "df_cher_Bvot_X = pd.read_csv('dataset/XbaseCher_Bvot.csv', index_col=[0,1,2,3])\n",
    "df_cher_Bvot_y = pd.read_csv('dataset/labels/yDataCher_Bvot_DP.csv')\n",
    "\n",
    "print(df_cher_Bvot_X['CODCAN'])\n",
    "\n",
    "\n",
    "X_cher_Bvot = df_cher_Bvot_X.copy()\n",
    "y_cher_Bvot = df_cher_Bvot_y.copy()\n",
    "\n",
    "print(f'shape x {X_cher_Bvot.shape} shape y {y_cher_Bvot.shape}')\n",
    "\n",
    "X = pd.concat([X_cher_Bvot, y_cher_Bvot], axis=1)\n",
    "\n",
    "X.info(verbose=True)\n",
    "\n",
    "# retourne les donnee associe a un duel\n",
    "def getTrainSets(X, y, canton, col_canton_name='CODCAN'):\n",
    "    duel = duels[canton] #le duel qu'on cherche on predire\n",
    "    selected_canton = [] #les canton qui contiennent le duel que l'on cherche \n",
    "    for key, nuance_list in duels.items():\n",
    "        if all(nuance in nuance_list for nuance in duel): #filtre les cantons qui contiennent notre duel\n",
    "            selected_canton.append(key)\n",
    "\n",
    "    mask_X = X[X[col_canton_name]==canton]\n",
    "    mask_X = X[X[col_canton_name]==canton]\n",
    "    for canton_ in selected_canton:\n",
    "        mask_X += X[X[col_canton_name]==canton_]\n",
    "        mask_y += X[X[col_canton_name]==canton_]\n",
    "        \n",
    "    return (X[mask_X], y[mask_y])\n",
    "\n",
    "X_canton1 = getTrainSets(X, str(1))\n",
    "#X_train, X_test, y_train, y_test = train_test_split(X_canton1, y_canton1, test_size=0.2, random_state=42)"
   ]
  }
 ],
 "metadata": {
  "kernelspec": {
   "name": "python3",
   "display_name": "Python 3.8.5 64-bit"
  },
  "language_info": {
   "codemirror_mode": {
    "name": "ipython",
    "version": 3
   },
   "file_extension": ".py",
   "mimetype": "text/x-python",
   "name": "python",
   "nbconvert_exporter": "python",
   "pygments_lexer": "ipython3",
   "version": "3.8.5"
  },
  "interpreter": {
   "hash": "767d51c1340bd893661ea55ea3124f6de3c7a262a8b4abca0554b478b1e2ff90"
  }
 },
 "nbformat": 4,
 "nbformat_minor": 5
}